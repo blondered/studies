{
 "cells": [
  {
   "cell_type": "raw",
   "metadata": {},
   "source": [
    "# Библиотека Pandas"
   ]
  },
  {
   "cell_type": "markdown",
   "metadata": {},
   "source": [
    "## Data Frame"
   ]
  },
  {
   "cell_type": "code",
   "execution_count": 1,
   "metadata": {},
   "outputs": [],
   "source": [
    "import pandas as pd\n",
    "import numpy as np"
   ]
  },
  {
   "cell_type": "code",
   "execution_count": 3,
   "metadata": {},
   "outputs": [],
   "source": [
    "#создание DataFrame по столбцам с помощью словарей\n",
    "frame = pd.DataFrame({'numbers':range(10), 'chars':['a']*10})"
   ]
  },
  {
   "cell_type": "markdown",
   "metadata": {},
   "source": [
    "## Фильтрация : filter, булевые векторы, lambda для фильтрации. Статистики по отфильтрованным данным"
   ]
  },
  {
   "cell_type": "code",
   "execution_count": 4,
   "metadata": {},
   "outputs": [],
   "source": [
    "student_stats = pd.read_csv('StudentsPerformance.csv')"
   ]
  },
  {
   "cell_type": "code",
   "execution_count": 30,
   "metadata": {
    "scrolled": false
   },
   "outputs": [
    {
     "data": {
      "text/html": [
       "<div>\n",
       "<style scoped>\n",
       "    .dataframe tbody tr th:only-of-type {\n",
       "        vertical-align: middle;\n",
       "    }\n",
       "\n",
       "    .dataframe tbody tr th {\n",
       "        vertical-align: top;\n",
       "    }\n",
       "\n",
       "    .dataframe thead th {\n",
       "        text-align: right;\n",
       "    }\n",
       "</style>\n",
       "<table border=\"1\" class=\"dataframe\">\n",
       "  <thead>\n",
       "    <tr style=\"text-align: right;\">\n",
       "      <th></th>\n",
       "      <th>gender</th>\n",
       "      <th>race/ethnicity</th>\n",
       "      <th>parental level of education</th>\n",
       "      <th>lunch</th>\n",
       "      <th>test preparation course</th>\n",
       "      <th>math score</th>\n",
       "      <th>reading score</th>\n",
       "      <th>writing score</th>\n",
       "    </tr>\n",
       "  </thead>\n",
       "  <tbody>\n",
       "    <tr>\n",
       "      <th>0</th>\n",
       "      <td>female</td>\n",
       "      <td>group B</td>\n",
       "      <td>bachelor's degree</td>\n",
       "      <td>standard</td>\n",
       "      <td>none</td>\n",
       "      <td>72</td>\n",
       "      <td>72</td>\n",
       "      <td>74</td>\n",
       "    </tr>\n",
       "    <tr>\n",
       "      <th>1</th>\n",
       "      <td>female</td>\n",
       "      <td>group C</td>\n",
       "      <td>some college</td>\n",
       "      <td>standard</td>\n",
       "      <td>completed</td>\n",
       "      <td>69</td>\n",
       "      <td>90</td>\n",
       "      <td>88</td>\n",
       "    </tr>\n",
       "    <tr>\n",
       "      <th>2</th>\n",
       "      <td>female</td>\n",
       "      <td>group B</td>\n",
       "      <td>master's degree</td>\n",
       "      <td>standard</td>\n",
       "      <td>none</td>\n",
       "      <td>90</td>\n",
       "      <td>95</td>\n",
       "      <td>93</td>\n",
       "    </tr>\n",
       "    <tr>\n",
       "      <th>3</th>\n",
       "      <td>male</td>\n",
       "      <td>group A</td>\n",
       "      <td>associate's degree</td>\n",
       "      <td>free/reduced</td>\n",
       "      <td>none</td>\n",
       "      <td>47</td>\n",
       "      <td>57</td>\n",
       "      <td>44</td>\n",
       "    </tr>\n",
       "    <tr>\n",
       "      <th>4</th>\n",
       "      <td>male</td>\n",
       "      <td>group C</td>\n",
       "      <td>some college</td>\n",
       "      <td>standard</td>\n",
       "      <td>none</td>\n",
       "      <td>76</td>\n",
       "      <td>78</td>\n",
       "      <td>75</td>\n",
       "    </tr>\n",
       "  </tbody>\n",
       "</table>\n",
       "</div>"
      ],
      "text/plain": [
       "   gender race/ethnicity parental level of education         lunch  \\\n",
       "0  female        group B           bachelor's degree      standard   \n",
       "1  female        group C                some college      standard   \n",
       "2  female        group B             master's degree      standard   \n",
       "3    male        group A          associate's degree  free/reduced   \n",
       "4    male        group C                some college      standard   \n",
       "\n",
       "  test preparation course  math score  reading score  writing score  \n",
       "0                    none          72             72             74  \n",
       "1               completed          69             90             88  \n",
       "2                    none          90             95             93  \n",
       "3                    none          47             57             44  \n",
       "4                    none          76             78             75  "
      ]
     },
     "execution_count": 30,
     "metadata": {},
     "output_type": "execute_result"
    }
   ],
   "source": [
    "student_stats.head()"
   ]
  },
  {
   "cell_type": "code",
   "execution_count": 26,
   "metadata": {},
   "outputs": [
    {
     "data": {
      "text/html": [
       "<div>\n",
       "<style scoped>\n",
       "    .dataframe tbody tr th:only-of-type {\n",
       "        vertical-align: middle;\n",
       "    }\n",
       "\n",
       "    .dataframe tbody tr th {\n",
       "        vertical-align: top;\n",
       "    }\n",
       "\n",
       "    .dataframe thead th {\n",
       "        text-align: right;\n",
       "    }\n",
       "</style>\n",
       "<table border=\"1\" class=\"dataframe\">\n",
       "  <thead>\n",
       "    <tr style=\"text-align: right;\">\n",
       "      <th></th>\n",
       "      <th>math score</th>\n",
       "      <th>reading score</th>\n",
       "      <th>writing score</th>\n",
       "    </tr>\n",
       "  </thead>\n",
       "  <tbody>\n",
       "    <tr>\n",
       "      <th>0</th>\n",
       "      <td>72</td>\n",
       "      <td>72</td>\n",
       "      <td>74</td>\n",
       "    </tr>\n",
       "    <tr>\n",
       "      <th>1</th>\n",
       "      <td>69</td>\n",
       "      <td>90</td>\n",
       "      <td>88</td>\n",
       "    </tr>\n",
       "    <tr>\n",
       "      <th>2</th>\n",
       "      <td>90</td>\n",
       "      <td>95</td>\n",
       "      <td>93</td>\n",
       "    </tr>\n",
       "    <tr>\n",
       "      <th>3</th>\n",
       "      <td>47</td>\n",
       "      <td>57</td>\n",
       "      <td>44</td>\n",
       "    </tr>\n",
       "    <tr>\n",
       "      <th>4</th>\n",
       "      <td>76</td>\n",
       "      <td>78</td>\n",
       "      <td>75</td>\n",
       "    </tr>\n",
       "    <tr>\n",
       "      <th>...</th>\n",
       "      <td>...</td>\n",
       "      <td>...</td>\n",
       "      <td>...</td>\n",
       "    </tr>\n",
       "    <tr>\n",
       "      <th>995</th>\n",
       "      <td>88</td>\n",
       "      <td>99</td>\n",
       "      <td>95</td>\n",
       "    </tr>\n",
       "    <tr>\n",
       "      <th>996</th>\n",
       "      <td>62</td>\n",
       "      <td>55</td>\n",
       "      <td>55</td>\n",
       "    </tr>\n",
       "    <tr>\n",
       "      <th>997</th>\n",
       "      <td>59</td>\n",
       "      <td>71</td>\n",
       "      <td>65</td>\n",
       "    </tr>\n",
       "    <tr>\n",
       "      <th>998</th>\n",
       "      <td>68</td>\n",
       "      <td>78</td>\n",
       "      <td>77</td>\n",
       "    </tr>\n",
       "    <tr>\n",
       "      <th>999</th>\n",
       "      <td>77</td>\n",
       "      <td>86</td>\n",
       "      <td>86</td>\n",
       "    </tr>\n",
       "  </tbody>\n",
       "</table>\n",
       "<p>1000 rows × 3 columns</p>\n",
       "</div>"
      ],
      "text/plain": [
       "     math score  reading score  writing score\n",
       "0            72             72             74\n",
       "1            69             90             88\n",
       "2            90             95             93\n",
       "3            47             57             44\n",
       "4            76             78             75\n",
       "..          ...            ...            ...\n",
       "995          88             99             95\n",
       "996          62             55             55\n",
       "997          59             71             65\n",
       "998          68             78             77\n",
       "999          77             86             86\n",
       "\n",
       "[1000 rows x 3 columns]"
      ]
     },
     "execution_count": 26,
     "metadata": {},
     "output_type": "execute_result"
    }
   ],
   "source": [
    "student_stats.filter(like = 'score', axis = 1)"
   ]
  },
  {
   "cell_type": "code",
   "execution_count": 6,
   "metadata": {},
   "outputs": [
    {
     "data": {
      "text/plain": [
       "array(['standard', 'free/reduced'], dtype=object)"
      ]
     },
     "execution_count": 6,
     "metadata": {},
     "output_type": "execute_result"
    }
   ],
   "source": [
    "student_stats['lunch'].unique()  # выведем уникальные значения в категориальном или порядковом признаке"
   ]
  },
  {
   "cell_type": "code",
   "execution_count": 31,
   "metadata": {},
   "outputs": [
    {
     "data": {
      "text/plain": [
       "math score       70.034109\n",
       "reading score    71.654264\n",
       "writing score    70.823256\n",
       "dtype: float64"
      ]
     },
     "execution_count": 31,
     "metadata": {},
     "output_type": "execute_result"
    }
   ],
   "source": [
    "student_stats[student_stats['lunch'] == 'standard'].mean()"
   ]
  },
  {
   "cell_type": "code",
   "execution_count": 9,
   "metadata": {},
   "outputs": [
    {
     "data": {
      "text/html": [
       "<div>\n",
       "<style scoped>\n",
       "    .dataframe tbody tr th:only-of-type {\n",
       "        vertical-align: middle;\n",
       "    }\n",
       "\n",
       "    .dataframe tbody tr th {\n",
       "        vertical-align: top;\n",
       "    }\n",
       "\n",
       "    .dataframe thead th {\n",
       "        text-align: right;\n",
       "    }\n",
       "</style>\n",
       "<table border=\"1\" class=\"dataframe\">\n",
       "  <thead>\n",
       "    <tr style=\"text-align: right;\">\n",
       "      <th></th>\n",
       "      <th>lunch</th>\n",
       "    </tr>\n",
       "  </thead>\n",
       "  <tbody>\n",
       "    <tr>\n",
       "      <th>0</th>\n",
       "      <td>standard</td>\n",
       "    </tr>\n",
       "    <tr>\n",
       "      <th>1</th>\n",
       "      <td>standard</td>\n",
       "    </tr>\n",
       "    <tr>\n",
       "      <th>2</th>\n",
       "      <td>standard</td>\n",
       "    </tr>\n",
       "    <tr>\n",
       "      <th>5</th>\n",
       "      <td>standard</td>\n",
       "    </tr>\n",
       "    <tr>\n",
       "      <th>6</th>\n",
       "      <td>standard</td>\n",
       "    </tr>\n",
       "    <tr>\n",
       "      <th>...</th>\n",
       "      <td>...</td>\n",
       "    </tr>\n",
       "    <tr>\n",
       "      <th>993</th>\n",
       "      <td>free/reduced</td>\n",
       "    </tr>\n",
       "    <tr>\n",
       "      <th>995</th>\n",
       "      <td>standard</td>\n",
       "    </tr>\n",
       "    <tr>\n",
       "      <th>997</th>\n",
       "      <td>free/reduced</td>\n",
       "    </tr>\n",
       "    <tr>\n",
       "      <th>998</th>\n",
       "      <td>standard</td>\n",
       "    </tr>\n",
       "    <tr>\n",
       "      <th>999</th>\n",
       "      <td>free/reduced</td>\n",
       "    </tr>\n",
       "  </tbody>\n",
       "</table>\n",
       "<p>518 rows × 1 columns</p>\n",
       "</div>"
      ],
      "text/plain": [
       "            lunch\n",
       "0        standard\n",
       "1        standard\n",
       "2        standard\n",
       "5        standard\n",
       "6        standard\n",
       "..            ...\n",
       "993  free/reduced\n",
       "995      standard\n",
       "997  free/reduced\n",
       "998      standard\n",
       "999  free/reduced\n",
       "\n",
       "[518 rows x 1 columns]"
      ]
     },
     "execution_count": 9,
     "metadata": {},
     "output_type": "execute_result"
    }
   ],
   "source": [
    "student_stats.loc[student_stats['gender'] == 'female', ['lunch']]"
   ]
  },
  {
   "cell_type": "code",
   "execution_count": 12,
   "metadata": {},
   "outputs": [
    {
     "data": {
      "text/plain": [
       "standard        87\n",
       "free/reduced    53\n",
       "Name: lunch, dtype: int64"
      ]
     },
     "execution_count": 12,
     "metadata": {},
     "output_type": "execute_result"
    }
   ],
   "source": [
    "student_stats.loc[(student_stats['gender'] == 'female') &\n",
    "     (student_stats['race/ethnicity'].isin(['group A', \n",
    "                                   'group B'])), 'lunch'].value_counts()  #Вместо кросстаба : корректный детальный запрос"
   ]
  },
  {
   "cell_type": "code",
   "execution_count": 32,
   "metadata": {},
   "outputs": [
    {
     "data": {
      "text/plain": [
       "math score       58.921127\n",
       "reading score    64.653521\n",
       "writing score    63.022535\n",
       "dtype: float64"
      ]
     },
     "execution_count": 32,
     "metadata": {},
     "output_type": "execute_result"
    }
   ],
   "source": [
    "student_stats[student_stats['lunch'] == 'free/reduced'].mean()"
   ]
  },
  {
   "cell_type": "code",
   "execution_count": 49,
   "metadata": {},
   "outputs": [
    {
     "data": {
      "text/html": [
       "<div>\n",
       "<style scoped>\n",
       "    .dataframe tbody tr th:only-of-type {\n",
       "        vertical-align: middle;\n",
       "    }\n",
       "\n",
       "    .dataframe tbody tr th {\n",
       "        vertical-align: top;\n",
       "    }\n",
       "\n",
       "    .dataframe thead tr th {\n",
       "        text-align: left;\n",
       "    }\n",
       "\n",
       "    .dataframe thead tr:last-of-type th {\n",
       "        text-align: right;\n",
       "    }\n",
       "</style>\n",
       "<table border=\"1\" class=\"dataframe\">\n",
       "  <thead>\n",
       "    <tr>\n",
       "      <th></th>\n",
       "      <th colspan=\"2\" halign=\"left\">math score</th>\n",
       "      <th colspan=\"2\" halign=\"left\">reading score</th>\n",
       "      <th colspan=\"2\" halign=\"left\">writing score</th>\n",
       "    </tr>\n",
       "    <tr>\n",
       "      <th></th>\n",
       "      <th>mean</th>\n",
       "      <th>std</th>\n",
       "      <th>mean</th>\n",
       "      <th>std</th>\n",
       "      <th>mean</th>\n",
       "      <th>std</th>\n",
       "    </tr>\n",
       "    <tr>\n",
       "      <th>lunch</th>\n",
       "      <th></th>\n",
       "      <th></th>\n",
       "      <th></th>\n",
       "      <th></th>\n",
       "      <th></th>\n",
       "      <th></th>\n",
       "    </tr>\n",
       "  </thead>\n",
       "  <tbody>\n",
       "    <tr>\n",
       "      <th>free/reduced</th>\n",
       "      <td>58.921127</td>\n",
       "      <td>15.159956</td>\n",
       "      <td>64.653521</td>\n",
       "      <td>14.895339</td>\n",
       "      <td>63.022535</td>\n",
       "      <td>15.433823</td>\n",
       "    </tr>\n",
       "    <tr>\n",
       "      <th>standard</th>\n",
       "      <td>70.034109</td>\n",
       "      <td>13.653501</td>\n",
       "      <td>71.654264</td>\n",
       "      <td>13.830602</td>\n",
       "      <td>70.823256</td>\n",
       "      <td>14.339487</td>\n",
       "    </tr>\n",
       "  </tbody>\n",
       "</table>\n",
       "</div>"
      ],
      "text/plain": [
       "             math score            reading score            writing score  \\\n",
       "                   mean        std          mean        std          mean   \n",
       "lunch                                                                       \n",
       "free/reduced  58.921127  15.159956     64.653521  14.895339     63.022535   \n",
       "standard      70.034109  13.653501     71.654264  13.830602     70.823256   \n",
       "\n",
       "                         \n",
       "                    std  \n",
       "lunch                    \n",
       "free/reduced  15.433823  \n",
       "standard      14.339487  "
      ]
     },
     "execution_count": 49,
     "metadata": {},
     "output_type": "execute_result"
    }
   ],
   "source": [
    "student_stats.groupby('lunch')[['math score', 'reading score', 'writing score']].agg([np.mean, np.std])  \n",
    "#более честкий запрос на среднее и отклонение через группировку и аггрегацию"
   ]
  },
  {
   "cell_type": "code",
   "execution_count": 34,
   "metadata": {},
   "outputs": [
    {
     "data": {
      "text/plain": [
       "88"
      ]
     },
     "execution_count": 34,
     "metadata": {},
     "output_type": "execute_result"
    }
   ],
   "source": [
    "student_stats[(student_stats[\"lunch\"] == 'free/reduced') & \n",
    "              (student_stats[\"race/ethnicity\"] == \"group B\")][\"math score\"].max() #просто пример множественного отбора"
   ]
  },
  {
   "cell_type": "code",
   "execution_count": 37,
   "metadata": {},
   "outputs": [
    {
     "data": {
      "text/plain": [
       "math score        0\n",
       "reading score    17\n",
       "writing score    10\n",
       "dtype: int64"
      ]
     },
     "execution_count": 37,
     "metadata": {},
     "output_type": "execute_result"
    }
   ],
   "source": [
    "student_stats.filter(like = 'score', axis = 1).apply(np.min) # применили функцию к столбцам отфильтрованного датафрейма"
   ]
  },
  {
   "cell_type": "code",
   "execution_count": 38,
   "metadata": {},
   "outputs": [
    {
     "data": {
      "text/html": [
       "<div>\n",
       "<style scoped>\n",
       "    .dataframe tbody tr th:only-of-type {\n",
       "        vertical-align: middle;\n",
       "    }\n",
       "\n",
       "    .dataframe tbody tr th {\n",
       "        vertical-align: top;\n",
       "    }\n",
       "\n",
       "    .dataframe thead th {\n",
       "        text-align: right;\n",
       "    }\n",
       "</style>\n",
       "<table border=\"1\" class=\"dataframe\">\n",
       "  <thead>\n",
       "    <tr style=\"text-align: right;\">\n",
       "      <th></th>\n",
       "      <th>gender</th>\n",
       "      <th>race/ethnicity</th>\n",
       "      <th>parental level of education</th>\n",
       "      <th>lunch</th>\n",
       "      <th>test preparation course</th>\n",
       "      <th>math score</th>\n",
       "      <th>reading score</th>\n",
       "      <th>writing score</th>\n",
       "    </tr>\n",
       "  </thead>\n",
       "  <tbody>\n",
       "    <tr>\n",
       "      <th>0</th>\n",
       "      <td>female</td>\n",
       "      <td>group B</td>\n",
       "      <td>bachelor's degree</td>\n",
       "      <td>standard</td>\n",
       "      <td>none</td>\n",
       "      <td>72</td>\n",
       "      <td>72</td>\n",
       "      <td>74</td>\n",
       "    </tr>\n",
       "    <tr>\n",
       "      <th>1</th>\n",
       "      <td>female</td>\n",
       "      <td>group C</td>\n",
       "      <td>some college</td>\n",
       "      <td>standard</td>\n",
       "      <td>completed</td>\n",
       "      <td>69</td>\n",
       "      <td>90</td>\n",
       "      <td>88</td>\n",
       "    </tr>\n",
       "    <tr>\n",
       "      <th>2</th>\n",
       "      <td>female</td>\n",
       "      <td>group B</td>\n",
       "      <td>master's degree</td>\n",
       "      <td>standard</td>\n",
       "      <td>none</td>\n",
       "      <td>90</td>\n",
       "      <td>95</td>\n",
       "      <td>93</td>\n",
       "    </tr>\n",
       "    <tr>\n",
       "      <th>5</th>\n",
       "      <td>female</td>\n",
       "      <td>group B</td>\n",
       "      <td>associate's degree</td>\n",
       "      <td>standard</td>\n",
       "      <td>none</td>\n",
       "      <td>71</td>\n",
       "      <td>83</td>\n",
       "      <td>78</td>\n",
       "    </tr>\n",
       "    <tr>\n",
       "      <th>6</th>\n",
       "      <td>female</td>\n",
       "      <td>group B</td>\n",
       "      <td>some college</td>\n",
       "      <td>standard</td>\n",
       "      <td>completed</td>\n",
       "      <td>88</td>\n",
       "      <td>95</td>\n",
       "      <td>92</td>\n",
       "    </tr>\n",
       "  </tbody>\n",
       "</table>\n",
       "</div>"
      ],
      "text/plain": [
       "   gender race/ethnicity parental level of education     lunch  \\\n",
       "0  female        group B           bachelor's degree  standard   \n",
       "1  female        group C                some college  standard   \n",
       "2  female        group B             master's degree  standard   \n",
       "5  female        group B          associate's degree  standard   \n",
       "6  female        group B                some college  standard   \n",
       "\n",
       "  test preparation course  math score  reading score  writing score  \n",
       "0                    none          72             72             74  \n",
       "1               completed          69             90             88  \n",
       "2                    none          90             95             93  \n",
       "5                    none          71             83             78  \n",
       "6               completed          88             95             92  "
      ]
     },
     "execution_count": 38,
     "metadata": {},
     "output_type": "execute_result"
    }
   ],
   "source": [
    "student_stats[student_stats[\"gender\"].apply(lambda x: x[0] == \"f\")].head() #apply lambda функцию для фильтрации"
   ]
  },
  {
   "cell_type": "markdown",
   "metadata": {},
   "source": [
    "### Замена значений в столбце: map, replace"
   ]
  },
  {
   "cell_type": "code",
   "execution_count": 41,
   "metadata": {},
   "outputs": [
    {
     "data": {
      "text/html": [
       "<div>\n",
       "<style scoped>\n",
       "    .dataframe tbody tr th:only-of-type {\n",
       "        vertical-align: middle;\n",
       "    }\n",
       "\n",
       "    .dataframe tbody tr th {\n",
       "        vertical-align: top;\n",
       "    }\n",
       "\n",
       "    .dataframe thead th {\n",
       "        text-align: right;\n",
       "    }\n",
       "</style>\n",
       "<table border=\"1\" class=\"dataframe\">\n",
       "  <thead>\n",
       "    <tr style=\"text-align: right;\">\n",
       "      <th></th>\n",
       "      <th>gender</th>\n",
       "      <th>race/ethnicity</th>\n",
       "      <th>parental level of education</th>\n",
       "      <th>lunch</th>\n",
       "      <th>test preparation course</th>\n",
       "      <th>math score</th>\n",
       "      <th>reading score</th>\n",
       "      <th>writing score</th>\n",
       "    </tr>\n",
       "  </thead>\n",
       "  <tbody>\n",
       "    <tr>\n",
       "      <th>0</th>\n",
       "      <td>f</td>\n",
       "      <td>group B</td>\n",
       "      <td>bachelor's degree</td>\n",
       "      <td>standard</td>\n",
       "      <td>none</td>\n",
       "      <td>72</td>\n",
       "      <td>72</td>\n",
       "      <td>74</td>\n",
       "    </tr>\n",
       "    <tr>\n",
       "      <th>1</th>\n",
       "      <td>f</td>\n",
       "      <td>group C</td>\n",
       "      <td>some college</td>\n",
       "      <td>standard</td>\n",
       "      <td>completed</td>\n",
       "      <td>69</td>\n",
       "      <td>90</td>\n",
       "      <td>88</td>\n",
       "    </tr>\n",
       "    <tr>\n",
       "      <th>2</th>\n",
       "      <td>f</td>\n",
       "      <td>group B</td>\n",
       "      <td>master's degree</td>\n",
       "      <td>standard</td>\n",
       "      <td>none</td>\n",
       "      <td>90</td>\n",
       "      <td>95</td>\n",
       "      <td>93</td>\n",
       "    </tr>\n",
       "    <tr>\n",
       "      <th>3</th>\n",
       "      <td>m</td>\n",
       "      <td>group A</td>\n",
       "      <td>associate's degree</td>\n",
       "      <td>free/reduced</td>\n",
       "      <td>none</td>\n",
       "      <td>47</td>\n",
       "      <td>57</td>\n",
       "      <td>44</td>\n",
       "    </tr>\n",
       "    <tr>\n",
       "      <th>4</th>\n",
       "      <td>m</td>\n",
       "      <td>group C</td>\n",
       "      <td>some college</td>\n",
       "      <td>standard</td>\n",
       "      <td>none</td>\n",
       "      <td>76</td>\n",
       "      <td>78</td>\n",
       "      <td>75</td>\n",
       "    </tr>\n",
       "  </tbody>\n",
       "</table>\n",
       "</div>"
      ],
      "text/plain": [
       "  gender race/ethnicity parental level of education         lunch  \\\n",
       "0      f        group B           bachelor's degree      standard   \n",
       "1      f        group C                some college      standard   \n",
       "2      f        group B             master's degree      standard   \n",
       "3      m        group A          associate's degree  free/reduced   \n",
       "4      m        group C                some college      standard   \n",
       "\n",
       "  test preparation course  math score  reading score  writing score  \n",
       "0                    none          72             72             74  \n",
       "1               completed          69             90             88  \n",
       "2                    none          90             95             93  \n",
       "3                    none          47             57             44  \n",
       "4                    none          76             78             75  "
      ]
     },
     "execution_count": 41,
     "metadata": {},
     "output_type": "execute_result"
    }
   ],
   "source": [
    "d = {\"female\": 'f', \"male\": 'm'}\n",
    "student_stats[\"gender\"] = student_stats[\"gender\"].map(d)\n",
    "student_stats.head()"
   ]
  },
  {
   "cell_type": "code",
   "execution_count": 42,
   "metadata": {},
   "outputs": [
    {
     "data": {
      "text/html": [
       "<div>\n",
       "<style scoped>\n",
       "    .dataframe tbody tr th:only-of-type {\n",
       "        vertical-align: middle;\n",
       "    }\n",
       "\n",
       "    .dataframe tbody tr th {\n",
       "        vertical-align: top;\n",
       "    }\n",
       "\n",
       "    .dataframe thead th {\n",
       "        text-align: right;\n",
       "    }\n",
       "</style>\n",
       "<table border=\"1\" class=\"dataframe\">\n",
       "  <thead>\n",
       "    <tr style=\"text-align: right;\">\n",
       "      <th></th>\n",
       "      <th>gender</th>\n",
       "      <th>race/ethnicity</th>\n",
       "      <th>parental level of education</th>\n",
       "      <th>lunch</th>\n",
       "      <th>test preparation course</th>\n",
       "      <th>math score</th>\n",
       "      <th>reading score</th>\n",
       "      <th>writing score</th>\n",
       "    </tr>\n",
       "  </thead>\n",
       "  <tbody>\n",
       "    <tr>\n",
       "      <th>0</th>\n",
       "      <td>fem</td>\n",
       "      <td>group B</td>\n",
       "      <td>bachelor's degree</td>\n",
       "      <td>standard</td>\n",
       "      <td>none</td>\n",
       "      <td>72</td>\n",
       "      <td>72</td>\n",
       "      <td>74</td>\n",
       "    </tr>\n",
       "    <tr>\n",
       "      <th>1</th>\n",
       "      <td>fem</td>\n",
       "      <td>group C</td>\n",
       "      <td>some college</td>\n",
       "      <td>standard</td>\n",
       "      <td>completed</td>\n",
       "      <td>69</td>\n",
       "      <td>90</td>\n",
       "      <td>88</td>\n",
       "    </tr>\n",
       "    <tr>\n",
       "      <th>2</th>\n",
       "      <td>fem</td>\n",
       "      <td>group B</td>\n",
       "      <td>master's degree</td>\n",
       "      <td>standard</td>\n",
       "      <td>none</td>\n",
       "      <td>90</td>\n",
       "      <td>95</td>\n",
       "      <td>93</td>\n",
       "    </tr>\n",
       "    <tr>\n",
       "      <th>3</th>\n",
       "      <td>mal</td>\n",
       "      <td>group A</td>\n",
       "      <td>associate's degree</td>\n",
       "      <td>free/reduced</td>\n",
       "      <td>none</td>\n",
       "      <td>47</td>\n",
       "      <td>57</td>\n",
       "      <td>44</td>\n",
       "    </tr>\n",
       "    <tr>\n",
       "      <th>4</th>\n",
       "      <td>mal</td>\n",
       "      <td>group C</td>\n",
       "      <td>some college</td>\n",
       "      <td>standard</td>\n",
       "      <td>none</td>\n",
       "      <td>76</td>\n",
       "      <td>78</td>\n",
       "      <td>75</td>\n",
       "    </tr>\n",
       "  </tbody>\n",
       "</table>\n",
       "</div>"
      ],
      "text/plain": [
       "  gender race/ethnicity parental level of education         lunch  \\\n",
       "0    fem        group B           bachelor's degree      standard   \n",
       "1    fem        group C                some college      standard   \n",
       "2    fem        group B             master's degree      standard   \n",
       "3    mal        group A          associate's degree  free/reduced   \n",
       "4    mal        group C                some college      standard   \n",
       "\n",
       "  test preparation course  math score  reading score  writing score  \n",
       "0                    none          72             72             74  \n",
       "1               completed          69             90             88  \n",
       "2                    none          90             95             93  \n",
       "3                    none          47             57             44  \n",
       "4                    none          76             78             75  "
      ]
     },
     "execution_count": 42,
     "metadata": {},
     "output_type": "execute_result"
    }
   ],
   "source": [
    "di = {\"f\": 'fem', \"m\": 'mal'}\n",
    "student_stats = student_stats.replace({\"gender\": di})\n",
    "student_stats.head()"
   ]
  },
  {
   "cell_type": "markdown",
   "metadata": {},
   "source": [
    "### Добавление и удаление строк и столбцов : append, drop"
   ]
  },
  {
   "cell_type": "code",
   "execution_count": null,
   "metadata": {},
   "outputs": [],
   "source": [
    "new_line = {'Name':'Perov', 'Birth':'22.03.1990', 'City':'Penza'}"
   ]
  },
  {
   "cell_type": "code",
   "execution_count": null,
   "metadata": {},
   "outputs": [],
   "source": [
    "#добавление строки в DataFrame\n",
    "frame.append(new_line, ignore_index=True)"
   ]
  },
  {
   "cell_type": "code",
   "execution_count": null,
   "metadata": {},
   "outputs": [],
   "source": [
    "#добавление строки в DataFrame\n",
    "frame = frame.append(new_line, ignore_index=True)"
   ]
  },
  {
   "cell_type": "code",
   "execution_count": null,
   "metadata": {},
   "outputs": [],
   "source": [
    "#добавление столбца в DataFrame\n",
    "frame['IsStudent'] = [False]*5 + [True]*2"
   ]
  },
  {
   "cell_type": "code",
   "execution_count": null,
   "metadata": {},
   "outputs": [],
   "source": [
    "#удаление строк DataFrame\n",
    "frame.drop([5,6], axis=0)"
   ]
  },
  {
   "cell_type": "code",
   "execution_count": null,
   "metadata": {},
   "outputs": [],
   "source": [
    "#удаление строк DataFrame (inplace)\n",
    "frame.drop([5,6], axis=0, inplace=True)"
   ]
  },
  {
   "cell_type": "code",
   "execution_count": null,
   "metadata": {},
   "outputs": [],
   "source": [
    "#удаление столбца DataFrame (inplace)\n",
    "frame.drop('IsStudent', axis=1, inplace=True)"
   ]
  },
  {
   "cell_type": "code",
   "execution_count": null,
   "metadata": {},
   "outputs": [],
   "source": [
    "total_calls = (\n",
    "    df[\"Total day calls\"]\n",
    "    + df[\"Total eve calls\"]\n",
    "    + df[\"Total night calls\"]\n",
    "    + df[\"Total intl calls\"]\n",
    ")\n",
    "df.insert(loc=len(df.columns), column=\"Total calls\", value=total_calls)\n",
    "# loc parameter is the number of columns after which to insert the Series object\n",
    "# we set it to len(df.columns) to paste it at the very end of the dataframe\n",
    "\n",
    "\n",
    "# Или проще:\n",
    "df[\"Total charge\"] = (\n",
    "    df[\"Total day charge\"]\n",
    "    + df[\"Total eve charge\"]\n",
    "    + df[\"Total night charge\"]\n",
    "    + df[\"Total intl charge\"]\n",
    ")"
   ]
  },
  {
   "cell_type": "code",
   "execution_count": null,
   "metadata": {},
   "outputs": [],
   "source": [
    "#запись DataFrame в файл\n",
    "frame.to_csv('updated_dataset.csv', sep=',', header=True, index=False)"
   ]
  },
  {
   "cell_type": "code",
   "execution_count": 134,
   "metadata": {},
   "outputs": [
    {
     "name": "stdout",
     "output_type": "stream",
     "text": [
      ",attack_type,id,legs,localized_name,name,primary_attr,roles\n",
      "0,Melee,1,2,Anti-Mage,npc_dota_hero_antimage,agi,\"['Carry', 'Escape', 'Nuker']\"\n",
      "1,Melee,2,2,Axe,npc_dota_hero_axe,str,\"['Initiator', 'Durable', 'Disabler', 'Jungler']\"\n",
      "2,Ranged,3,4,Bane,npc_dota_hero_bane,int,\"['Support', 'Disabler', 'Nuker', 'Durable']\"\n",
      "3,Melee,4,2,Bloodseeker,npc_dota_hero_bloodseeker,agi,\"['Carry', 'Disabler', 'Jungler', 'Nuker', 'Initiator']\"\n",
      "4,Ranged,5,2,Crystal Maiden,npc_dota_hero_crystal_maiden,int,\"['Support', 'Disabler', 'Nuker', 'Jungler']\"\n",
      "5,Ranged,6,2,Drow Ranger,npc_dota_hero_drow_ranger,agi,\"['Carry', 'Disabler', 'Pusher']\"\n",
      "6,Melee,7,2,Earthshaker,npc_dota_hero_earthshaker,str,\"['Support', 'Initiator', 'Disabler', 'Nuker']\"\n",
      "7,Melee,8,2,Juggernaut,npc_dota_hero_juggernaut,agi,\"['Carry', 'Pusher', 'Escape']\"\n",
      "8,Ranged,9,2,Mirana,npc_dota_hero_mirana,agi,\"['Carry', 'Support', 'Escape', 'Nuker', 'Disabler']\"\n",
      "9,Ranged,10,0,Morphling,npc_dota_hero_morphling,agi,\"['Carry', 'Escape', 'Durable', 'Nuker', 'Disabler']\"\n",
      "10,Ranged,11,0,Shadow Fiend,npc_dota_hero_nevermore,agi,\"['Carry', 'Nuker']\"\n",
      "11,Melee,12,2,Phantom Lancer,npc_dota_hero_phantom_lancer,agi,\"['Carry', 'Escape', 'Pusher', 'Nuker']\"\n",
      "12,Ranged,13,2,Puck,npc_dota_hero_puck,int,\"['Initiator', 'Disabler', 'Escape', 'Nuker']\"\n",
      "13,Melee,14,2,Pudge,npc_dota_hero_pudge,str,\"['Disabler', 'Initiator', 'Durable', 'Nuker']\"\n",
      "14,Ranged,15,0,Razor,npc_dota_hero_razor,agi,\"['Carry', 'Durable', 'Nuker', 'Pusher']\"\n",
      "15,Melee,16,6,Sand King,npc_dota_hero_sand_king,str,\"['Initiator', 'Disabler', 'Support', 'Nuker', 'Escape', 'Jungler']\"\n",
      "16,Ranged,17,2,Storm Spirit,npc_dota_hero_storm_spirit,int,\"['Carry', 'Escape', 'Nuker', 'Initiator', 'Disabler']\"\n",
      "17,Melee,18,2,Sven,npc_dota_hero_sven,str,\"['Carry', 'Disabler', 'Initiator', 'Durable', 'Nuker']\"\n",
      "18,Melee,19,2,Tiny,npc_dota_hero_tiny,str,\"['Carry', 'Nuker', 'Pusher', 'Initiator', 'Durable', 'Disabler']\"\n",
      "19,Ranged,20,2,Vengeful Spirit,npc_dota_hero_vengefulspirit,agi,\"['Support', 'Initiator', 'Disabler', 'Nuker', 'Escape']\"\n",
      "20,Ranged,21,2,Windranger,npc_dota_hero_windrunner,int,\"['Carry', 'Support', 'Disabler', 'Escape', 'Nuker']\"\n",
      "21,Ranged,22,2,Zeus,npc_dota_hero_zuus,int,['Nuker']\n",
      "22,Melee,23,2,Kunkka,npc_dota_hero_kunkka,str,\"['Carry', 'Support', 'Disabler', 'Initiator', 'Durable', 'Nuker']\"\n",
      "23,Ranged,25,2,Lina,npc_dota_hero_lina,int,\"['Support', 'Carry', 'Nuker', 'Disabler']\"\n",
      "24,Ranged,26,2,Lion,npc_dota_hero_lion,int,\"['Support', 'Disabler', 'Nuker', 'Initiator']\"\n",
      "25,Ranged,27,2,Shadow Shaman,npc_dota_hero_shadow_shaman,int,\"['Support', 'Pusher', 'Disabler', 'Nuker', 'Initiator']\"\n",
      "26,Melee,28,0,Slardar,npc_dota_hero_slardar,str,\"['Carry', 'Durable', 'Initiator', 'Disabler', 'Escape']\"\n",
      "27,Melee,29,2,Tidehunter,npc_dota_hero_tidehunter,str,\"['Initiator', 'Durable', 'Disabler', 'Nuker']\"\n",
      "28,Ranged,30,2,Witch Doctor,npc_dota_hero_witch_doctor,int,\"['Support', 'Nuker', 'Disabler']\"\n",
      "29,Ranged,31,2,Lich,npc_dota_hero_lich,int,\"['Support', 'Nuker']\"\n",
      "30,Melee,32,2,Riki,npc_dota_hero_riki,agi,\"['Carry', 'Escape', 'Disabler']\"\n",
      "31,Ranged,33,0,Enigma,npc_dota_hero_enigma,int,\"['Disabler', 'Jungler', 'Initiator', 'Pusher']\"\n",
      "32,Ranged,34,2,Tinker,npc_dota_hero_tinker,int,\"['Carry', 'Nuker', 'Pusher']\"\n",
      "33,Ranged,35,2,Sniper,npc_dota_hero_sniper,agi,\"['Carry', 'Nuker']\"\n",
      "34,Ranged,36,2,Necrophos,npc_dota_hero_necrolyte,int,\"['Carry', 'Nuker', 'Durable', 'Disabler']\"\n",
      "35,Ranged,37,2,Warlock,npc_dota_hero_warlock,int,\"['Support', 'Initiator', 'Disabler']\"\n",
      "36,Melee,38,2,Beastmaster,npc_dota_hero_beastmaster,str,\"['Initiator', 'Disabler', 'Durable', 'Nuker']\"\n",
      "37,Ranged,39,2,Queen of Pain,npc_dota_hero_queenofpain,int,\"['Carry', 'Nuker', 'Escape']\"\n",
      "38,Ranged,40,0,Venomancer,npc_dota_hero_venomancer,agi,\"['Support', 'Nuker', 'Initiator', 'Pusher', 'Disabler']\"\n",
      "39,Melee,41,2,Faceless Void,npc_dota_hero_faceless_void,agi,\"['Carry', 'Initiator', 'Disabler', 'Escape', 'Durable']\"\n",
      "40,Melee,42,2,Wraith King,npc_dota_hero_skeleton_king,str,\"['Carry', 'Support', 'Durable', 'Disabler', 'Initiator']\"\n",
      "41,Ranged,43,2,Death Prophet,npc_dota_hero_death_prophet,int,\"['Carry', 'Pusher', 'Nuker', 'Disabler']\"\n",
      "42,Melee,44,2,Phantom Assassin,npc_dota_hero_phantom_assassin,agi,\"['Carry', 'Escape']\"\n",
      "43,Ranged,45,2,Pugna,npc_dota_hero_pugna,int,\"['Nuker', 'Pusher']\"\n",
      "44,Ranged,46,2,Templar Assassin,npc_dota_hero_templar_assassin,agi,\"['Carry', 'Escape']\"\n",
      "45,Ranged,47,0,Viper,npc_dota_hero_viper,agi,\"['Carry', 'Durable', 'Initiator', 'Disabler']\"\n",
      "46,Ranged,48,2,Luna,npc_dota_hero_luna,agi,\"['Carry', 'Nuker', 'Pusher']\"\n",
      "47,Melee,49,2,Dragon Knight,npc_dota_hero_dragon_knight,str,\"['Carry', 'Pusher', 'Durable', 'Disabler', 'Initiator', 'Nuker']\"\n",
      "48,Ranged,50,2,Dazzle,npc_dota_hero_dazzle,int,\"['Support', 'Nuker', 'Disabler']\"\n",
      "49,Melee,51,2,Clockwerk,npc_dota_hero_rattletrap,str,\"['Initiator', 'Disabler', 'Durable', 'Nuker']\"\n",
      "50,Ranged,52,4,Leshrac,npc_dota_hero_leshrac,int,\"['Carry', 'Support', 'Nuker', 'Pusher', 'Disabler']\"\n",
      "51,Ranged,53,2,Nature's Prophet,npc_dota_hero_furion,int,\"['Carry', 'Jungler', 'Pusher', 'Escape', 'Nuker']\"\n",
      "52,Melee,54,2,Lifestealer,npc_dota_hero_life_stealer,str,\"['Carry', 'Durable', 'Jungler', 'Escape', 'Disabler']\"\n",
      "53,Melee,55,2,Dark Seer,npc_dota_hero_dark_seer,int,\"['Initiator', 'Jungler', 'Escape', 'Disabler']\"\n",
      "54,Ranged,56,2,Clinkz,npc_dota_hero_clinkz,agi,\"['Carry', 'Escape', 'Pusher']\"\n",
      "55,Melee,57,2,Omniknight,npc_dota_hero_omniknight,str,\"['Support', 'Durable', 'Nuker']\"\n",
      "56,Ranged,58,4,Enchantress,npc_dota_hero_enchantress,int,\"['Support', 'Jungler', 'Pusher', 'Durable', 'Disabler']\"\n",
      "57,Ranged,59,2,Huskar,npc_dota_hero_huskar,str,\"['Carry', 'Durable', 'Initiator']\"\n",
      "58,Melee,60,2,Night Stalker,npc_dota_hero_night_stalker,str,\"['Carry', 'Initiator', 'Durable', 'Disabler', 'Nuker']\"\n",
      "59,Melee,61,8,Broodmother,npc_dota_hero_broodmother,agi,\"['Carry', 'Pusher', 'Escape', 'Nuker']\"\n",
      "60,Melee,62,2,Bounty Hunter,npc_dota_hero_bounty_hunter,agi,\"['Escape', 'Nuker']\"\n",
      "61,Ranged,63,4,Weaver,npc_dota_hero_weaver,agi,\"['Carry', 'Escape']\"\n",
      "62,Ranged,64,2,Jakiro,npc_dota_hero_jakiro,int,\"['Support', 'Nuker', 'Pusher', 'Disabler']\"\n",
      "63,Ranged,65,2,Batrider,npc_dota_hero_batrider,int,\"['Initiator', 'Jungler', 'Disabler', 'Escape']\"\n",
      "64,Ranged,66,2,Chen,npc_dota_hero_chen,int,\"['Support', 'Jungler', 'Pusher']\"\n",
      "65,Melee,67,0,Spectre,npc_dota_hero_spectre,agi,\"['Carry', 'Durable', 'Escape']\"\n",
      "66,Ranged,68,2,Ancient Apparition,npc_dota_hero_ancient_apparition,int,\"['Support', 'Disabler', 'Nuker']\"\n",
      "67,Melee,69,2,Doom,npc_dota_hero_doom_bringer,str,\"['Carry', 'Disabler', 'Initiator', 'Durable', 'Nuker']\"\n",
      "68,Melee,70,2,Ursa,npc_dota_hero_ursa,agi,\"['Carry', 'Jungler', 'Durable', 'Disabler']\"\n",
      "69,Melee,71,2,Spirit Breaker,npc_dota_hero_spirit_breaker,str,\"['Carry', 'Initiator', 'Disabler', 'Durable', 'Escape']\"\n",
      "70,Ranged,72,2,Gyrocopter,npc_dota_hero_gyrocopter,agi,\"['Carry', 'Nuker', 'Disabler']\"\n",
      "71,Melee,73,2,Alchemist,npc_dota_hero_alchemist,str,\"['Carry', 'Support', 'Durable', 'Disabler', 'Initiator', 'Nuker']\"\n",
      "72,Ranged,74,2,Invoker,npc_dota_hero_invoker,int,\"['Carry', 'Nuker', 'Disabler', 'Escape', 'Pusher']\"\n",
      "73,Ranged,75,2,Silencer,npc_dota_hero_silencer,int,\"['Carry', 'Support', 'Disabler', 'Initiator', 'Nuker']\"\n",
      "74,Ranged,76,4,Outworld Devourer,npc_dota_hero_obsidian_destroyer,int,\"['Carry', 'Nuker', 'Disabler']\"\n",
      "75,Melee,77,2,Lycan,npc_dota_hero_lycan,str,\"['Carry', 'Pusher', 'Jungler', 'Durable', 'Escape']\"\n",
      "76,Melee,78,2,Brewmaster,npc_dota_hero_brewmaster,str,\"['Carry', 'Initiator', 'Durable', 'Disabler', 'Nuker']\"\n",
      "77,Ranged,79,2,Shadow Demon,npc_dota_hero_shadow_demon,int,\"['Support', 'Disabler', 'Initiator', 'Nuker']\"\n",
      "78,Ranged,80,2,Lone Druid,npc_dota_hero_lone_druid,agi,\"['Carry', 'Pusher', 'Jungler', 'Durable']\"\n",
      "79,Melee,81,2,Chaos Knight,npc_dota_hero_chaos_knight,str,\"['Carry', 'Disabler', 'Durable', 'Pusher', 'Initiator']\"\n",
      "80,Melee,82,2,Meepo,npc_dota_hero_meepo,agi,\"['Carry', 'Escape', 'Nuker', 'Disabler', 'Initiator', 'Pusher']\"\n",
      "81,Melee,83,2,Treant Protector,npc_dota_hero_treant,str,\"['Support', 'Initiator', 'Durable', 'Disabler', 'Escape']\"\n",
      "82,Melee,84,2,Ogre Magi,npc_dota_hero_ogre_magi,int,\"['Support', 'Nuker', 'Disabler', 'Durable', 'Initiator']\"\n",
      "83,Melee,85,2,Undying,npc_dota_hero_undying,str,\"['Support', 'Durable', 'Disabler', 'Nuker']\"\n",
      "84,Ranged,86,2,Rubick,npc_dota_hero_rubick,int,\"['Support', 'Disabler', 'Nuker']\"\n",
      "85,Ranged,87,2,Disruptor,npc_dota_hero_disruptor,int,\"['Support', 'Disabler', 'Nuker', 'Initiator']\"\n",
      "86,Melee,88,6,Nyx Assassin,npc_dota_hero_nyx_assassin,agi,\"['Disabler', 'Nuker', 'Initiator', 'Escape']\"\n",
      "87,Melee,89,0,Naga Siren,npc_dota_hero_naga_siren,agi,\"['Carry', 'Support', 'Pusher', 'Disabler', 'Initiator', 'Escape']\"\n",
      "88,Ranged,90,2,Keeper of the Light,npc_dota_hero_keeper_of_the_light,int,\"['Support', 'Nuker', 'Disabler', 'Jungler']\"\n",
      "89,Ranged,91,0,Io,npc_dota_hero_wisp,str,\"['Support', 'Escape', 'Nuker']\"\n",
      "90,Ranged,92,2,Visage,npc_dota_hero_visage,int,\"['Support', 'Nuker', 'Durable', 'Disabler', 'Pusher']\"\n",
      "91,Melee,93,2,Slark,npc_dota_hero_slark,agi,\"['Carry', 'Escape', 'Disabler', 'Nuker']\"\n",
      "92,Ranged,94,0,Medusa,npc_dota_hero_medusa,agi,\"['Carry', 'Disabler', 'Durable']\"\n",
      "93,Ranged,95,2,Troll Warlord,npc_dota_hero_troll_warlord,agi,\"['Carry', 'Pusher', 'Disabler', 'Durable']\"\n",
      "94,Melee,96,4,Centaur Warrunner,npc_dota_hero_centaur,str,\"['Durable', 'Initiator', 'Disabler', 'Nuker', 'Escape']\"\n",
      "95,Melee,97,4,Magnus,npc_dota_hero_magnataur,str,\"['Initiator', 'Disabler', 'Nuker', 'Escape']\"\n",
      "96,Melee,98,2,Timbersaw,npc_dota_hero_shredder,str,\"['Nuker', 'Durable', 'Escape']\"\n",
      "97,Melee,99,2,Bristleback,npc_dota_hero_bristleback,str,\"['Carry', 'Durable', 'Initiator', 'Nuker']\"\n",
      "98,Melee,100,2,Tusk,npc_dota_hero_tusk,str,\"['Initiator', 'Disabler', 'Nuker']\"\n",
      "99,Ranged,101,2,Skywrath Mage,npc_dota_hero_skywrath_mage,int,\"['Support', 'Nuker', 'Disabler']\"\n",
      "100,Melee,102,2,Abaddon,npc_dota_hero_abaddon,str,\"['Support', 'Carry', 'Durable']\"\n",
      "101,Melee,103,2,Elder Titan,npc_dota_hero_elder_titan,str,\"['Initiator', 'Disabler', 'Nuker', 'Durable']\"\n",
      "102,Melee,104,2,Legion Commander,npc_dota_hero_legion_commander,str,\"['Carry', 'Disabler', 'Initiator', 'Durable', 'Nuker']\"\n",
      "103,Ranged,105,6,Techies,npc_dota_hero_techies,int,\"['Nuker', 'Disabler']\"\n",
      "104,Melee,106,2,Ember Spirit,npc_dota_hero_ember_spirit,agi,\"['Carry', 'Escape', 'Nuker', 'Disabler', 'Initiator']\"\n",
      "105,Melee,107,2,Earth Spirit,npc_dota_hero_earth_spirit,str,\"['Nuker', 'Escape', 'Disabler', 'Initiator', 'Durable']\"\n",
      "106,Melee,108,2,Underlord,npc_dota_hero_abyssal_underlord,str,\"['Support', 'Nuker', 'Disabler', 'Durable', 'Escape']\"\n",
      "107,Melee,109,2,Terrorblade,npc_dota_hero_terrorblade,agi,\"['Carry', 'Pusher', 'Nuker']\"\n",
      "108,Ranged,110,2,Phoenix,npc_dota_hero_phoenix,str,\"['Support', 'Nuker', 'Initiator', 'Escape', 'Disabler']\"\n",
      "109,Ranged,111,2,Oracle,npc_dota_hero_oracle,int,\"['Support', 'Nuker', 'Disabler', 'Escape']\"\n",
      "110,Ranged,112,2,Winter Wyvern,npc_dota_hero_winter_wyvern,int,\"['Support', 'Disabler', 'Nuker']\"\n",
      "111,Ranged,113,2,Arc Warden,npc_dota_hero_arc_warden,agi,\"['Carry', 'Escape', 'Nuker']\"\n",
      "112,Melee,114,2,Monkey King,npc_dota_hero_monkey_king,agi,\"['Carry', 'Escape', 'Disabler', 'Initiator']\"\n",
      "113,Ranged,119,2,Dark Willow,npc_dota_hero_dark_willow,int,\"['Support', 'Nuker', 'Disabler', 'Escape']\"\n",
      "114,Melee,120,2,Pangolier,npc_dota_hero_pangolier,agi,\"['Carry', 'Nuker', 'Disabler', 'Durable', 'Escape', 'Initiator']\"\n",
      "115,Ranged,121,2,Grimstroke,npc_dota_hero_grimstroke,int,\"['Support', 'Nuker', 'Disabler', 'Escape']\"\n",
      "116,Melee,129,2,Mars,npc_dota_hero_mars,str,\"['Carry', 'Initiator', 'Disabler', 'Durable']\"\n"
     ]
    }
   ],
   "source": [
    "#аналог команды для пользователей Windows\n",
    "!more dota_hero_stats.csv"
   ]
  },
  {
   "cell_type": "markdown",
   "metadata": {},
   "source": [
    "# Groupby, Aggregate, Pivot_table\n",
    "In general, grouping data in Pandas works as follows:\n",
    "\n",
    "df.groupby(by=grouping_columns)[columns_to_show].function()\n",
    "\n",
    "First, the groupby method divides the grouping_columns by their values. They become a new index in the resulting dataframe.\n",
    "\n",
    "Then, columns of interest are selected (columns_to_show). If columns_to_show is not included, all non groupby clauses will be included.\n",
    "\n",
    "Finally, one or several functions are applied to the obtained groups per selected columns."
   ]
  },
  {
   "cell_type": "code",
   "execution_count": 14,
   "metadata": {},
   "outputs": [],
   "source": [
    "dota = pd.read_csv('dota_hero_stats.csv')"
   ]
  },
  {
   "cell_type": "code",
   "execution_count": 46,
   "metadata": {
    "scrolled": true
   },
   "outputs": [
    {
     "data": {
      "text/html": [
       "<div>\n",
       "<style scoped>\n",
       "    .dataframe tbody tr th:only-of-type {\n",
       "        vertical-align: middle;\n",
       "    }\n",
       "\n",
       "    .dataframe tbody tr th {\n",
       "        vertical-align: top;\n",
       "    }\n",
       "\n",
       "    .dataframe thead th {\n",
       "        text-align: right;\n",
       "    }\n",
       "</style>\n",
       "<table border=\"1\" class=\"dataframe\">\n",
       "  <thead>\n",
       "    <tr style=\"text-align: right;\">\n",
       "      <th></th>\n",
       "      <th>Unnamed: 0</th>\n",
       "      <th>attack_type</th>\n",
       "      <th>id</th>\n",
       "      <th>legs</th>\n",
       "      <th>localized_name</th>\n",
       "      <th>name</th>\n",
       "      <th>primary_attr</th>\n",
       "      <th>roles</th>\n",
       "    </tr>\n",
       "  </thead>\n",
       "  <tbody>\n",
       "    <tr>\n",
       "      <th>0</th>\n",
       "      <td>0</td>\n",
       "      <td>Melee</td>\n",
       "      <td>1</td>\n",
       "      <td>2</td>\n",
       "      <td>Anti-Mage</td>\n",
       "      <td>npc_dota_hero_antimage</td>\n",
       "      <td>agi</td>\n",
       "      <td>['Carry', 'Escape', 'Nuker']</td>\n",
       "    </tr>\n",
       "    <tr>\n",
       "      <th>1</th>\n",
       "      <td>1</td>\n",
       "      <td>Melee</td>\n",
       "      <td>2</td>\n",
       "      <td>2</td>\n",
       "      <td>Axe</td>\n",
       "      <td>npc_dota_hero_axe</td>\n",
       "      <td>str</td>\n",
       "      <td>['Initiator', 'Durable', 'Disabler', 'Jungler']</td>\n",
       "    </tr>\n",
       "    <tr>\n",
       "      <th>2</th>\n",
       "      <td>2</td>\n",
       "      <td>Ranged</td>\n",
       "      <td>3</td>\n",
       "      <td>4</td>\n",
       "      <td>Bane</td>\n",
       "      <td>npc_dota_hero_bane</td>\n",
       "      <td>int</td>\n",
       "      <td>['Support', 'Disabler', 'Nuker', 'Durable']</td>\n",
       "    </tr>\n",
       "    <tr>\n",
       "      <th>3</th>\n",
       "      <td>3</td>\n",
       "      <td>Melee</td>\n",
       "      <td>4</td>\n",
       "      <td>2</td>\n",
       "      <td>Bloodseeker</td>\n",
       "      <td>npc_dota_hero_bloodseeker</td>\n",
       "      <td>agi</td>\n",
       "      <td>['Carry', 'Disabler', 'Jungler', 'Nuker', 'Ini...</td>\n",
       "    </tr>\n",
       "    <tr>\n",
       "      <th>4</th>\n",
       "      <td>4</td>\n",
       "      <td>Ranged</td>\n",
       "      <td>5</td>\n",
       "      <td>2</td>\n",
       "      <td>Crystal Maiden</td>\n",
       "      <td>npc_dota_hero_crystal_maiden</td>\n",
       "      <td>int</td>\n",
       "      <td>['Support', 'Disabler', 'Nuker', 'Jungler']</td>\n",
       "    </tr>\n",
       "  </tbody>\n",
       "</table>\n",
       "</div>"
      ],
      "text/plain": [
       "   Unnamed: 0 attack_type  id  legs  localized_name  \\\n",
       "0           0       Melee   1     2       Anti-Mage   \n",
       "1           1       Melee   2     2             Axe   \n",
       "2           2      Ranged   3     4            Bane   \n",
       "3           3       Melee   4     2     Bloodseeker   \n",
       "4           4      Ranged   5     2  Crystal Maiden   \n",
       "\n",
       "                           name primary_attr  \\\n",
       "0        npc_dota_hero_antimage          agi   \n",
       "1             npc_dota_hero_axe          str   \n",
       "2            npc_dota_hero_bane          int   \n",
       "3     npc_dota_hero_bloodseeker          agi   \n",
       "4  npc_dota_hero_crystal_maiden          int   \n",
       "\n",
       "                                               roles  \n",
       "0                       ['Carry', 'Escape', 'Nuker']  \n",
       "1    ['Initiator', 'Durable', 'Disabler', 'Jungler']  \n",
       "2        ['Support', 'Disabler', 'Nuker', 'Durable']  \n",
       "3  ['Carry', 'Disabler', 'Jungler', 'Nuker', 'Ini...  \n",
       "4        ['Support', 'Disabler', 'Nuker', 'Jungler']  "
      ]
     },
     "execution_count": 46,
     "metadata": {},
     "output_type": "execute_result"
    }
   ],
   "source": [
    "dota.head()"
   ]
  },
  {
   "cell_type": "code",
   "execution_count": 132,
   "metadata": {},
   "outputs": [
    {
     "data": {
      "text/html": [
       "<div>\n",
       "<style scoped>\n",
       "    .dataframe tbody tr th:only-of-type {\n",
       "        vertical-align: middle;\n",
       "    }\n",
       "\n",
       "    .dataframe tbody tr th {\n",
       "        vertical-align: top;\n",
       "    }\n",
       "\n",
       "    .dataframe thead th {\n",
       "        text-align: right;\n",
       "    }\n",
       "</style>\n",
       "<table border=\"1\" class=\"dataframe\">\n",
       "  <thead>\n",
       "    <tr style=\"text-align: right;\">\n",
       "      <th></th>\n",
       "      <th>attack_type</th>\n",
       "      <th>localized_name</th>\n",
       "      <th>name</th>\n",
       "      <th>primary_attr</th>\n",
       "      <th>roles</th>\n",
       "    </tr>\n",
       "  </thead>\n",
       "  <tbody>\n",
       "    <tr>\n",
       "      <th>count</th>\n",
       "      <td>117</td>\n",
       "      <td>117</td>\n",
       "      <td>117</td>\n",
       "      <td>117</td>\n",
       "      <td>117</td>\n",
       "    </tr>\n",
       "    <tr>\n",
       "      <th>unique</th>\n",
       "      <td>2</td>\n",
       "      <td>117</td>\n",
       "      <td>117</td>\n",
       "      <td>3</td>\n",
       "      <td>100</td>\n",
       "    </tr>\n",
       "    <tr>\n",
       "      <th>top</th>\n",
       "      <td>Ranged</td>\n",
       "      <td>Arc Warden</td>\n",
       "      <td>npc_dota_hero_weaver</td>\n",
       "      <td>int</td>\n",
       "      <td>['Support', 'Disabler', 'Nuker']</td>\n",
       "    </tr>\n",
       "    <tr>\n",
       "      <th>freq</th>\n",
       "      <td>61</td>\n",
       "      <td>1</td>\n",
       "      <td>1</td>\n",
       "      <td>42</td>\n",
       "      <td>3</td>\n",
       "    </tr>\n",
       "  </tbody>\n",
       "</table>\n",
       "</div>"
      ],
      "text/plain": [
       "       attack_type localized_name                  name primary_attr  \\\n",
       "count          117            117                   117          117   \n",
       "unique           2            117                   117            3   \n",
       "top         Ranged     Arc Warden  npc_dota_hero_weaver          int   \n",
       "freq            61              1                     1           42   \n",
       "\n",
       "                                   roles  \n",
       "count                                117  \n",
       "unique                               100  \n",
       "top     ['Support', 'Disabler', 'Nuker']  \n",
       "freq                                   3  "
      ]
     },
     "execution_count": 132,
     "metadata": {},
     "output_type": "execute_result"
    }
   ],
   "source": [
    "dota.describe(include=[\"object\", 'bool']) # Опишем столбцы с нечисловыми данными"
   ]
  },
  {
   "cell_type": "code",
   "execution_count": 133,
   "metadata": {},
   "outputs": [
    {
     "data": {
      "text/html": [
       "<div>\n",
       "<style scoped>\n",
       "    .dataframe tbody tr th:only-of-type {\n",
       "        vertical-align: middle;\n",
       "    }\n",
       "\n",
       "    .dataframe tbody tr th {\n",
       "        vertical-align: top;\n",
       "    }\n",
       "\n",
       "    .dataframe thead th {\n",
       "        text-align: right;\n",
       "    }\n",
       "</style>\n",
       "<table border=\"1\" class=\"dataframe\">\n",
       "  <thead>\n",
       "    <tr style=\"text-align: right;\">\n",
       "      <th></th>\n",
       "      <th>Unnamed: 0</th>\n",
       "      <th>attack_type</th>\n",
       "      <th>id</th>\n",
       "      <th>legs</th>\n",
       "      <th>localized_name</th>\n",
       "      <th>name</th>\n",
       "      <th>primary_attr</th>\n",
       "      <th>roles</th>\n",
       "      <th>roles_count</th>\n",
       "    </tr>\n",
       "  </thead>\n",
       "  <tbody>\n",
       "    <tr>\n",
       "      <th>92</th>\n",
       "      <td>92</td>\n",
       "      <td>Ranged</td>\n",
       "      <td>94</td>\n",
       "      <td>0</td>\n",
       "      <td>Medusa</td>\n",
       "      <td>npc_dota_hero_medusa</td>\n",
       "      <td>agi</td>\n",
       "      <td>['Carry', 'Disabler', 'Durable']</td>\n",
       "      <td>3</td>\n",
       "    </tr>\n",
       "    <tr>\n",
       "      <th>89</th>\n",
       "      <td>89</td>\n",
       "      <td>Ranged</td>\n",
       "      <td>91</td>\n",
       "      <td>0</td>\n",
       "      <td>Io</td>\n",
       "      <td>npc_dota_hero_wisp</td>\n",
       "      <td>str</td>\n",
       "      <td>['Support', 'Escape', 'Nuker']</td>\n",
       "      <td>3</td>\n",
       "    </tr>\n",
       "    <tr>\n",
       "      <th>87</th>\n",
       "      <td>87</td>\n",
       "      <td>Melee</td>\n",
       "      <td>89</td>\n",
       "      <td>0</td>\n",
       "      <td>Naga Siren</td>\n",
       "      <td>npc_dota_hero_naga_siren</td>\n",
       "      <td>agi</td>\n",
       "      <td>['Carry', 'Support', 'Pusher', 'Disabler', 'In...</td>\n",
       "      <td>6</td>\n",
       "    </tr>\n",
       "    <tr>\n",
       "      <th>65</th>\n",
       "      <td>65</td>\n",
       "      <td>Melee</td>\n",
       "      <td>67</td>\n",
       "      <td>0</td>\n",
       "      <td>Spectre</td>\n",
       "      <td>npc_dota_hero_spectre</td>\n",
       "      <td>agi</td>\n",
       "      <td>['Carry', 'Durable', 'Escape']</td>\n",
       "      <td>3</td>\n",
       "    </tr>\n",
       "    <tr>\n",
       "      <th>45</th>\n",
       "      <td>45</td>\n",
       "      <td>Ranged</td>\n",
       "      <td>47</td>\n",
       "      <td>0</td>\n",
       "      <td>Viper</td>\n",
       "      <td>npc_dota_hero_viper</td>\n",
       "      <td>agi</td>\n",
       "      <td>['Carry', 'Durable', 'Initiator', 'Disabler']</td>\n",
       "      <td>4</td>\n",
       "    </tr>\n",
       "  </tbody>\n",
       "</table>\n",
       "</div>"
      ],
      "text/plain": [
       "    Unnamed: 0 attack_type  id  legs localized_name                      name  \\\n",
       "92          92      Ranged  94     0         Medusa      npc_dota_hero_medusa   \n",
       "89          89      Ranged  91     0             Io        npc_dota_hero_wisp   \n",
       "87          87       Melee  89     0     Naga Siren  npc_dota_hero_naga_siren   \n",
       "65          65       Melee  67     0        Spectre     npc_dota_hero_spectre   \n",
       "45          45      Ranged  47     0          Viper       npc_dota_hero_viper   \n",
       "\n",
       "   primary_attr                                              roles  \\\n",
       "92          agi                   ['Carry', 'Disabler', 'Durable']   \n",
       "89          str                     ['Support', 'Escape', 'Nuker']   \n",
       "87          agi  ['Carry', 'Support', 'Pusher', 'Disabler', 'In...   \n",
       "65          agi                     ['Carry', 'Durable', 'Escape']   \n",
       "45          agi      ['Carry', 'Durable', 'Initiator', 'Disabler']   \n",
       "\n",
       "    roles_count  \n",
       "92            3  \n",
       "89            3  \n",
       "87            6  \n",
       "65            3  \n",
       "45            4  "
      ]
     },
     "execution_count": 133,
     "metadata": {},
     "output_type": "execute_result"
    }
   ],
   "source": [
    "dota.sort_values(by=[\"legs\", \"id\"], ascending=[True, False]).head() #Сортировка"
   ]
  },
  {
   "cell_type": "code",
   "execution_count": 47,
   "metadata": {},
   "outputs": [],
   "source": [
    "dota['roles_count'] = [len(roo[1:-2].split(',')) for roo in dota['roles']] #посчитаем количество ролей"
   ]
  },
  {
   "cell_type": "code",
   "execution_count": 48,
   "metadata": {},
   "outputs": [
    {
     "data": {
      "text/plain": [
       "0    4\n",
       "dtype: int64"
      ]
     },
     "execution_count": 48,
     "metadata": {},
     "output_type": "execute_result"
    }
   ],
   "source": [
    "dota['roles_count'].mode() #Самое частое количество ролей"
   ]
  },
  {
   "cell_type": "code",
   "execution_count": 123,
   "metadata": {},
   "outputs": [
    {
     "data": {
      "text/plain": [
       "2    95\n",
       "0    11\n",
       "4     7\n",
       "6     3\n",
       "8     1\n",
       "Name: legs, dtype: int64"
      ]
     },
     "execution_count": 123,
     "metadata": {},
     "output_type": "execute_result"
    }
   ],
   "source": [
    "dota[\"legs\"].value_counts()    #посчитаем польователей с разным количеством ног"
   ]
  },
  {
   "cell_type": "code",
   "execution_count": 127,
   "metadata": {},
   "outputs": [
    {
     "data": {
      "text/plain": [
       "2    0.811966\n",
       "0    0.094017\n",
       "4    0.059829\n",
       "6    0.025641\n",
       "8    0.008547\n",
       "Name: legs, dtype: float64"
      ]
     },
     "execution_count": 127,
     "metadata": {},
     "output_type": "execute_result"
    }
   ],
   "source": [
    "dota[\"legs\"].value_counts(normalize = True) # И в процентах"
   ]
  },
  {
   "cell_type": "code",
   "execution_count": 19,
   "metadata": {},
   "outputs": [
    {
     "data": {
      "text/html": [
       "<div>\n",
       "<style scoped>\n",
       "    .dataframe tbody tr th:only-of-type {\n",
       "        vertical-align: middle;\n",
       "    }\n",
       "\n",
       "    .dataframe tbody tr th {\n",
       "        vertical-align: top;\n",
       "    }\n",
       "\n",
       "    .dataframe thead th {\n",
       "        text-align: right;\n",
       "    }\n",
       "</style>\n",
       "<table border=\"1\" class=\"dataframe\">\n",
       "  <thead>\n",
       "    <tr style=\"text-align: right;\">\n",
       "      <th></th>\n",
       "      <th>Unnamed: 0</th>\n",
       "      <th>attack_type</th>\n",
       "      <th>id</th>\n",
       "      <th>legs</th>\n",
       "      <th>localized_name</th>\n",
       "      <th>name</th>\n",
       "      <th>primary_attr</th>\n",
       "      <th>roles</th>\n",
       "    </tr>\n",
       "  </thead>\n",
       "  <tbody>\n",
       "    <tr>\n",
       "      <th>2</th>\n",
       "      <td>2</td>\n",
       "      <td>Ranged</td>\n",
       "      <td>3</td>\n",
       "      <td>4</td>\n",
       "      <td>Bane</td>\n",
       "      <td>npc_dota_hero_bane</td>\n",
       "      <td>int</td>\n",
       "      <td>['Support', 'Disabler', 'Nuker', 'Durable']</td>\n",
       "    </tr>\n",
       "    <tr>\n",
       "      <th>50</th>\n",
       "      <td>50</td>\n",
       "      <td>Ranged</td>\n",
       "      <td>52</td>\n",
       "      <td>4</td>\n",
       "      <td>Leshrac</td>\n",
       "      <td>npc_dota_hero_leshrac</td>\n",
       "      <td>int</td>\n",
       "      <td>['Carry', 'Support', 'Nuker', 'Pusher', 'Disab...</td>\n",
       "    </tr>\n",
       "    <tr>\n",
       "      <th>56</th>\n",
       "      <td>56</td>\n",
       "      <td>Ranged</td>\n",
       "      <td>58</td>\n",
       "      <td>4</td>\n",
       "      <td>Enchantress</td>\n",
       "      <td>npc_dota_hero_enchantress</td>\n",
       "      <td>int</td>\n",
       "      <td>['Support', 'Jungler', 'Pusher', 'Durable', 'D...</td>\n",
       "    </tr>\n",
       "    <tr>\n",
       "      <th>61</th>\n",
       "      <td>61</td>\n",
       "      <td>Ranged</td>\n",
       "      <td>63</td>\n",
       "      <td>4</td>\n",
       "      <td>Weaver</td>\n",
       "      <td>npc_dota_hero_weaver</td>\n",
       "      <td>agi</td>\n",
       "      <td>['Carry', 'Escape']</td>\n",
       "    </tr>\n",
       "    <tr>\n",
       "      <th>74</th>\n",
       "      <td>74</td>\n",
       "      <td>Ranged</td>\n",
       "      <td>76</td>\n",
       "      <td>4</td>\n",
       "      <td>Outworld Devourer</td>\n",
       "      <td>npc_dota_hero_obsidian_destroyer</td>\n",
       "      <td>int</td>\n",
       "      <td>['Carry', 'Nuker', 'Disabler']</td>\n",
       "    </tr>\n",
       "    <tr>\n",
       "      <th>94</th>\n",
       "      <td>94</td>\n",
       "      <td>Melee</td>\n",
       "      <td>96</td>\n",
       "      <td>4</td>\n",
       "      <td>Centaur Warrunner</td>\n",
       "      <td>npc_dota_hero_centaur</td>\n",
       "      <td>str</td>\n",
       "      <td>['Durable', 'Initiator', 'Disabler', 'Nuker', ...</td>\n",
       "    </tr>\n",
       "    <tr>\n",
       "      <th>95</th>\n",
       "      <td>95</td>\n",
       "      <td>Melee</td>\n",
       "      <td>97</td>\n",
       "      <td>4</td>\n",
       "      <td>Magnus</td>\n",
       "      <td>npc_dota_hero_magnataur</td>\n",
       "      <td>str</td>\n",
       "      <td>['Initiator', 'Disabler', 'Nuker', 'Escape']</td>\n",
       "    </tr>\n",
       "  </tbody>\n",
       "</table>\n",
       "</div>"
      ],
      "text/plain": [
       "    Unnamed: 0 attack_type  id  legs     localized_name  \\\n",
       "2            2      Ranged   3     4               Bane   \n",
       "50          50      Ranged  52     4            Leshrac   \n",
       "56          56      Ranged  58     4        Enchantress   \n",
       "61          61      Ranged  63     4             Weaver   \n",
       "74          74      Ranged  76     4  Outworld Devourer   \n",
       "94          94       Melee  96     4  Centaur Warrunner   \n",
       "95          95       Melee  97     4             Magnus   \n",
       "\n",
       "                                name primary_attr  \\\n",
       "2                 npc_dota_hero_bane          int   \n",
       "50             npc_dota_hero_leshrac          int   \n",
       "56         npc_dota_hero_enchantress          int   \n",
       "61              npc_dota_hero_weaver          agi   \n",
       "74  npc_dota_hero_obsidian_destroyer          int   \n",
       "94             npc_dota_hero_centaur          str   \n",
       "95           npc_dota_hero_magnataur          str   \n",
       "\n",
       "                                                roles  \n",
       "2         ['Support', 'Disabler', 'Nuker', 'Durable']  \n",
       "50  ['Carry', 'Support', 'Nuker', 'Pusher', 'Disab...  \n",
       "56  ['Support', 'Jungler', 'Pusher', 'Durable', 'D...  \n",
       "61                                ['Carry', 'Escape']  \n",
       "74                     ['Carry', 'Nuker', 'Disabler']  \n",
       "94  ['Durable', 'Initiator', 'Disabler', 'Nuker', ...  \n",
       "95       ['Initiator', 'Disabler', 'Nuker', 'Escape']  "
      ]
     },
     "execution_count": 19,
     "metadata": {},
     "output_type": "execute_result"
    }
   ],
   "source": [
    "num_legs = dota[dota['legs'] == 4].shape[0] # корректный подсчет записей с определенным значением в определенном столбце"
   ]
  },
  {
   "cell_type": "code",
   "execution_count": 6,
   "metadata": {},
   "outputs": [
    {
     "data": {
      "text/html": [
       "<div>\n",
       "<style scoped>\n",
       "    .dataframe tbody tr th:only-of-type {\n",
       "        vertical-align: middle;\n",
       "    }\n",
       "\n",
       "    .dataframe tbody tr th {\n",
       "        vertical-align: top;\n",
       "    }\n",
       "\n",
       "    .dataframe thead th {\n",
       "        text-align: right;\n",
       "    }\n",
       "</style>\n",
       "<table border=\"1\" class=\"dataframe\">\n",
       "  <thead>\n",
       "    <tr style=\"text-align: right;\">\n",
       "      <th>primary_attr</th>\n",
       "      <th>agi</th>\n",
       "      <th>int</th>\n",
       "      <th>str</th>\n",
       "    </tr>\n",
       "    <tr>\n",
       "      <th>attack_type</th>\n",
       "      <th></th>\n",
       "      <th></th>\n",
       "      <th></th>\n",
       "    </tr>\n",
       "  </thead>\n",
       "  <tbody>\n",
       "    <tr>\n",
       "      <th>Melee</th>\n",
       "      <td>19</td>\n",
       "      <td>2</td>\n",
       "      <td>35</td>\n",
       "    </tr>\n",
       "    <tr>\n",
       "      <th>Ranged</th>\n",
       "      <td>18</td>\n",
       "      <td>40</td>\n",
       "      <td>3</td>\n",
       "    </tr>\n",
       "  </tbody>\n",
       "</table>\n",
       "</div>"
      ],
      "text/plain": [
       "primary_attr  agi  int  str\n",
       "attack_type                \n",
       "Melee          19    2   35\n",
       "Ranged         18   40    3"
      ]
     },
     "execution_count": 6,
     "metadata": {},
     "output_type": "execute_result"
    }
   ],
   "source": [
    "dota[['attack_type', 'primary_attr']].pivot_table(index = 'attack_type', columns = 'primary_attr', \n",
    "                                                  aggfunc = len) #найдем самое частое сочетание оружия + атрибут (сводная)"
   ]
  },
  {
   "cell_type": "code",
   "execution_count": 50,
   "metadata": {},
   "outputs": [
    {
     "data": {
      "text/html": [
       "<div>\n",
       "<style scoped>\n",
       "    .dataframe tbody tr th:only-of-type {\n",
       "        vertical-align: middle;\n",
       "    }\n",
       "\n",
       "    .dataframe tbody tr th {\n",
       "        vertical-align: top;\n",
       "    }\n",
       "\n",
       "    .dataframe thead th {\n",
       "        text-align: right;\n",
       "    }\n",
       "</style>\n",
       "<table border=\"1\" class=\"dataframe\">\n",
       "  <thead>\n",
       "    <tr style=\"text-align: right;\">\n",
       "      <th>primary_attr</th>\n",
       "      <th>agi</th>\n",
       "      <th>int</th>\n",
       "      <th>str</th>\n",
       "    </tr>\n",
       "    <tr>\n",
       "      <th>attack_type</th>\n",
       "      <th></th>\n",
       "      <th></th>\n",
       "      <th></th>\n",
       "    </tr>\n",
       "  </thead>\n",
       "  <tbody>\n",
       "    <tr>\n",
       "      <th>Melee</th>\n",
       "      <td>19</td>\n",
       "      <td>2</td>\n",
       "      <td>35</td>\n",
       "    </tr>\n",
       "    <tr>\n",
       "      <th>Ranged</th>\n",
       "      <td>18</td>\n",
       "      <td>40</td>\n",
       "      <td>3</td>\n",
       "    </tr>\n",
       "  </tbody>\n",
       "</table>\n",
       "</div>"
      ],
      "text/plain": [
       "primary_attr  agi  int  str\n",
       "attack_type                \n",
       "Melee          19    2   35\n",
       "Ranged         18   40    3"
      ]
     },
     "execution_count": 50,
     "metadata": {},
     "output_type": "execute_result"
    }
   ],
   "source": [
    "pd.crosstab(dota['attack_type'], dota[\"primary_attr\"]) # то же самое через crosstab"
   ]
  },
  {
   "cell_type": "code",
   "execution_count": 52,
   "metadata": {},
   "outputs": [
    {
     "data": {
      "text/html": [
       "<div>\n",
       "<style scoped>\n",
       "    .dataframe tbody tr th:only-of-type {\n",
       "        vertical-align: middle;\n",
       "    }\n",
       "\n",
       "    .dataframe tbody tr th {\n",
       "        vertical-align: top;\n",
       "    }\n",
       "\n",
       "    .dataframe thead th {\n",
       "        text-align: right;\n",
       "    }\n",
       "</style>\n",
       "<table border=\"1\" class=\"dataframe\">\n",
       "  <thead>\n",
       "    <tr style=\"text-align: right;\">\n",
       "      <th>primary_attr</th>\n",
       "      <th>agi</th>\n",
       "      <th>int</th>\n",
       "      <th>str</th>\n",
       "      <th>All</th>\n",
       "    </tr>\n",
       "    <tr>\n",
       "      <th>attack_type</th>\n",
       "      <th></th>\n",
       "      <th></th>\n",
       "      <th></th>\n",
       "      <th></th>\n",
       "    </tr>\n",
       "  </thead>\n",
       "  <tbody>\n",
       "    <tr>\n",
       "      <th>Melee</th>\n",
       "      <td>0.162393</td>\n",
       "      <td>0.017094</td>\n",
       "      <td>0.299145</td>\n",
       "      <td>0.478632</td>\n",
       "    </tr>\n",
       "    <tr>\n",
       "      <th>Ranged</th>\n",
       "      <td>0.153846</td>\n",
       "      <td>0.341880</td>\n",
       "      <td>0.025641</td>\n",
       "      <td>0.521368</td>\n",
       "    </tr>\n",
       "    <tr>\n",
       "      <th>All</th>\n",
       "      <td>0.316239</td>\n",
       "      <td>0.358974</td>\n",
       "      <td>0.324786</td>\n",
       "      <td>1.000000</td>\n",
       "    </tr>\n",
       "  </tbody>\n",
       "</table>\n",
       "</div>"
      ],
      "text/plain": [
       "primary_attr       agi       int       str       All\n",
       "attack_type                                         \n",
       "Melee         0.162393  0.017094  0.299145  0.478632\n",
       "Ranged        0.153846  0.341880  0.025641  0.521368\n",
       "All           0.316239  0.358974  0.324786  1.000000"
      ]
     },
     "execution_count": 52,
     "metadata": {},
     "output_type": "execute_result"
    }
   ],
   "source": [
    "pd.crosstab(dota['attack_type'], dota[\"primary_attr\"], normalize = True, margins = True) # и в процентах"
   ]
  },
  {
   "cell_type": "markdown",
   "metadata": {},
   "source": [
    "# Melt и Pivot - reshaping"
   ]
  },
  {
   "cell_type": "code",
   "execution_count": 4,
   "metadata": {},
   "outputs": [
    {
     "data": {
      "text/html": [
       "<div>\n",
       "<style scoped>\n",
       "    .dataframe tbody tr th:only-of-type {\n",
       "        vertical-align: middle;\n",
       "    }\n",
       "\n",
       "    .dataframe tbody tr th {\n",
       "        vertical-align: top;\n",
       "    }\n",
       "\n",
       "    .dataframe thead th {\n",
       "        text-align: right;\n",
       "    }\n",
       "</style>\n",
       "<table border=\"1\" class=\"dataframe\">\n",
       "  <thead>\n",
       "    <tr style=\"text-align: right;\">\n",
       "      <th></th>\n",
       "      <th>Day</th>\n",
       "      <th>Google</th>\n",
       "      <th>Apple</th>\n",
       "    </tr>\n",
       "  </thead>\n",
       "  <tbody>\n",
       "    <tr>\n",
       "      <th>0</th>\n",
       "      <td>MON</td>\n",
       "      <td>1129</td>\n",
       "      <td>191</td>\n",
       "    </tr>\n",
       "    <tr>\n",
       "      <th>1</th>\n",
       "      <td>TUE</td>\n",
       "      <td>1132</td>\n",
       "      <td>192</td>\n",
       "    </tr>\n",
       "    <tr>\n",
       "      <th>2</th>\n",
       "      <td>WEN</td>\n",
       "      <td>1134</td>\n",
       "      <td>190</td>\n",
       "    </tr>\n",
       "    <tr>\n",
       "      <th>3</th>\n",
       "      <td>THU</td>\n",
       "      <td>1152</td>\n",
       "      <td>190</td>\n",
       "    </tr>\n",
       "    <tr>\n",
       "      <th>4</th>\n",
       "      <td>FRI</td>\n",
       "      <td>1152</td>\n",
       "      <td>188</td>\n",
       "    </tr>\n",
       "  </tbody>\n",
       "</table>\n",
       "</div>"
      ],
      "text/plain": [
       "   Day  Google  Apple\n",
       "0  MON    1129    191\n",
       "1  TUE    1132    192\n",
       "2  WEN    1134    190\n",
       "3  THU    1152    190\n",
       "4  FRI    1152    188"
      ]
     },
     "execution_count": 4,
     "metadata": {},
     "output_type": "execute_result"
    }
   ],
   "source": [
    "# Создадим DataFrame\n",
    "di = {\n",
    "    'Day': ['MON', 'TUE', 'WEN', 'THU', 'FRI'],\n",
    "    'Google': [1129, 1132, 1134, 1152, 1152],\n",
    "    'Apple': [191, 192, 190, 190, 188]\n",
    "}\n",
    "df = pd.DataFrame(di)\n",
    "df"
   ]
  },
  {
   "cell_type": "code",
   "execution_count": 6,
   "metadata": {
    "scrolled": true
   },
   "outputs": [
    {
     "data": {
      "text/html": [
       "<div>\n",
       "<style scoped>\n",
       "    .dataframe tbody tr th:only-of-type {\n",
       "        vertical-align: middle;\n",
       "    }\n",
       "\n",
       "    .dataframe tbody tr th {\n",
       "        vertical-align: top;\n",
       "    }\n",
       "\n",
       "    .dataframe thead th {\n",
       "        text-align: right;\n",
       "    }\n",
       "</style>\n",
       "<table border=\"1\" class=\"dataframe\">\n",
       "  <thead>\n",
       "    <tr style=\"text-align: right;\">\n",
       "      <th></th>\n",
       "      <th>Day</th>\n",
       "      <th>Company</th>\n",
       "      <th>Price</th>\n",
       "    </tr>\n",
       "  </thead>\n",
       "  <tbody>\n",
       "    <tr>\n",
       "      <th>0</th>\n",
       "      <td>MON</td>\n",
       "      <td>Google</td>\n",
       "      <td>1129</td>\n",
       "    </tr>\n",
       "    <tr>\n",
       "      <th>1</th>\n",
       "      <td>TUE</td>\n",
       "      <td>Google</td>\n",
       "      <td>1132</td>\n",
       "    </tr>\n",
       "    <tr>\n",
       "      <th>2</th>\n",
       "      <td>WEN</td>\n",
       "      <td>Google</td>\n",
       "      <td>1134</td>\n",
       "    </tr>\n",
       "    <tr>\n",
       "      <th>3</th>\n",
       "      <td>THU</td>\n",
       "      <td>Google</td>\n",
       "      <td>1152</td>\n",
       "    </tr>\n",
       "    <tr>\n",
       "      <th>4</th>\n",
       "      <td>FRI</td>\n",
       "      <td>Google</td>\n",
       "      <td>1152</td>\n",
       "    </tr>\n",
       "    <tr>\n",
       "      <th>5</th>\n",
       "      <td>MON</td>\n",
       "      <td>Apple</td>\n",
       "      <td>191</td>\n",
       "    </tr>\n",
       "    <tr>\n",
       "      <th>6</th>\n",
       "      <td>TUE</td>\n",
       "      <td>Apple</td>\n",
       "      <td>192</td>\n",
       "    </tr>\n",
       "    <tr>\n",
       "      <th>7</th>\n",
       "      <td>WEN</td>\n",
       "      <td>Apple</td>\n",
       "      <td>190</td>\n",
       "    </tr>\n",
       "    <tr>\n",
       "      <th>8</th>\n",
       "      <td>THU</td>\n",
       "      <td>Apple</td>\n",
       "      <td>190</td>\n",
       "    </tr>\n",
       "    <tr>\n",
       "      <th>9</th>\n",
       "      <td>FRI</td>\n",
       "      <td>Apple</td>\n",
       "      <td>188</td>\n",
       "    </tr>\n",
       "  </tbody>\n",
       "</table>\n",
       "</div>"
      ],
      "text/plain": [
       "   Day Company  Price\n",
       "0  MON  Google   1129\n",
       "1  TUE  Google   1132\n",
       "2  WEN  Google   1134\n",
       "3  THU  Google   1152\n",
       "4  FRI  Google   1152\n",
       "5  MON   Apple    191\n",
       "6  TUE   Apple    192\n",
       "7  WEN   Apple    190\n",
       "8  THU   Apple    190\n",
       "9  FRI   Apple    188"
      ]
     },
     "execution_count": 6,
     "metadata": {},
     "output_type": "execute_result"
    }
   ],
   "source": [
    "# Сольем из ширины в глубину, оставив нетронутой колону 'Day' (id_vars)\n",
    "# Сразу переименуем новые столбцы (var_name, value_name)\n",
    "new_df = df.melt(id_vars = 'Day', var_name = 'Company', value_name = 'Price')\n",
    "new_df"
   ]
  },
  {
   "cell_type": "code",
   "execution_count": 16,
   "metadata": {},
   "outputs": [
    {
     "data": {
      "text/html": [
       "<div>\n",
       "<style scoped>\n",
       "    .dataframe tbody tr th:only-of-type {\n",
       "        vertical-align: middle;\n",
       "    }\n",
       "\n",
       "    .dataframe tbody tr th {\n",
       "        vertical-align: top;\n",
       "    }\n",
       "\n",
       "    .dataframe thead tr th {\n",
       "        text-align: left;\n",
       "    }\n",
       "\n",
       "    .dataframe thead tr:last-of-type th {\n",
       "        text-align: right;\n",
       "    }\n",
       "</style>\n",
       "<table border=\"1\" class=\"dataframe\">\n",
       "  <thead>\n",
       "    <tr>\n",
       "      <th></th>\n",
       "      <th colspan=\"2\" halign=\"left\">Price</th>\n",
       "    </tr>\n",
       "    <tr>\n",
       "      <th>Company</th>\n",
       "      <th>Apple</th>\n",
       "      <th>Google</th>\n",
       "    </tr>\n",
       "    <tr>\n",
       "      <th>Day</th>\n",
       "      <th></th>\n",
       "      <th></th>\n",
       "    </tr>\n",
       "  </thead>\n",
       "  <tbody>\n",
       "    <tr>\n",
       "      <th>FRI</th>\n",
       "      <td>188</td>\n",
       "      <td>1152</td>\n",
       "    </tr>\n",
       "    <tr>\n",
       "      <th>MON</th>\n",
       "      <td>191</td>\n",
       "      <td>1129</td>\n",
       "    </tr>\n",
       "    <tr>\n",
       "      <th>THU</th>\n",
       "      <td>190</td>\n",
       "      <td>1152</td>\n",
       "    </tr>\n",
       "    <tr>\n",
       "      <th>TUE</th>\n",
       "      <td>192</td>\n",
       "      <td>1132</td>\n",
       "    </tr>\n",
       "    <tr>\n",
       "      <th>WEN</th>\n",
       "      <td>190</td>\n",
       "      <td>1134</td>\n",
       "    </tr>\n",
       "  </tbody>\n",
       "</table>\n",
       "</div>"
      ],
      "text/plain": [
       "        Price       \n",
       "Company Apple Google\n",
       "Day                 \n",
       "FRI       188   1152\n",
       "MON       191   1129\n",
       "THU       190   1152\n",
       "TUE       192   1132\n",
       "WEN       190   1134"
      ]
     },
     "execution_count": 16,
     "metadata": {},
     "output_type": "execute_result"
    }
   ],
   "source": [
    "# Обратный reshape - Pivot, оставив нетронутой колонку 'Day' (index)\n",
    "# Используем в качестве колонок таблицы значения \"Company\" ('columns')\n",
    "orig_df = new_df.pivot_table(index = 'Day', columns = 'Company')\n",
    "orig_df"
   ]
  },
  {
   "cell_type": "code",
   "execution_count": 17,
   "metadata": {},
   "outputs": [
    {
     "data": {
      "text/html": [
       "<div>\n",
       "<style scoped>\n",
       "    .dataframe tbody tr th:only-of-type {\n",
       "        vertical-align: middle;\n",
       "    }\n",
       "\n",
       "    .dataframe tbody tr th {\n",
       "        vertical-align: top;\n",
       "    }\n",
       "\n",
       "    .dataframe thead th {\n",
       "        text-align: right;\n",
       "    }\n",
       "</style>\n",
       "<table border=\"1\" class=\"dataframe\">\n",
       "  <thead>\n",
       "    <tr style=\"text-align: right;\">\n",
       "      <th></th>\n",
       "      <th>Day</th>\n",
       "      <th>Apple</th>\n",
       "      <th>Google</th>\n",
       "    </tr>\n",
       "  </thead>\n",
       "  <tbody>\n",
       "    <tr>\n",
       "      <th>0</th>\n",
       "      <td>FRI</td>\n",
       "      <td>188</td>\n",
       "      <td>1152</td>\n",
       "    </tr>\n",
       "    <tr>\n",
       "      <th>1</th>\n",
       "      <td>MON</td>\n",
       "      <td>191</td>\n",
       "      <td>1129</td>\n",
       "    </tr>\n",
       "    <tr>\n",
       "      <th>2</th>\n",
       "      <td>THU</td>\n",
       "      <td>190</td>\n",
       "      <td>1152</td>\n",
       "    </tr>\n",
       "    <tr>\n",
       "      <th>3</th>\n",
       "      <td>TUE</td>\n",
       "      <td>192</td>\n",
       "      <td>1132</td>\n",
       "    </tr>\n",
       "    <tr>\n",
       "      <th>4</th>\n",
       "      <td>WEN</td>\n",
       "      <td>190</td>\n",
       "      <td>1134</td>\n",
       "    </tr>\n",
       "  </tbody>\n",
       "</table>\n",
       "</div>"
      ],
      "text/plain": [
       "   Day  Apple  Google\n",
       "0  FRI    188    1152\n",
       "1  MON    191    1129\n",
       "2  THU    190    1152\n",
       "3  TUE    192    1132\n",
       "4  WEN    190    1134"
      ]
     },
     "execution_count": 17,
     "metadata": {},
     "output_type": "execute_result"
    }
   ],
   "source": [
    "# Подкорректируем структуру, убрав обощающий столбец и лишнее название\n",
    "orig_df = new_df.pivot_table(index = 'Day', columns = 'Company')['Price'].reset_index()\n",
    "orig_df.columns.name = None \n",
    "orig_df"
   ]
  },
  {
   "cell_type": "markdown",
   "metadata": {},
   "source": [
    "# Merge и map - добавление столбцов из датафреймов и словарей"
   ]
  },
  {
   "cell_type": "code",
   "execution_count": null,
   "metadata": {},
   "outputs": [],
   "source": [
    "# Из задачи яндекса про запросы URL - слияние несколькими датафреймов по одному id\n",
    "rating = rating.merge(host, on = 'url')\n",
    "\n",
    "# pValues - словать с ключами, совпадающими со столбцом 'id' в датафрейме query\n",
    "query['pvalue'] = query['id'].map(pValues)\n",
    "\n",
    "# Удаляем дупликаты в той же задаче. Предварительно отсортировать!\n",
    "rating = rating.drop_duplicates(subset = ['id', 'host_id'])\n",
    "\n",
    "# Делаем второй столбец из превого сдвигом (чтобы использовать значение в специфичной формуле)\n",
    "a['rev_rel'] = a['relevance'].shift(periods = 1, axis = 0, fill_value = 1)\n",
    "\n",
    "#Специфичная формула с отсылкой на прошлую строку - через цикл и iloc\n",
    "for i in range(1, len(a)):\n",
    "        a.iloc[i, 4] = a.iloc[i-1, 4] * (1 - a.iloc[i-1, 2]) * 0.85"
   ]
  },
  {
   "cell_type": "markdown",
   "metadata": {},
   "source": [
    "# idxmin, idxmax, ne, nsmallest, nlargest - поиск и отбор максимумов и минимумов, ненулевых элементов"
   ]
  },
  {
   "cell_type": "markdown",
   "metadata": {},
   "source": [
    "Вернем индекс максимального и минимального элемента в pd Series (первое вхождение)"
   ]
  },
  {
   "cell_type": "code",
   "execution_count": 22,
   "metadata": {},
   "outputs": [
    {
     "data": {
      "text/plain": [
       "1"
      ]
     },
     "execution_count": 22,
     "metadata": {},
     "output_type": "execute_result"
    }
   ],
   "source": [
    "orig_df['Google'].idxmin()"
   ]
  },
  {
   "cell_type": "code",
   "execution_count": 23,
   "metadata": {},
   "outputs": [
    {
     "data": {
      "text/plain": [
       "3"
      ]
     },
     "execution_count": 23,
     "metadata": {},
     "output_type": "execute_result"
    }
   ],
   "source": [
    "orig_df['Apple'].idxmax()"
   ]
  },
  {
   "cell_type": "markdown",
   "metadata": {},
   "source": [
    "И то же самое для DataFrame с несколькими столбцами"
   ]
  },
  {
   "cell_type": "code",
   "execution_count": 28,
   "metadata": {},
   "outputs": [
    {
     "data": {
      "text/plain": [
       "Google    0\n",
       "Apple     3\n",
       "dtype: int64"
      ]
     },
     "execution_count": 28,
     "metadata": {},
     "output_type": "execute_result"
    }
   ],
   "source": [
    "orig_df[['Google', 'Apple']].idxmax()"
   ]
  },
  {
   "cell_type": "markdown",
   "metadata": {},
   "source": [
    "Поработаем с отбором (ne)"
   ]
  },
  {
   "cell_type": "code",
   "execution_count": 32,
   "metadata": {},
   "outputs": [
    {
     "data": {
      "text/html": [
       "<div>\n",
       "<style scoped>\n",
       "    .dataframe tbody tr th:only-of-type {\n",
       "        vertical-align: middle;\n",
       "    }\n",
       "\n",
       "    .dataframe tbody tr th {\n",
       "        vertical-align: top;\n",
       "    }\n",
       "\n",
       "    .dataframe thead th {\n",
       "        text-align: right;\n",
       "    }\n",
       "</style>\n",
       "<table border=\"1\" class=\"dataframe\">\n",
       "  <thead>\n",
       "    <tr style=\"text-align: right;\">\n",
       "      <th></th>\n",
       "      <th>Day</th>\n",
       "      <th>Usage</th>\n",
       "    </tr>\n",
       "  </thead>\n",
       "  <tbody>\n",
       "    <tr>\n",
       "      <th>0</th>\n",
       "      <td>1</td>\n",
       "      <td>0</td>\n",
       "    </tr>\n",
       "    <tr>\n",
       "      <th>1</th>\n",
       "      <td>2</td>\n",
       "      <td>0</td>\n",
       "    </tr>\n",
       "    <tr>\n",
       "      <th>2</th>\n",
       "      <td>3</td>\n",
       "      <td>0</td>\n",
       "    </tr>\n",
       "    <tr>\n",
       "      <th>3</th>\n",
       "      <td>4</td>\n",
       "      <td>3</td>\n",
       "    </tr>\n",
       "    <tr>\n",
       "      <th>4</th>\n",
       "      <td>5</td>\n",
       "      <td>2</td>\n",
       "    </tr>\n",
       "    <tr>\n",
       "      <th>5</th>\n",
       "      <td>6</td>\n",
       "      <td>5</td>\n",
       "    </tr>\n",
       "    <tr>\n",
       "      <th>6</th>\n",
       "      <td>7</td>\n",
       "      <td>6</td>\n",
       "    </tr>\n",
       "  </tbody>\n",
       "</table>\n",
       "</div>"
      ],
      "text/plain": [
       "   Day  Usage\n",
       "0    1      0\n",
       "1    2      0\n",
       "2    3      0\n",
       "3    4      3\n",
       "4    5      2\n",
       "5    6      5\n",
       "6    7      6"
      ]
     },
     "execution_count": 32,
     "metadata": {},
     "output_type": "execute_result"
    }
   ],
   "source": [
    "di2 = {\n",
    "    'Day': [1, 2, 3, 4, 5, 6, 7],\n",
    "    'Usage': [0, 0, 0, 3, 2, 5, 6]\n",
    "}\n",
    "usage = pd.DataFrame(di2)\n",
    "usage"
   ]
  },
  {
   "cell_type": "code",
   "execution_count": 37,
   "metadata": {},
   "outputs": [
    {
     "data": {
      "text/plain": [
       "0    False\n",
       "1    False\n",
       "2    False\n",
       "3     True\n",
       "4     True\n",
       "5     True\n",
       "6     True\n",
       "Name: Usage, dtype: bool"
      ]
     },
     "execution_count": 37,
     "metadata": {},
     "output_type": "execute_result"
    }
   ],
   "source": [
    "#булевый вектор\n",
    "usage['Usage'].ne(0)"
   ]
  },
  {
   "cell_type": "code",
   "execution_count": 36,
   "metadata": {},
   "outputs": [
    {
     "data": {
      "text/plain": [
       "3"
      ]
     },
     "execution_count": 36,
     "metadata": {},
     "output_type": "execute_result"
    }
   ],
   "source": [
    "usage['Usage'].ne(0).idxmax()  #Узнаем позицию первого ненулевого элемента (т.к. True > False это первое вхождение масимума)"
   ]
  },
  {
   "cell_type": "code",
   "execution_count": 39,
   "metadata": {},
   "outputs": [
    {
     "data": {
      "text/html": [
       "<div>\n",
       "<style scoped>\n",
       "    .dataframe tbody tr th:only-of-type {\n",
       "        vertical-align: middle;\n",
       "    }\n",
       "\n",
       "    .dataframe tbody tr th {\n",
       "        vertical-align: top;\n",
       "    }\n",
       "\n",
       "    .dataframe thead th {\n",
       "        text-align: right;\n",
       "    }\n",
       "</style>\n",
       "<table border=\"1\" class=\"dataframe\">\n",
       "  <thead>\n",
       "    <tr style=\"text-align: right;\">\n",
       "      <th></th>\n",
       "      <th>Day</th>\n",
       "      <th>Usage</th>\n",
       "    </tr>\n",
       "  </thead>\n",
       "  <tbody>\n",
       "    <tr>\n",
       "      <th>3</th>\n",
       "      <td>4</td>\n",
       "      <td>3</td>\n",
       "    </tr>\n",
       "    <tr>\n",
       "      <th>4</th>\n",
       "      <td>5</td>\n",
       "      <td>2</td>\n",
       "    </tr>\n",
       "    <tr>\n",
       "      <th>5</th>\n",
       "      <td>6</td>\n",
       "      <td>5</td>\n",
       "    </tr>\n",
       "    <tr>\n",
       "      <th>6</th>\n",
       "      <td>7</td>\n",
       "      <td>6</td>\n",
       "    </tr>\n",
       "  </tbody>\n",
       "</table>\n",
       "</div>"
      ],
      "text/plain": [
       "   Day  Usage\n",
       "3    4      3\n",
       "4    5      2\n",
       "5    6      5\n",
       "6    7      6"
      ]
     },
     "execution_count": 39,
     "metadata": {},
     "output_type": "execute_result"
    }
   ],
   "source": [
    "usage.loc[usage['Usage'].ne(0).idxmax():]  #Отберем все строки, начиная с первого ненулевого ипользования"
   ]
  },
  {
   "cell_type": "markdown",
   "metadata": {},
   "source": [
    "# nsmallest, nlargest - отбор  строк с лидирующими значениями"
   ]
  },
  {
   "cell_type": "code",
   "execution_count": 40,
   "metadata": {},
   "outputs": [
    {
     "data": {
      "text/html": [
       "<div>\n",
       "<style scoped>\n",
       "    .dataframe tbody tr th:only-of-type {\n",
       "        vertical-align: middle;\n",
       "    }\n",
       "\n",
       "    .dataframe tbody tr th {\n",
       "        vertical-align: top;\n",
       "    }\n",
       "\n",
       "    .dataframe thead th {\n",
       "        text-align: right;\n",
       "    }\n",
       "</style>\n",
       "<table border=\"1\" class=\"dataframe\">\n",
       "  <thead>\n",
       "    <tr style=\"text-align: right;\">\n",
       "      <th></th>\n",
       "      <th>Day</th>\n",
       "      <th>Usage</th>\n",
       "    </tr>\n",
       "  </thead>\n",
       "  <tbody>\n",
       "    <tr>\n",
       "      <th>0</th>\n",
       "      <td>1</td>\n",
       "      <td>0</td>\n",
       "    </tr>\n",
       "    <tr>\n",
       "      <th>1</th>\n",
       "      <td>2</td>\n",
       "      <td>0</td>\n",
       "    </tr>\n",
       "    <tr>\n",
       "      <th>2</th>\n",
       "      <td>3</td>\n",
       "      <td>0</td>\n",
       "    </tr>\n",
       "  </tbody>\n",
       "</table>\n",
       "</div>"
      ],
      "text/plain": [
       "   Day  Usage\n",
       "0    1      0\n",
       "1    2      0\n",
       "2    3      0"
      ]
     },
     "execution_count": 40,
     "metadata": {},
     "output_type": "execute_result"
    }
   ],
   "source": [
    "# Отберем 3 строки с минимальным Usage\n",
    "usage.nsmallest(3, 'Usage')"
   ]
  },
  {
   "cell_type": "code",
   "execution_count": 41,
   "metadata": {},
   "outputs": [
    {
     "data": {
      "text/html": [
       "<div>\n",
       "<style scoped>\n",
       "    .dataframe tbody tr th:only-of-type {\n",
       "        vertical-align: middle;\n",
       "    }\n",
       "\n",
       "    .dataframe tbody tr th {\n",
       "        vertical-align: top;\n",
       "    }\n",
       "\n",
       "    .dataframe thead th {\n",
       "        text-align: right;\n",
       "    }\n",
       "</style>\n",
       "<table border=\"1\" class=\"dataframe\">\n",
       "  <thead>\n",
       "    <tr style=\"text-align: right;\">\n",
       "      <th></th>\n",
       "      <th>Day</th>\n",
       "      <th>Usage</th>\n",
       "    </tr>\n",
       "  </thead>\n",
       "  <tbody>\n",
       "    <tr>\n",
       "      <th>6</th>\n",
       "      <td>7</td>\n",
       "      <td>6</td>\n",
       "    </tr>\n",
       "    <tr>\n",
       "      <th>5</th>\n",
       "      <td>6</td>\n",
       "      <td>5</td>\n",
       "    </tr>\n",
       "    <tr>\n",
       "      <th>3</th>\n",
       "      <td>4</td>\n",
       "      <td>3</td>\n",
       "    </tr>\n",
       "  </tbody>\n",
       "</table>\n",
       "</div>"
      ],
      "text/plain": [
       "   Day  Usage\n",
       "6    7      6\n",
       "5    6      5\n",
       "3    4      3"
      ]
     },
     "execution_count": 41,
     "metadata": {},
     "output_type": "execute_result"
    }
   ],
   "source": [
    "# Отберем 3 строки с максимальным Usage\n",
    "usage.nlargest(3, 'Usage')"
   ]
  },
  {
   "cell_type": "code",
   "execution_count": 43,
   "metadata": {},
   "outputs": [
    {
     "data": {
      "text/html": [
       "<div>\n",
       "<style scoped>\n",
       "    .dataframe tbody tr th:only-of-type {\n",
       "        vertical-align: middle;\n",
       "    }\n",
       "\n",
       "    .dataframe tbody tr th {\n",
       "        vertical-align: top;\n",
       "    }\n",
       "\n",
       "    .dataframe thead th {\n",
       "        text-align: right;\n",
       "    }\n",
       "</style>\n",
       "<table border=\"1\" class=\"dataframe\">\n",
       "  <thead>\n",
       "    <tr style=\"text-align: right;\">\n",
       "      <th></th>\n",
       "      <th>Day</th>\n",
       "      <th>Usage</th>\n",
       "    </tr>\n",
       "  </thead>\n",
       "  <tbody>\n",
       "    <tr>\n",
       "      <th>4</th>\n",
       "      <td>5</td>\n",
       "      <td>2</td>\n",
       "    </tr>\n",
       "    <tr>\n",
       "      <th>3</th>\n",
       "      <td>4</td>\n",
       "      <td>3</td>\n",
       "    </tr>\n",
       "    <tr>\n",
       "      <th>5</th>\n",
       "      <td>6</td>\n",
       "      <td>5</td>\n",
       "    </tr>\n",
       "  </tbody>\n",
       "</table>\n",
       "</div>"
      ],
      "text/plain": [
       "   Day  Usage\n",
       "4    5      2\n",
       "3    4      3\n",
       "5    6      5"
      ]
     },
     "execution_count": 43,
     "metadata": {},
     "output_type": "execute_result"
    }
   ],
   "source": [
    "# Отберем 3 строки с минимальным Usage кроме нулевых\n",
    "usage.loc[usage['Usage'].ne(0).idxmax():].nsmallest(3, 'Usage')"
   ]
  },
  {
   "cell_type": "markdown",
   "metadata": {},
   "source": [
    "# groupby и aggregate - продвинутая группировка и аггрегация"
   ]
  },
  {
   "cell_type": "code",
   "execution_count": 7,
   "metadata": {},
   "outputs": [],
   "source": [
    "iris = pd.read_csv('iris.data', header = None, names = ['sepalLength', 'sepalWidth', 'petalLength', 'petalWidth', 'class'])"
   ]
  },
  {
   "cell_type": "code",
   "execution_count": 8,
   "metadata": {},
   "outputs": [],
   "source": [
    "iris['class'] = [name[5:] for name in iris['class']]  # преобразуем значения классов"
   ]
  },
  {
   "cell_type": "code",
   "execution_count": 9,
   "metadata": {},
   "outputs": [
    {
     "data": {
      "text/html": [
       "<div>\n",
       "<style scoped>\n",
       "    .dataframe tbody tr th:only-of-type {\n",
       "        vertical-align: middle;\n",
       "    }\n",
       "\n",
       "    .dataframe tbody tr th {\n",
       "        vertical-align: top;\n",
       "    }\n",
       "\n",
       "    .dataframe thead th {\n",
       "        text-align: right;\n",
       "    }\n",
       "</style>\n",
       "<table border=\"1\" class=\"dataframe\">\n",
       "  <thead>\n",
       "    <tr style=\"text-align: right;\">\n",
       "      <th></th>\n",
       "      <th>sepalLength</th>\n",
       "      <th>sepalWidth</th>\n",
       "      <th>petalLength</th>\n",
       "      <th>petalWidth</th>\n",
       "      <th>class</th>\n",
       "    </tr>\n",
       "  </thead>\n",
       "  <tbody>\n",
       "    <tr>\n",
       "      <th>0</th>\n",
       "      <td>5.1</td>\n",
       "      <td>3.5</td>\n",
       "      <td>1.4</td>\n",
       "      <td>0.2</td>\n",
       "      <td>setosa</td>\n",
       "    </tr>\n",
       "    <tr>\n",
       "      <th>1</th>\n",
       "      <td>4.9</td>\n",
       "      <td>3.0</td>\n",
       "      <td>1.4</td>\n",
       "      <td>0.2</td>\n",
       "      <td>setosa</td>\n",
       "    </tr>\n",
       "    <tr>\n",
       "      <th>2</th>\n",
       "      <td>4.7</td>\n",
       "      <td>3.2</td>\n",
       "      <td>1.3</td>\n",
       "      <td>0.2</td>\n",
       "      <td>setosa</td>\n",
       "    </tr>\n",
       "    <tr>\n",
       "      <th>3</th>\n",
       "      <td>4.6</td>\n",
       "      <td>3.1</td>\n",
       "      <td>1.5</td>\n",
       "      <td>0.2</td>\n",
       "      <td>setosa</td>\n",
       "    </tr>\n",
       "    <tr>\n",
       "      <th>4</th>\n",
       "      <td>5.0</td>\n",
       "      <td>3.6</td>\n",
       "      <td>1.4</td>\n",
       "      <td>0.2</td>\n",
       "      <td>setosa</td>\n",
       "    </tr>\n",
       "    <tr>\n",
       "      <th>...</th>\n",
       "      <td>...</td>\n",
       "      <td>...</td>\n",
       "      <td>...</td>\n",
       "      <td>...</td>\n",
       "      <td>...</td>\n",
       "    </tr>\n",
       "    <tr>\n",
       "      <th>145</th>\n",
       "      <td>6.7</td>\n",
       "      <td>3.0</td>\n",
       "      <td>5.2</td>\n",
       "      <td>2.3</td>\n",
       "      <td>virginica</td>\n",
       "    </tr>\n",
       "    <tr>\n",
       "      <th>146</th>\n",
       "      <td>6.3</td>\n",
       "      <td>2.5</td>\n",
       "      <td>5.0</td>\n",
       "      <td>1.9</td>\n",
       "      <td>virginica</td>\n",
       "    </tr>\n",
       "    <tr>\n",
       "      <th>147</th>\n",
       "      <td>6.5</td>\n",
       "      <td>3.0</td>\n",
       "      <td>5.2</td>\n",
       "      <td>2.0</td>\n",
       "      <td>virginica</td>\n",
       "    </tr>\n",
       "    <tr>\n",
       "      <th>148</th>\n",
       "      <td>6.2</td>\n",
       "      <td>3.4</td>\n",
       "      <td>5.4</td>\n",
       "      <td>2.3</td>\n",
       "      <td>virginica</td>\n",
       "    </tr>\n",
       "    <tr>\n",
       "      <th>149</th>\n",
       "      <td>5.9</td>\n",
       "      <td>3.0</td>\n",
       "      <td>5.1</td>\n",
       "      <td>1.8</td>\n",
       "      <td>virginica</td>\n",
       "    </tr>\n",
       "  </tbody>\n",
       "</table>\n",
       "<p>150 rows × 5 columns</p>\n",
       "</div>"
      ],
      "text/plain": [
       "     sepalLength  sepalWidth  petalLength  petalWidth      class\n",
       "0            5.1         3.5          1.4         0.2     setosa\n",
       "1            4.9         3.0          1.4         0.2     setosa\n",
       "2            4.7         3.2          1.3         0.2     setosa\n",
       "3            4.6         3.1          1.5         0.2     setosa\n",
       "4            5.0         3.6          1.4         0.2     setosa\n",
       "..           ...         ...          ...         ...        ...\n",
       "145          6.7         3.0          5.2         2.3  virginica\n",
       "146          6.3         2.5          5.0         1.9  virginica\n",
       "147          6.5         3.0          5.2         2.0  virginica\n",
       "148          6.2         3.4          5.4         2.3  virginica\n",
       "149          5.9         3.0          5.1         1.8  virginica\n",
       "\n",
       "[150 rows x 5 columns]"
      ]
     },
     "execution_count": 9,
     "metadata": {},
     "output_type": "execute_result"
    }
   ],
   "source": [
    "iris"
   ]
  },
  {
   "cell_type": "markdown",
   "metadata": {},
   "source": [
    "Посмотрим способы нахождения максимальных и минимальных значений по определенному столбцу датафрейма, группируя по другому столбцу"
   ]
  },
  {
   "cell_type": "code",
   "execution_count": 105,
   "metadata": {},
   "outputs": [
    {
     "data": {
      "text/html": [
       "<div>\n",
       "<style scoped>\n",
       "    .dataframe tbody tr th:only-of-type {\n",
       "        vertical-align: middle;\n",
       "    }\n",
       "\n",
       "    .dataframe tbody tr th {\n",
       "        vertical-align: top;\n",
       "    }\n",
       "\n",
       "    .dataframe thead th {\n",
       "        text-align: right;\n",
       "    }\n",
       "</style>\n",
       "<table border=\"1\" class=\"dataframe\">\n",
       "  <thead>\n",
       "    <tr style=\"text-align: right;\">\n",
       "      <th></th>\n",
       "      <th>sepalLength</th>\n",
       "    </tr>\n",
       "    <tr>\n",
       "      <th>class</th>\n",
       "      <th></th>\n",
       "    </tr>\n",
       "  </thead>\n",
       "  <tbody>\n",
       "    <tr>\n",
       "      <th>setosa</th>\n",
       "      <td>5.8</td>\n",
       "    </tr>\n",
       "    <tr>\n",
       "      <th>versicolor</th>\n",
       "      <td>7.0</td>\n",
       "    </tr>\n",
       "    <tr>\n",
       "      <th>virginica</th>\n",
       "      <td>7.9</td>\n",
       "    </tr>\n",
       "  </tbody>\n",
       "</table>\n",
       "</div>"
      ],
      "text/plain": [
       "            sepalLength\n",
       "class                  \n",
       "setosa              5.8\n",
       "versicolor          7.0\n",
       "virginica           7.9"
      ]
     },
     "execution_count": 105,
     "metadata": {},
     "output_type": "execute_result"
    }
   ],
   "source": [
    "iris.groupby('class').max()[['sepalLength']]"
   ]
  },
  {
   "cell_type": "code",
   "execution_count": 44,
   "metadata": {},
   "outputs": [
    {
     "data": {
      "text/html": [
       "<div>\n",
       "<style scoped>\n",
       "    .dataframe tbody tr th:only-of-type {\n",
       "        vertical-align: middle;\n",
       "    }\n",
       "\n",
       "    .dataframe tbody tr th {\n",
       "        vertical-align: top;\n",
       "    }\n",
       "\n",
       "    .dataframe thead th {\n",
       "        text-align: right;\n",
       "    }\n",
       "</style>\n",
       "<table border=\"1\" class=\"dataframe\">\n",
       "  <thead>\n",
       "    <tr style=\"text-align: right;\">\n",
       "      <th></th>\n",
       "      <th>sepalLength</th>\n",
       "    </tr>\n",
       "    <tr>\n",
       "      <th>class</th>\n",
       "      <th></th>\n",
       "    </tr>\n",
       "  </thead>\n",
       "  <tbody>\n",
       "    <tr>\n",
       "      <th>setosa</th>\n",
       "      <td>5.8</td>\n",
       "    </tr>\n",
       "    <tr>\n",
       "      <th>versicolor</th>\n",
       "      <td>7.0</td>\n",
       "    </tr>\n",
       "    <tr>\n",
       "      <th>virginica</th>\n",
       "      <td>7.9</td>\n",
       "    </tr>\n",
       "  </tbody>\n",
       "</table>\n",
       "</div>"
      ],
      "text/plain": [
       "            sepalLength\n",
       "class                  \n",
       "setosa              5.8\n",
       "versicolor          7.0\n",
       "virginica           7.9"
      ]
     },
     "execution_count": 44,
     "metadata": {},
     "output_type": "execute_result"
    }
   ],
   "source": [
    "iris.groupby('class')[['sepalLength']].max()  # эквивалентно предыдущей записи"
   ]
  },
  {
   "cell_type": "code",
   "execution_count": 107,
   "metadata": {},
   "outputs": [
    {
     "data": {
      "text/html": [
       "<div>\n",
       "<style scoped>\n",
       "    .dataframe tbody tr th:only-of-type {\n",
       "        vertical-align: middle;\n",
       "    }\n",
       "\n",
       "    .dataframe tbody tr th {\n",
       "        vertical-align: top;\n",
       "    }\n",
       "\n",
       "    .dataframe thead th {\n",
       "        text-align: right;\n",
       "    }\n",
       "</style>\n",
       "<table border=\"1\" class=\"dataframe\">\n",
       "  <thead>\n",
       "    <tr style=\"text-align: right;\">\n",
       "      <th></th>\n",
       "      <th>maxSepalLength</th>\n",
       "      <th>minSepalLength</th>\n",
       "    </tr>\n",
       "    <tr>\n",
       "      <th>class</th>\n",
       "      <th></th>\n",
       "      <th></th>\n",
       "    </tr>\n",
       "  </thead>\n",
       "  <tbody>\n",
       "    <tr>\n",
       "      <th>setosa</th>\n",
       "      <td>5.8</td>\n",
       "      <td>4.3</td>\n",
       "    </tr>\n",
       "    <tr>\n",
       "      <th>versicolor</th>\n",
       "      <td>7.0</td>\n",
       "      <td>4.9</td>\n",
       "    </tr>\n",
       "    <tr>\n",
       "      <th>virginica</th>\n",
       "      <td>7.9</td>\n",
       "      <td>4.9</td>\n",
       "    </tr>\n",
       "  </tbody>\n",
       "</table>\n",
       "</div>"
      ],
      "text/plain": [
       "            maxSepalLength  minSepalLength\n",
       "class                                     \n",
       "setosa                 5.8             4.3\n",
       "versicolor             7.0             4.9\n",
       "virginica              7.9             4.9"
      ]
     },
     "execution_count": 107,
     "metadata": {},
     "output_type": "execute_result"
    }
   ],
   "source": [
    "iris.groupby('class').sepalLength.agg(\n",
    "    maxSepalLength  = 'max',\n",
    "    minSepalLength  = 'min')"
   ]
  },
  {
   "cell_type": "code",
   "execution_count": 112,
   "metadata": {},
   "outputs": [
    {
     "data": {
      "text/plain": [
       "class\n",
       "setosa        5.8\n",
       "versicolor    7.0\n",
       "virginica     7.9\n",
       "Name: sepalLength, dtype: float64"
      ]
     },
     "execution_count": 112,
     "metadata": {},
     "output_type": "execute_result"
    }
   ],
   "source": [
    "iris.groupby('class').sepalLength.agg('max')"
   ]
  },
  {
   "cell_type": "code",
   "execution_count": 116,
   "metadata": {},
   "outputs": [
    {
     "data": {
      "text/html": [
       "<div>\n",
       "<style scoped>\n",
       "    .dataframe tbody tr th:only-of-type {\n",
       "        vertical-align: middle;\n",
       "    }\n",
       "\n",
       "    .dataframe tbody tr th {\n",
       "        vertical-align: top;\n",
       "    }\n",
       "\n",
       "    .dataframe thead th {\n",
       "        text-align: right;\n",
       "    }\n",
       "</style>\n",
       "<table border=\"1\" class=\"dataframe\">\n",
       "  <thead>\n",
       "    <tr style=\"text-align: right;\">\n",
       "      <th></th>\n",
       "      <th>&lt;lambda_0&gt;</th>\n",
       "      <th>&lt;lambda_1&gt;</th>\n",
       "      <th>&lt;lambda_2&gt;</th>\n",
       "    </tr>\n",
       "    <tr>\n",
       "      <th>class</th>\n",
       "      <th></th>\n",
       "      <th></th>\n",
       "      <th></th>\n",
       "    </tr>\n",
       "  </thead>\n",
       "  <tbody>\n",
       "    <tr>\n",
       "      <th>setosa</th>\n",
       "      <td>5.8</td>\n",
       "      <td>4.3</td>\n",
       "      <td>5.006</td>\n",
       "    </tr>\n",
       "    <tr>\n",
       "      <th>versicolor</th>\n",
       "      <td>7.0</td>\n",
       "      <td>4.9</td>\n",
       "      <td>5.936</td>\n",
       "    </tr>\n",
       "    <tr>\n",
       "      <th>virginica</th>\n",
       "      <td>7.9</td>\n",
       "      <td>4.9</td>\n",
       "      <td>6.588</td>\n",
       "    </tr>\n",
       "  </tbody>\n",
       "</table>\n",
       "</div>"
      ],
      "text/plain": [
       "            <lambda_0>  <lambda_1>  <lambda_2>\n",
       "class                                         \n",
       "setosa             5.8         4.3       5.006\n",
       "versicolor         7.0         4.9       5.936\n",
       "virginica          7.9         4.9       6.588"
      ]
     },
     "execution_count": 116,
     "metadata": {},
     "output_type": "execute_result"
    }
   ],
   "source": [
    "iris.groupby('class').sepalLength.agg([\n",
    "    lambda x: x.max(), \n",
    "    lambda x: x.min(),\n",
    "    lambda x: x.mean()\n",
    "    ])"
   ]
  },
  {
   "cell_type": "markdown",
   "metadata": {},
   "source": [
    "Посмотрим аггрегацию сразу нескольких столбцов"
   ]
  },
  {
   "cell_type": "code",
   "execution_count": 118,
   "metadata": {
    "scrolled": true
   },
   "outputs": [
    {
     "data": {
      "text/html": [
       "<div>\n",
       "<style scoped>\n",
       "    .dataframe tbody tr th:only-of-type {\n",
       "        vertical-align: middle;\n",
       "    }\n",
       "\n",
       "    .dataframe tbody tr th {\n",
       "        vertical-align: top;\n",
       "    }\n",
       "\n",
       "    .dataframe thead th {\n",
       "        text-align: right;\n",
       "    }\n",
       "</style>\n",
       "<table border=\"1\" class=\"dataframe\">\n",
       "  <thead>\n",
       "    <tr style=\"text-align: right;\">\n",
       "      <th></th>\n",
       "      <th>maxSepalLength</th>\n",
       "      <th>minSepalLength</th>\n",
       "      <th>maxSepalWidth</th>\n",
       "      <th>minSepalWidth</th>\n",
       "      <th>maxPetalLength</th>\n",
       "      <th>minPetalLength</th>\n",
       "      <th>maxPetalWidth</th>\n",
       "      <th>minPetalWidth</th>\n",
       "    </tr>\n",
       "    <tr>\n",
       "      <th>class</th>\n",
       "      <th></th>\n",
       "      <th></th>\n",
       "      <th></th>\n",
       "      <th></th>\n",
       "      <th></th>\n",
       "      <th></th>\n",
       "      <th></th>\n",
       "      <th></th>\n",
       "    </tr>\n",
       "  </thead>\n",
       "  <tbody>\n",
       "    <tr>\n",
       "      <th>setosa</th>\n",
       "      <td>5.8</td>\n",
       "      <td>4.3</td>\n",
       "      <td>4.4</td>\n",
       "      <td>2.3</td>\n",
       "      <td>1.9</td>\n",
       "      <td>1.0</td>\n",
       "      <td>0.6</td>\n",
       "      <td>0.1</td>\n",
       "    </tr>\n",
       "    <tr>\n",
       "      <th>versicolor</th>\n",
       "      <td>7.0</td>\n",
       "      <td>4.9</td>\n",
       "      <td>3.4</td>\n",
       "      <td>2.0</td>\n",
       "      <td>5.1</td>\n",
       "      <td>3.0</td>\n",
       "      <td>1.8</td>\n",
       "      <td>1.0</td>\n",
       "    </tr>\n",
       "    <tr>\n",
       "      <th>virginica</th>\n",
       "      <td>7.9</td>\n",
       "      <td>4.9</td>\n",
       "      <td>3.8</td>\n",
       "      <td>2.2</td>\n",
       "      <td>6.9</td>\n",
       "      <td>4.5</td>\n",
       "      <td>2.5</td>\n",
       "      <td>1.4</td>\n",
       "    </tr>\n",
       "  </tbody>\n",
       "</table>\n",
       "</div>"
      ],
      "text/plain": [
       "            maxSepalLength  minSepalLength  maxSepalWidth  minSepalWidth  \\\n",
       "class                                                                      \n",
       "setosa                 5.8             4.3            4.4            2.3   \n",
       "versicolor             7.0             4.9            3.4            2.0   \n",
       "virginica              7.9             4.9            3.8            2.2   \n",
       "\n",
       "            maxPetalLength  minPetalLength  maxPetalWidth  minPetalWidth  \n",
       "class                                                                     \n",
       "setosa                 1.9             1.0            0.6            0.1  \n",
       "versicolor             5.1             3.0            1.8            1.0  \n",
       "virginica              6.9             4.5            2.5            1.4  "
      ]
     },
     "execution_count": 118,
     "metadata": {},
     "output_type": "execute_result"
    }
   ],
   "source": [
    "iris.groupby('class').agg(\n",
    "    maxSepalLength = pd.NamedAgg(column = 'sepalLength', aggfunc = 'max'),\n",
    "    minSepalLength = pd.NamedAgg(column = 'sepalLength', aggfunc = 'min'),\n",
    "    maxSepalWidth = pd.NamedAgg(column = 'sepalWidth', aggfunc = 'max'),\n",
    "    minSepalWidth = pd.NamedAgg(column = 'sepalWidth', aggfunc = 'min'),\n",
    "    maxPetalLength = pd.NamedAgg(column = 'petalLength', aggfunc = 'max'),\n",
    "    minPetalLength = pd.NamedAgg(column = 'petalLength', aggfunc = 'min'),\n",
    "    maxPetalWidth = pd.NamedAgg(column = 'petalWidth', aggfunc = 'max'),\n",
    "    minPetalWidth = pd.NamedAgg(column = 'petalWidth', aggfunc = 'min'),\n",
    "    )"
   ]
  },
  {
   "cell_type": "code",
   "execution_count": 121,
   "metadata": {
    "scrolled": true
   },
   "outputs": [
    {
     "data": {
      "text/html": [
       "<div>\n",
       "<style scoped>\n",
       "    .dataframe tbody tr th:only-of-type {\n",
       "        vertical-align: middle;\n",
       "    }\n",
       "\n",
       "    .dataframe tbody tr th {\n",
       "        vertical-align: top;\n",
       "    }\n",
       "\n",
       "    .dataframe thead tr th {\n",
       "        text-align: left;\n",
       "    }\n",
       "\n",
       "    .dataframe thead tr:last-of-type th {\n",
       "        text-align: right;\n",
       "    }\n",
       "</style>\n",
       "<table border=\"1\" class=\"dataframe\">\n",
       "  <thead>\n",
       "    <tr>\n",
       "      <th></th>\n",
       "      <th colspan=\"2\" halign=\"left\">sepalLength</th>\n",
       "      <th colspan=\"2\" halign=\"left\">sepalWidth</th>\n",
       "      <th colspan=\"2\" halign=\"left\">petalLength</th>\n",
       "      <th colspan=\"2\" halign=\"left\">petalWidth</th>\n",
       "    </tr>\n",
       "    <tr>\n",
       "      <th></th>\n",
       "      <th>&lt;lambda_0&gt;</th>\n",
       "      <th>&lt;lambda_1&gt;</th>\n",
       "      <th>&lt;lambda_0&gt;</th>\n",
       "      <th>&lt;lambda_1&gt;</th>\n",
       "      <th>&lt;lambda_0&gt;</th>\n",
       "      <th>&lt;lambda_1&gt;</th>\n",
       "      <th>&lt;lambda_0&gt;</th>\n",
       "      <th>&lt;lambda_1&gt;</th>\n",
       "    </tr>\n",
       "    <tr>\n",
       "      <th>class</th>\n",
       "      <th></th>\n",
       "      <th></th>\n",
       "      <th></th>\n",
       "      <th></th>\n",
       "      <th></th>\n",
       "      <th></th>\n",
       "      <th></th>\n",
       "      <th></th>\n",
       "    </tr>\n",
       "  </thead>\n",
       "  <tbody>\n",
       "    <tr>\n",
       "      <th>setosa</th>\n",
       "      <td>5.8</td>\n",
       "      <td>4.3</td>\n",
       "      <td>4.4</td>\n",
       "      <td>2.3</td>\n",
       "      <td>1.9</td>\n",
       "      <td>1.0</td>\n",
       "      <td>0.6</td>\n",
       "      <td>0.1</td>\n",
       "    </tr>\n",
       "    <tr>\n",
       "      <th>versicolor</th>\n",
       "      <td>7.0</td>\n",
       "      <td>4.9</td>\n",
       "      <td>3.4</td>\n",
       "      <td>2.0</td>\n",
       "      <td>5.1</td>\n",
       "      <td>3.0</td>\n",
       "      <td>1.8</td>\n",
       "      <td>1.0</td>\n",
       "    </tr>\n",
       "    <tr>\n",
       "      <th>virginica</th>\n",
       "      <td>7.9</td>\n",
       "      <td>4.9</td>\n",
       "      <td>3.8</td>\n",
       "      <td>2.2</td>\n",
       "      <td>6.9</td>\n",
       "      <td>4.5</td>\n",
       "      <td>2.5</td>\n",
       "      <td>1.4</td>\n",
       "    </tr>\n",
       "  </tbody>\n",
       "</table>\n",
       "</div>"
      ],
      "text/plain": [
       "           sepalLength            sepalWidth            petalLength  \\\n",
       "            <lambda_0> <lambda_1> <lambda_0> <lambda_1>  <lambda_0>   \n",
       "class                                                                 \n",
       "setosa             5.8        4.3        4.4        2.3         1.9   \n",
       "versicolor         7.0        4.9        3.4        2.0         5.1   \n",
       "virginica          7.9        4.9        3.8        2.2         6.9   \n",
       "\n",
       "                      petalWidth             \n",
       "           <lambda_1> <lambda_0> <lambda_1>  \n",
       "class                                        \n",
       "setosa            1.0        0.6        0.1  \n",
       "versicolor        3.0        1.8        1.0  \n",
       "virginica         4.5        2.5        1.4  "
      ]
     },
     "execution_count": 121,
     "metadata": {},
     "output_type": "execute_result"
    }
   ],
   "source": [
    "iris.groupby('class').agg([\n",
    "    lambda x: x.max(),\n",
    "    lambda x: x.min()\n",
    "    ])"
   ]
  },
  {
   "cell_type": "code",
   "execution_count": null,
   "metadata": {},
   "outputs": [],
   "source": [
    "# Из яндекса контеста - подсчет уникльных и их количества\n",
    "info = data.groupby(0)['correct_phone'].nunique()"
   ]
  },
  {
   "cell_type": "markdown",
   "metadata": {},
   "source": [
    "### Преобразование типов столбцов"
   ]
  },
  {
   "cell_type": "code",
   "execution_count": 22,
   "metadata": {},
   "outputs": [],
   "source": [
    "iris[\"sepalLength_int\"] = iris[\"sepalLength\"].astype(\"int64\") # Преобразуем к типу int"
   ]
  },
  {
   "cell_type": "code",
   "execution_count": 23,
   "metadata": {},
   "outputs": [
    {
     "data": {
      "text/html": [
       "<div>\n",
       "<style scoped>\n",
       "    .dataframe tbody tr th:only-of-type {\n",
       "        vertical-align: middle;\n",
       "    }\n",
       "\n",
       "    .dataframe tbody tr th {\n",
       "        vertical-align: top;\n",
       "    }\n",
       "\n",
       "    .dataframe thead th {\n",
       "        text-align: right;\n",
       "    }\n",
       "</style>\n",
       "<table border=\"1\" class=\"dataframe\">\n",
       "  <thead>\n",
       "    <tr style=\"text-align: right;\">\n",
       "      <th></th>\n",
       "      <th>sepalLength</th>\n",
       "      <th>sepalWidth</th>\n",
       "      <th>petalLength</th>\n",
       "      <th>petalWidth</th>\n",
       "      <th>class</th>\n",
       "      <th>sepalLength_int</th>\n",
       "    </tr>\n",
       "  </thead>\n",
       "  <tbody>\n",
       "    <tr>\n",
       "      <th>0</th>\n",
       "      <td>5.1</td>\n",
       "      <td>3.5</td>\n",
       "      <td>1.4</td>\n",
       "      <td>0.2</td>\n",
       "      <td>setosa</td>\n",
       "      <td>5</td>\n",
       "    </tr>\n",
       "    <tr>\n",
       "      <th>1</th>\n",
       "      <td>4.9</td>\n",
       "      <td>3.0</td>\n",
       "      <td>1.4</td>\n",
       "      <td>0.2</td>\n",
       "      <td>setosa</td>\n",
       "      <td>4</td>\n",
       "    </tr>\n",
       "    <tr>\n",
       "      <th>2</th>\n",
       "      <td>4.7</td>\n",
       "      <td>3.2</td>\n",
       "      <td>1.3</td>\n",
       "      <td>0.2</td>\n",
       "      <td>setosa</td>\n",
       "      <td>4</td>\n",
       "    </tr>\n",
       "    <tr>\n",
       "      <th>3</th>\n",
       "      <td>4.6</td>\n",
       "      <td>3.1</td>\n",
       "      <td>1.5</td>\n",
       "      <td>0.2</td>\n",
       "      <td>setosa</td>\n",
       "      <td>4</td>\n",
       "    </tr>\n",
       "    <tr>\n",
       "      <th>4</th>\n",
       "      <td>5.0</td>\n",
       "      <td>3.6</td>\n",
       "      <td>1.4</td>\n",
       "      <td>0.2</td>\n",
       "      <td>setosa</td>\n",
       "      <td>5</td>\n",
       "    </tr>\n",
       "    <tr>\n",
       "      <th>...</th>\n",
       "      <td>...</td>\n",
       "      <td>...</td>\n",
       "      <td>...</td>\n",
       "      <td>...</td>\n",
       "      <td>...</td>\n",
       "      <td>...</td>\n",
       "    </tr>\n",
       "    <tr>\n",
       "      <th>145</th>\n",
       "      <td>6.7</td>\n",
       "      <td>3.0</td>\n",
       "      <td>5.2</td>\n",
       "      <td>2.3</td>\n",
       "      <td>virginica</td>\n",
       "      <td>6</td>\n",
       "    </tr>\n",
       "    <tr>\n",
       "      <th>146</th>\n",
       "      <td>6.3</td>\n",
       "      <td>2.5</td>\n",
       "      <td>5.0</td>\n",
       "      <td>1.9</td>\n",
       "      <td>virginica</td>\n",
       "      <td>6</td>\n",
       "    </tr>\n",
       "    <tr>\n",
       "      <th>147</th>\n",
       "      <td>6.5</td>\n",
       "      <td>3.0</td>\n",
       "      <td>5.2</td>\n",
       "      <td>2.0</td>\n",
       "      <td>virginica</td>\n",
       "      <td>6</td>\n",
       "    </tr>\n",
       "    <tr>\n",
       "      <th>148</th>\n",
       "      <td>6.2</td>\n",
       "      <td>3.4</td>\n",
       "      <td>5.4</td>\n",
       "      <td>2.3</td>\n",
       "      <td>virginica</td>\n",
       "      <td>6</td>\n",
       "    </tr>\n",
       "    <tr>\n",
       "      <th>149</th>\n",
       "      <td>5.9</td>\n",
       "      <td>3.0</td>\n",
       "      <td>5.1</td>\n",
       "      <td>1.8</td>\n",
       "      <td>virginica</td>\n",
       "      <td>5</td>\n",
       "    </tr>\n",
       "  </tbody>\n",
       "</table>\n",
       "<p>150 rows × 6 columns</p>\n",
       "</div>"
      ],
      "text/plain": [
       "     sepalLength  sepalWidth  petalLength  petalWidth      class  \\\n",
       "0            5.1         3.5          1.4         0.2     setosa   \n",
       "1            4.9         3.0          1.4         0.2     setosa   \n",
       "2            4.7         3.2          1.3         0.2     setosa   \n",
       "3            4.6         3.1          1.5         0.2     setosa   \n",
       "4            5.0         3.6          1.4         0.2     setosa   \n",
       "..           ...         ...          ...         ...        ...   \n",
       "145          6.7         3.0          5.2         2.3  virginica   \n",
       "146          6.3         2.5          5.0         1.9  virginica   \n",
       "147          6.5         3.0          5.2         2.0  virginica   \n",
       "148          6.2         3.4          5.4         2.3  virginica   \n",
       "149          5.9         3.0          5.1         1.8  virginica   \n",
       "\n",
       "     sepalLength_int  \n",
       "0                  5  \n",
       "1                  4  \n",
       "2                  4  \n",
       "3                  4  \n",
       "4                  5  \n",
       "..               ...  \n",
       "145                6  \n",
       "146                6  \n",
       "147                6  \n",
       "148                6  \n",
       "149                5  \n",
       "\n",
       "[150 rows x 6 columns]"
      ]
     },
     "execution_count": 23,
     "metadata": {},
     "output_type": "execute_result"
    }
   ],
   "source": [
    "iris"
   ]
  },
  {
   "cell_type": "code",
   "execution_count": 28,
   "metadata": {
    "scrolled": true
   },
   "outputs": [
    {
     "data": {
      "text/plain": [
       "sepalLength        float64\n",
       "sepalWidth         float64\n",
       "petalLength        float64\n",
       "petalWidth         float64\n",
       "class               object\n",
       "sepalLength_int      int64\n",
       "dtype: object"
      ]
     },
     "execution_count": 28,
     "metadata": {},
     "output_type": "execute_result"
    }
   ],
   "source": [
    "iris.dtypes"
   ]
  },
  {
   "cell_type": "code",
   "execution_count": null,
   "metadata": {},
   "outputs": [],
   "source": [
    "#изменение типа столбца с помощью функции apply - взяла из другого файла\n",
    "frame.Birth = frame.Birth.apply(pd.to_datetime)\n",
    "\n",
    "#заполнение na\n",
    "frame.fillna('разнорабочий', inplace=True)\n",
    "\n",
    "frame[:3] #выбираем первые три записи\n",
    "frame[-3:] #выбираем три послдение записи\n",
    "\n",
    "frame.loc[[0,1,2], [\"Name\", \"City\"]] #работает на основе имен\n",
    "frame.iloc[[1,3,5], [0,1]] #работает на основе позиций"
   ]
  },
  {
   "cell_type": "markdown",
   "metadata": {},
   "source": [
    "# diff - функция разницы с прошлой строкой. Можно в groupby()!\n",
    "#### timedelta перевод в секунды"
   ]
  },
  {
   "cell_type": "code",
   "execution_count": null,
   "metadata": {},
   "outputs": [],
   "source": [
    "data['diff'] = data['date'].diff()\n",
    "data['diff_in_min'] = data['diff'].apply(lambda x: x.total_seconds() / 60)"
   ]
  },
  {
   "cell_type": "markdown",
   "metadata": {},
   "source": [
    "## Оконные функции. Временные ряды, кумулятивная сумма и подсчет"
   ]
  },
  {
   "cell_type": "code",
   "execution_count": 37,
   "metadata": {},
   "outputs": [
    {
     "data": {
      "text/html": [
       "<div>\n",
       "<style scoped>\n",
       "    .dataframe tbody tr th:only-of-type {\n",
       "        vertical-align: middle;\n",
       "    }\n",
       "\n",
       "    .dataframe tbody tr th {\n",
       "        vertical-align: top;\n",
       "    }\n",
       "\n",
       "    .dataframe thead th {\n",
       "        text-align: right;\n",
       "    }\n",
       "</style>\n",
       "<table border=\"1\" class=\"dataframe\">\n",
       "  <thead>\n",
       "    <tr style=\"text-align: right;\">\n",
       "      <th></th>\n",
       "      <th>date</th>\n",
       "      <th>user</th>\n",
       "      <th>event_type</th>\n",
       "      <th>parameter</th>\n",
       "    </tr>\n",
       "  </thead>\n",
       "  <tbody>\n",
       "    <tr>\n",
       "      <th>0</th>\n",
       "      <td>2020-04-01_00:04:03</td>\n",
       "      <td>976455</td>\n",
       "      <td>3</td>\n",
       "      <td>NaN</td>\n",
       "    </tr>\n",
       "    <tr>\n",
       "      <th>1</th>\n",
       "      <td>2020-04-01_00:01:27</td>\n",
       "      <td>456430</td>\n",
       "      <td>3</td>\n",
       "      <td>text</td>\n",
       "    </tr>\n",
       "    <tr>\n",
       "      <th>2</th>\n",
       "      <td>2020-04-01_00:06:32</td>\n",
       "      <td>566998</td>\n",
       "      <td>1</td>\n",
       "      <td>unknown</td>\n",
       "    </tr>\n",
       "    <tr>\n",
       "      <th>3</th>\n",
       "      <td>2020-04-01_00:08:28</td>\n",
       "      <td>927997</td>\n",
       "      <td>3</td>\n",
       "      <td>NaN</td>\n",
       "    </tr>\n",
       "    <tr>\n",
       "      <th>4</th>\n",
       "      <td>2020-04-01_00:08:53</td>\n",
       "      <td>237940</td>\n",
       "      <td>4</td>\n",
       "      <td>unknown</td>\n",
       "    </tr>\n",
       "  </tbody>\n",
       "</table>\n",
       "</div>"
      ],
      "text/plain": [
       "                  date    user  event_type parameter\n",
       "0  2020-04-01_00:04:03  976455           3       NaN\n",
       "1  2020-04-01_00:01:27  456430           3      text\n",
       "2  2020-04-01_00:06:32  566998           1   unknown\n",
       "3  2020-04-01_00:08:28  927997           3       NaN\n",
       "4  2020-04-01_00:08:53  237940           4   unknown"
      ]
     },
     "execution_count": 37,
     "metadata": {},
     "output_type": "execute_result"
    }
   ],
   "source": [
    "data = pd.read_csv('log.csv')\n",
    "data.head()"
   ]
  },
  {
   "cell_type": "code",
   "execution_count": 38,
   "metadata": {},
   "outputs": [],
   "source": [
    "# приведем дату и время к правильному формату datetime . (Возможно стоило бы сразу сделать Parse_datetime)\n",
    "data['date'] = data.date.apply(pd.to_datetime, format = '%Y-%m-%d_%H:%M:%S')"
   ]
  },
  {
   "cell_type": "code",
   "execution_count": 39,
   "metadata": {},
   "outputs": [],
   "source": [
    "# отсортируем по времени\n",
    "data.sort_values(by = 'date', inplace = True)\n",
    "# вынесем время в индекс датафрейма\n",
    "data.set_index('date', inplace = True)"
   ]
  },
  {
   "cell_type": "markdown",
   "metadata": {},
   "source": [
    "Наша задача - найти самый поздний пятиминутный интервал с максимальным количеством событий (левая граница включена, правая нет). В ответе вывести его начало.\n",
    "\n",
    "Для быстрого решения нужно воспользоваться оконной функцией библиотеки pandas rolling() с временным окном в 5 минут."
   ]
  },
  {
   "cell_type": "code",
   "execution_count": 44,
   "metadata": {
    "scrolled": true
   },
   "outputs": [],
   "source": [
    "\n",
    "# indexer = pd.api.indexers.FixedForwardWindowIndexer(window_size=2) # Вперед мотрящее окно бывает только\n",
    "# фиксированного размера\n",
    "\n",
    "# data['user'].rolling(window='1h').count() # смотрит назад. К сожалению, окно с временной периодичностью\n",
    "# умеет смотреть только назад. А нам надо вперед на 5 минут!\n",
    "\n",
    "# сделать колону time + 5 min - это бесползено, смотреть все равно будет назад.\n",
    "\n",
    "\n",
    "# Решение: реверсируем массив, чтобы мы смотрели не назад, а вперед при подсчетах\n",
    "\n",
    "\n",
    "event_cnt = data['user'][::-1].rolling(window = '5min', closed = 'left').count()"
   ]
  },
  {
   "cell_type": "code",
   "execution_count": 51,
   "metadata": {},
   "outputs": [
    {
     "name": "stdout",
     "output_type": "stream",
     "text": [
      "73.0\n"
     ]
    },
    {
     "data": {
      "text/plain": [
       "Timestamp('2020-04-09 13:06:42')"
      ]
     },
     "execution_count": 51,
     "metadata": {},
     "output_type": "execute_result"
    }
   ],
   "source": [
    "# добавим столбец в датафрейм если нужно\n",
    "data['counted'] = event_cnt[::-1]\n",
    "\n",
    "# посчитаем максимум и найдем время начало интервала\n",
    "max_users = event_cnt.max()\n",
    "print(max_users)\n",
    "event_cnt[event_cnt == max_users].index.max()"
   ]
  },
  {
   "cell_type": "markdown",
   "metadata": {},
   "source": [
    "#### Из упражнений по pandas"
   ]
  },
  {
   "cell_type": "code",
   "execution_count": 53,
   "metadata": {},
   "outputs": [
    {
     "data": {
      "text/plain": [
       "['user', 'event_type', 'parameter', 'counted']"
      ]
     },
     "execution_count": 53,
     "metadata": {},
     "output_type": "execute_result"
    }
   ],
   "source": [
    "# Название всех колонок\n",
    "data.columns.to_list()"
   ]
  },
  {
   "cell_type": "code",
   "execution_count": 66,
   "metadata": {},
   "outputs": [
    {
     "data": {
      "text/plain": [
       "dtype('int64')"
      ]
     },
     "execution_count": 66,
     "metadata": {},
     "output_type": "execute_result"
    }
   ],
   "source": [
    "# Тип данных первой колонки\n",
    "data.dtypes[1]"
   ]
  },
  {
   "cell_type": "code",
   "execution_count": 73,
   "metadata": {},
   "outputs": [
    {
     "data": {
      "text/plain": [
       "DatetimeIndex(['2020-04-01 00:01:27', '2020-04-01 00:04:03',\n",
       "               '2020-04-01 00:06:32', '2020-04-01 00:08:28',\n",
       "               '2020-04-01 00:08:53', '2020-04-01 00:09:50',\n",
       "               '2020-04-01 00:15:25', '2020-04-01 00:15:36',\n",
       "               '2020-04-01 00:16:50', '2020-04-01 00:20:51',\n",
       "               ...\n",
       "               '2020-04-30 23:57:29', '2020-04-30 23:58:03',\n",
       "               '2020-04-30 23:58:13', '2020-04-30 23:58:30',\n",
       "               '2020-04-30 23:58:38', '2020-04-30 23:58:43',\n",
       "               '2020-04-30 23:59:05', '2020-04-30 23:59:05',\n",
       "               '2020-04-30 23:59:32', '2020-04-30 23:59:43'],\n",
       "              dtype='datetime64[ns]', name='date', length=200000, freq=None)"
      ]
     },
     "execution_count": 73,
     "metadata": {},
     "output_type": "execute_result"
    }
   ],
   "source": [
    "# какая индексация у датафрейма\n",
    "data.index"
   ]
  },
  {
   "cell_type": "code",
   "execution_count": 71,
   "metadata": {},
   "outputs": [
    {
     "data": {
      "text/plain": [
       "'unknown'"
      ]
     },
     "execution_count": 71,
     "metadata": {},
     "output_type": "execute_result"
    }
   ],
   "source": [
    "# значение в ячейке\n",
    "\n",
    "data.iloc[20,2]\n",
    "\n",
    "#либо\n",
    "\n",
    "data.values[20][2]"
   ]
  },
  {
   "cell_type": "markdown",
   "metadata": {},
   "source": [
    "## Как дозаполнять датафреймы\n",
    "### Из Yandex Cup RecSys: строим матрицу признаков при недостатке отзывов от юзеров. "
   ]
  },
  {
   "cell_type": "code",
   "execution_count": 2,
   "metadata": {},
   "outputs": [],
   "source": [
    "import pandas as pd\n",
    "import numpy as np"
   ]
  },
  {
   "cell_type": "code",
   "execution_count": 30,
   "metadata": {},
   "outputs": [],
   "source": [
    "df_one = pd.DataFrame({'user_id': [101, 102, 103, 104], '201': [1, 1, 0, 0], '203': [0, 0, 1, 0]})\n",
    "user_ids = [101, 102, 103, 104, 105]\n",
    "org_ids = ['201', '202', '203', '204', '205']  # ВАЖНО ЧТО ЭТО STRING, ЧТОБЫ СОВПАЛИ КОЛОНКИ\n",
    "zeros = pd.DataFrame({'user_id': user_ids})\n",
    "zeros[org_ids] = pd.DataFrame(np.zeros((len(user_ids), len(org_ids))))\n",
    "zeros.set_index(keys = 'user_id', inplace = True)\n",
    "df_one.set_index(keys = 'user_id', inplace = True)"
   ]
  },
  {
   "cell_type": "code",
   "execution_count": 25,
   "metadata": {},
   "outputs": [
    {
     "data": {
      "text/html": [
       "<div>\n",
       "<style scoped>\n",
       "    .dataframe tbody tr th:only-of-type {\n",
       "        vertical-align: middle;\n",
       "    }\n",
       "\n",
       "    .dataframe tbody tr th {\n",
       "        vertical-align: top;\n",
       "    }\n",
       "\n",
       "    .dataframe thead th {\n",
       "        text-align: right;\n",
       "    }\n",
       "</style>\n",
       "<table border=\"1\" class=\"dataframe\">\n",
       "  <thead>\n",
       "    <tr style=\"text-align: right;\">\n",
       "      <th></th>\n",
       "      <th>201</th>\n",
       "      <th>203</th>\n",
       "    </tr>\n",
       "    <tr>\n",
       "      <th>user_id</th>\n",
       "      <th></th>\n",
       "      <th></th>\n",
       "    </tr>\n",
       "  </thead>\n",
       "  <tbody>\n",
       "    <tr>\n",
       "      <th>101</th>\n",
       "      <td>1</td>\n",
       "      <td>0</td>\n",
       "    </tr>\n",
       "    <tr>\n",
       "      <th>102</th>\n",
       "      <td>1</td>\n",
       "      <td>0</td>\n",
       "    </tr>\n",
       "    <tr>\n",
       "      <th>103</th>\n",
       "      <td>0</td>\n",
       "      <td>1</td>\n",
       "    </tr>\n",
       "    <tr>\n",
       "      <th>104</th>\n",
       "      <td>0</td>\n",
       "      <td>0</td>\n",
       "    </tr>\n",
       "  </tbody>\n",
       "</table>\n",
       "</div>"
      ],
      "text/plain": [
       "         201  203\n",
       "user_id          \n",
       "101        1    0\n",
       "102        1    0\n",
       "103        0    1\n",
       "104        0    0"
      ]
     },
     "execution_count": 25,
     "metadata": {},
     "output_type": "execute_result"
    }
   ],
   "source": [
    "df_one"
   ]
  },
  {
   "cell_type": "code",
   "execution_count": 26,
   "metadata": {},
   "outputs": [
    {
     "data": {
      "text/html": [
       "<div>\n",
       "<style scoped>\n",
       "    .dataframe tbody tr th:only-of-type {\n",
       "        vertical-align: middle;\n",
       "    }\n",
       "\n",
       "    .dataframe tbody tr th {\n",
       "        vertical-align: top;\n",
       "    }\n",
       "\n",
       "    .dataframe thead th {\n",
       "        text-align: right;\n",
       "    }\n",
       "</style>\n",
       "<table border=\"1\" class=\"dataframe\">\n",
       "  <thead>\n",
       "    <tr style=\"text-align: right;\">\n",
       "      <th></th>\n",
       "      <th>201</th>\n",
       "      <th>202</th>\n",
       "      <th>203</th>\n",
       "      <th>204</th>\n",
       "      <th>205</th>\n",
       "    </tr>\n",
       "    <tr>\n",
       "      <th>user_id</th>\n",
       "      <th></th>\n",
       "      <th></th>\n",
       "      <th></th>\n",
       "      <th></th>\n",
       "      <th></th>\n",
       "    </tr>\n",
       "  </thead>\n",
       "  <tbody>\n",
       "    <tr>\n",
       "      <th>101</th>\n",
       "      <td>0.0</td>\n",
       "      <td>0.0</td>\n",
       "      <td>0.0</td>\n",
       "      <td>0.0</td>\n",
       "      <td>0.0</td>\n",
       "    </tr>\n",
       "    <tr>\n",
       "      <th>102</th>\n",
       "      <td>0.0</td>\n",
       "      <td>0.0</td>\n",
       "      <td>0.0</td>\n",
       "      <td>0.0</td>\n",
       "      <td>0.0</td>\n",
       "    </tr>\n",
       "    <tr>\n",
       "      <th>103</th>\n",
       "      <td>0.0</td>\n",
       "      <td>0.0</td>\n",
       "      <td>0.0</td>\n",
       "      <td>0.0</td>\n",
       "      <td>0.0</td>\n",
       "    </tr>\n",
       "    <tr>\n",
       "      <th>104</th>\n",
       "      <td>0.0</td>\n",
       "      <td>0.0</td>\n",
       "      <td>0.0</td>\n",
       "      <td>0.0</td>\n",
       "      <td>0.0</td>\n",
       "    </tr>\n",
       "    <tr>\n",
       "      <th>105</th>\n",
       "      <td>0.0</td>\n",
       "      <td>0.0</td>\n",
       "      <td>0.0</td>\n",
       "      <td>0.0</td>\n",
       "      <td>0.0</td>\n",
       "    </tr>\n",
       "  </tbody>\n",
       "</table>\n",
       "</div>"
      ],
      "text/plain": [
       "         201  202  203  204  205\n",
       "user_id                         \n",
       "101      0.0  0.0  0.0  0.0  0.0\n",
       "102      0.0  0.0  0.0  0.0  0.0\n",
       "103      0.0  0.0  0.0  0.0  0.0\n",
       "104      0.0  0.0  0.0  0.0  0.0\n",
       "105      0.0  0.0  0.0  0.0  0.0"
      ]
     },
     "execution_count": 26,
     "metadata": {},
     "output_type": "execute_result"
    }
   ],
   "source": [
    "zeros"
   ]
  },
  {
   "cell_type": "code",
   "execution_count": 33,
   "metadata": {},
   "outputs": [],
   "source": [
    "answer = zeros.add(df_one, axis = 0, fill_value = 0).astype('int')"
   ]
  },
  {
   "cell_type": "code",
   "execution_count": 34,
   "metadata": {},
   "outputs": [
    {
     "data": {
      "text/html": [
       "<div>\n",
       "<style scoped>\n",
       "    .dataframe tbody tr th:only-of-type {\n",
       "        vertical-align: middle;\n",
       "    }\n",
       "\n",
       "    .dataframe tbody tr th {\n",
       "        vertical-align: top;\n",
       "    }\n",
       "\n",
       "    .dataframe thead th {\n",
       "        text-align: right;\n",
       "    }\n",
       "</style>\n",
       "<table border=\"1\" class=\"dataframe\">\n",
       "  <thead>\n",
       "    <tr style=\"text-align: right;\">\n",
       "      <th></th>\n",
       "      <th>201</th>\n",
       "      <th>202</th>\n",
       "      <th>203</th>\n",
       "      <th>204</th>\n",
       "      <th>205</th>\n",
       "    </tr>\n",
       "    <tr>\n",
       "      <th>user_id</th>\n",
       "      <th></th>\n",
       "      <th></th>\n",
       "      <th></th>\n",
       "      <th></th>\n",
       "      <th></th>\n",
       "    </tr>\n",
       "  </thead>\n",
       "  <tbody>\n",
       "    <tr>\n",
       "      <th>101</th>\n",
       "      <td>1</td>\n",
       "      <td>0</td>\n",
       "      <td>0</td>\n",
       "      <td>0</td>\n",
       "      <td>0</td>\n",
       "    </tr>\n",
       "    <tr>\n",
       "      <th>102</th>\n",
       "      <td>1</td>\n",
       "      <td>0</td>\n",
       "      <td>0</td>\n",
       "      <td>0</td>\n",
       "      <td>0</td>\n",
       "    </tr>\n",
       "    <tr>\n",
       "      <th>103</th>\n",
       "      <td>0</td>\n",
       "      <td>0</td>\n",
       "      <td>1</td>\n",
       "      <td>0</td>\n",
       "      <td>0</td>\n",
       "    </tr>\n",
       "    <tr>\n",
       "      <th>104</th>\n",
       "      <td>0</td>\n",
       "      <td>0</td>\n",
       "      <td>0</td>\n",
       "      <td>0</td>\n",
       "      <td>0</td>\n",
       "    </tr>\n",
       "    <tr>\n",
       "      <th>105</th>\n",
       "      <td>0</td>\n",
       "      <td>0</td>\n",
       "      <td>0</td>\n",
       "      <td>0</td>\n",
       "      <td>0</td>\n",
       "    </tr>\n",
       "  </tbody>\n",
       "</table>\n",
       "</div>"
      ],
      "text/plain": [
       "         201  202  203  204  205\n",
       "user_id                         \n",
       "101        1    0    0    0    0\n",
       "102        1    0    0    0    0\n",
       "103        0    0    1    0    0\n",
       "104        0    0    0    0    0\n",
       "105        0    0    0    0    0"
      ]
     },
     "execution_count": 34,
     "metadata": {},
     "output_type": "execute_result"
    }
   ],
   "source": [
    "answer"
   ]
  }
 ],
 "metadata": {
  "kernelspec": {
   "display_name": "Python 3",
   "language": "python",
   "name": "python3"
  },
  "language_info": {
   "codemirror_mode": {
    "name": "ipython",
    "version": 3
   },
   "file_extension": ".py",
   "mimetype": "text/x-python",
   "name": "python",
   "nbconvert_exporter": "python",
   "pygments_lexer": "ipython3",
   "version": "3.8.8"
  }
 },
 "nbformat": 4,
 "nbformat_minor": 1
}
