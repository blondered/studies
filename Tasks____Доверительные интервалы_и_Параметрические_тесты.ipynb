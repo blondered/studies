{
 "cells": [
  {
   "cell_type": "code",
   "execution_count": 1,
   "id": "97ca9717",
   "metadata": {},
   "outputs": [],
   "source": [
    "import pandas as pd\n",
    "import numpy as np\n",
    "from statsmodels.stats.weightstats import _zconfint_generic, _tconfint_generic\n",
    "from statsmodels.stats.proportion import proportion_confint\n",
    "from statsmodels.stats.proportion import samplesize_confint_proportion\n",
    "import scipy.stats as sps\n",
    "import matplotlib.pyplot as plt"
   ]
  },
  {
   "cell_type": "markdown",
   "id": "51af3eaf",
   "metadata": {},
   "source": [
    "# Доверительные интервалы"
   ]
  },
  {
   "cell_type": "code",
   "execution_count": 5,
   "id": "998c40a2",
   "metadata": {},
   "outputs": [
    {
     "data": {
      "text/html": [
       "<div>\n",
       "<style scoped>\n",
       "    .dataframe tbody tr th:only-of-type {\n",
       "        vertical-align: middle;\n",
       "    }\n",
       "\n",
       "    .dataframe tbody tr th {\n",
       "        vertical-align: top;\n",
       "    }\n",
       "\n",
       "    .dataframe thead th {\n",
       "        text-align: right;\n",
       "    }\n",
       "</style>\n",
       "<table border=\"1\" class=\"dataframe\">\n",
       "  <thead>\n",
       "    <tr style=\"text-align: right;\">\n",
       "      <th></th>\n",
       "      <th>location</th>\n",
       "      <th>town</th>\n",
       "      <th>mortality</th>\n",
       "      <th>hardness</th>\n",
       "    </tr>\n",
       "  </thead>\n",
       "  <tbody>\n",
       "    <tr>\n",
       "      <th>0</th>\n",
       "      <td>South</td>\n",
       "      <td>Bath</td>\n",
       "      <td>1247</td>\n",
       "      <td>105</td>\n",
       "    </tr>\n",
       "    <tr>\n",
       "      <th>1</th>\n",
       "      <td>North</td>\n",
       "      <td>Birkenhead</td>\n",
       "      <td>1668</td>\n",
       "      <td>17</td>\n",
       "    </tr>\n",
       "    <tr>\n",
       "      <th>2</th>\n",
       "      <td>South</td>\n",
       "      <td>Birmingham</td>\n",
       "      <td>1466</td>\n",
       "      <td>5</td>\n",
       "    </tr>\n",
       "    <tr>\n",
       "      <th>3</th>\n",
       "      <td>North</td>\n",
       "      <td>Blackburn</td>\n",
       "      <td>1800</td>\n",
       "      <td>14</td>\n",
       "    </tr>\n",
       "    <tr>\n",
       "      <th>4</th>\n",
       "      <td>North</td>\n",
       "      <td>Blackpool</td>\n",
       "      <td>1609</td>\n",
       "      <td>18</td>\n",
       "    </tr>\n",
       "  </tbody>\n",
       "</table>\n",
       "</div>"
      ],
      "text/plain": [
       "  location        town  mortality  hardness\n",
       "0    South        Bath       1247       105\n",
       "1    North  Birkenhead       1668        17\n",
       "2    South  Birmingham       1466         5\n",
       "3    North   Blackburn       1800        14\n",
       "4    North   Blackpool       1609        18"
      ]
     },
     "execution_count": 5,
     "metadata": {},
     "output_type": "execute_result"
    }
   ],
   "source": [
    "data = pd.read_csv('water.txt', delimiter='\\t')\n",
    "data.head()"
   ]
  },
  {
   "cell_type": "code",
   "execution_count": 6,
   "id": "134d9b0b",
   "metadata": {},
   "outputs": [
    {
     "name": "stdout",
     "output_type": "stream",
     "text": [
      "<class 'pandas.core.frame.DataFrame'>\n",
      "RangeIndex: 61 entries, 0 to 60\n",
      "Data columns (total 4 columns):\n",
      " #   Column     Non-Null Count  Dtype \n",
      "---  ------     --------------  ----- \n",
      " 0   location   61 non-null     object\n",
      " 1   town       61 non-null     object\n",
      " 2   mortality  61 non-null     int64 \n",
      " 3   hardness   61 non-null     int64 \n",
      "dtypes: int64(2), object(2)\n",
      "memory usage: 2.0+ KB\n"
     ]
    }
   ],
   "source": [
    "data.info()"
   ]
  },
  {
   "cell_type": "markdown",
   "id": "bcc51819",
   "metadata": {},
   "source": [
    "Будьте осторожны при использовании метода std()! Дело в том, что у объекта numpy он по умолчанию вычисляется как усредненный на n, а у объекта pandas — как усредненный на n-1. \n",
    "Нас интересует только второй вариант, несмещённая оценка стандартного отклонения.\n",
    "\n",
    "**Чтобы не думать всё время о том, правильно ли вычисляется в вашем случае std(), можно всегда использовать std(ddof=1) (ddof — difference in degrees of freedom), тогда нормировка всегда будет на n-1.**"
   ]
  },
  {
   "cell_type": "markdown",
   "id": "6703c684",
   "metadata": {},
   "source": [
    "Для 61 большого города в Англии и Уэльсе известны средняя годовая смертность на 100000 населения (по данным 1958–1964) и концентрация кальция в питьевой воде (в частях на миллион). Чем выше концентрация кальция, тем жёстче вода. Города дополнительно поделены на северные и южные\n",
    "\n",
    "## Постройте 95% доверительный интервал для средней годовой смертности в больших городах. А также в разрезе Севера и Юга"
   ]
  },
  {
   "cell_type": "code",
   "execution_count": 13,
   "id": "86f3e4e0",
   "metadata": {},
   "outputs": [
    {
     "name": "stdout",
     "output_type": "stream",
     "text": [
      "Точечная оценка средней смертности: 1524.1475409836066\n",
      "Несмещенная оценка стандартного отклонения: 187.6687539314571\n",
      "Оценка стандартного отклонения выборочных средних: 24.028521714278174\n",
      "95%-ный доверительный интервал для средней смертности:(1476.0833413552848, 1572.2117406119285)\n"
     ]
    }
   ],
   "source": [
    "# Мы не знаем дисперсию генеральной совокупности, поэтому построим t-интервал для среднего значения смертности\n",
    "num = data.shape[0]\n",
    "mort_mean = data['mortality'].mean()\n",
    "mort_std = data['mortality'].std(ddof=1)\n",
    "mort_mean_std = mort_std / np.sqrt(num)\n",
    "conf_int = _tconfint_generic(mort_mean, mort_mean_std, num - 1, 0.05, 'two-sided')\n",
    "print(f\"Точечная оценка средней смертности: {mort_mean}\")\n",
    "print(f\"Несмещенная оценка стандартного отклонения: {mort_std}\")\n",
    "print(f\"Оценка стандартного отклонения выборочных средних: {mort_mean_std }\")\n",
    "print(f'95%-ный доверительный интервал для средней смертности:{conf_int}')"
   ]
  },
  {
   "cell_type": "code",
   "execution_count": 14,
   "id": "f29505dc",
   "metadata": {},
   "outputs": [],
   "source": [
    "south = data[data['location']=='South']"
   ]
  },
  {
   "cell_type": "code",
   "execution_count": 15,
   "id": "161187a3",
   "metadata": {},
   "outputs": [
    {
     "name": "stdout",
     "output_type": "stream",
     "text": [
      "Точечная оценка средней смертности: 1376.8076923076924\n",
      "Несмещенная оценка стандартного отклонения: 140.26917529686108\n",
      "Оценка стандартного отклонения выборочных средних: 27.509048538240833\n",
      "95%-ный доверительный интервал для средней смертности:(1320.1517462936238, 1433.463638321761)\n"
     ]
    }
   ],
   "source": [
    "num = south.shape[0]\n",
    "mort_mean = south['mortality'].mean()\n",
    "mort_std = south['mortality'].std(ddof=1)\n",
    "mort_mean_std = mort_std / np.sqrt(num)\n",
    "conf_int = _tconfint_generic(mort_mean, mort_mean_std, num - 1, 0.05, 'two-sided')\n",
    "print(f\"Точечная оценка средней смертности: {mort_mean}\")\n",
    "print(f\"Несмещенная оценка стандартного отклонения: {mort_std}\")\n",
    "print(f\"Оценка стандартного отклонения выборочных средних: {mort_mean_std }\")\n",
    "print(f'95%-ный доверительный интервал для средней смертности:{conf_int}')"
   ]
  },
  {
   "cell_type": "code",
   "execution_count": 16,
   "id": "08b40844",
   "metadata": {},
   "outputs": [],
   "source": [
    "north = data[data['location']=='North']"
   ]
  },
  {
   "cell_type": "code",
   "execution_count": 17,
   "id": "668f6c8c",
   "metadata": {},
   "outputs": [
    {
     "name": "stdout",
     "output_type": "stream",
     "text": [
      "Точечная оценка средней смертности: 1633.6\n",
      "Несмещенная оценка стандартного отклонения: 136.93691119292424\n",
      "Оценка стандартного отклонения выборочных средних: 23.146562624816188\n",
      "95%-ный доверительный интервал для средней смертности:(1586.5605251961385, 1680.6394748038613)\n"
     ]
    }
   ],
   "source": [
    "num = north.shape[0]\n",
    "mort_mean = north['mortality'].mean()\n",
    "mort_std = north['mortality'].std(ddof=1)\n",
    "mort_mean_std = mort_std / np.sqrt(num)\n",
    "conf_int = _tconfint_generic(mort_mean, mort_mean_std, num - 1, 0.05, 'two-sided')\n",
    "print(f\"Точечная оценка средней смертности: {mort_mean}\")\n",
    "print(f\"Несмещенная оценка стандартного отклонения: {mort_std}\")\n",
    "print(f\"Оценка стандартного отклонения выборочных средних: {mort_mean_std }\")\n",
    "print(f'95%-ный доверительный интервал для средней смертности:{conf_int}')"
   ]
  },
  {
   "cell_type": "markdown",
   "id": "feab3850",
   "metadata": {},
   "source": [
    "## Вспомним формулу доверительного интервала для среднего нормально распределённой случайной величины с дисперсией σ^2\n",
    "\n",
    "При σ=1 какой нужен объём выборки, чтобы на уровне доверия 95% оценить среднее с точностью +- 0.1"
   ]
  },
  {
   "cell_type": "code",
   "execution_count": 25,
   "id": "326fbda2",
   "metadata": {},
   "outputs": [
    {
     "name": "stdout",
     "output_type": "stream",
     "text": [
      "Квантиль порядка 0.975 стандартного нормального распределения: 1.959963984540054\n",
      "какой нужен объем выборки: 384.14588206941244\n"
     ]
    }
   ],
   "source": [
    "# z-значение\n",
    "z = sps.norm(loc=0, scale=1).ppf(0.975)\n",
    "print(f\"Квантиль порядка 0.975 стандартного нормального распределения: {z}\")\n",
    "print(f\"какой нужен объем выборки: {(z*10)**2}\")"
   ]
  },
  {
   "cell_type": "markdown",
   "id": "58d4c8b5",
   "metadata": {},
   "source": [
    " Давайте уточним правило трёх сигм. Утверждение: 99.7% вероятностной массы случайной величины X\\sim N\\left(\\mu,\\sigma^2\\right)X∼N(μ,σ \n",
    "2\n",
    " ) лежит в интервале \\mu\\pm c \\cdot \\sigmaμ±c⋅σ. Чему равно точное значение константы cc? Округлите ответ до четырёх знаков после десятичной точки.  "
   ]
  },
  {
   "cell_type": "code",
   "execution_count": 40,
   "id": "d0869045",
   "metadata": {},
   "outputs": [
    {
     "data": {
      "text/plain": [
       "2.9677379253417944"
      ]
     },
     "execution_count": 40,
     "metadata": {},
     "output_type": "execute_result"
    }
   ],
   "source": [
    "sps.norm(loc=0, scale=1).ppf(0.9985)"
   ]
  },
  {
   "cell_type": "markdown",
   "id": "f36e1548",
   "metadata": {},
   "source": [
    "## Доверительный интервал для доли\n",
    "Из 50 исследованных представителей народа майя вариант 13910T был обнаружен у одного. Постройте нормальный 95% доверительный интервал для доли носителей варианта 13910T в популяции майя. Чему равна его нижняя граница? Округлите ответ до 4 знаков после десятичной точки."
   ]
  },
  {
   "cell_type": "code",
   "execution_count": 28,
   "id": "9ba85de7",
   "metadata": {},
   "outputs": [
    {
     "data": {
      "text/plain": [
       "(0.0, 0.05880530708179099)"
      ]
     },
     "execution_count": 28,
     "metadata": {},
     "output_type": "execute_result"
    }
   ],
   "source": [
    "# Так как доля успехов близка к 0, нормальный метод использовать некорректно\n",
    "proportion_confint(1, 50, method = 'normal')"
   ]
  },
  {
   "cell_type": "code",
   "execution_count": 29,
   "id": "9b1a8e41",
   "metadata": {},
   "outputs": [
    {
     "data": {
      "text/plain": [
       "(0.003539259271646236, 0.10495443589637815)"
      ]
     },
     "execution_count": 29,
     "metadata": {},
     "output_type": "execute_result"
    }
   ],
   "source": [
    "proportion_confint(1, 50, method = 'wilson')"
   ]
  },
  {
   "cell_type": "markdown",
   "id": "747b7caa",
   "metadata": {},
   "source": [
    "Пусть в популяции майя действительно 2% носителей варианта 13910T, как в выборке, которую мы исследовали. Какой объём выборки нужен, чтобы с помощью нормального интервала оценить долю носителей гена 13910T с точностью \\pm0.01±0.01 на уровне доверия 95%?"
   ]
  },
  {
   "cell_type": "code",
   "execution_count": 31,
   "id": "eb509e39",
   "metadata": {},
   "outputs": [
    {
     "data": {
      "text/plain": [
       "752.9259288560489"
      ]
     },
     "execution_count": 31,
     "metadata": {},
     "output_type": "execute_result"
    }
   ],
   "source": [
    "samplesize_confint_proportion(0.02, 0.01)"
   ]
  },
  {
   "cell_type": "markdown",
   "id": "cbbc17de",
   "metadata": {},
   "source": [
    "Постройте график зависимости объёма выборки, необходимого для оценки для доли носителей гена 13910T с точностью \\pm0.01±0.01 на уровне доверия 95%, от неизвестного параметра pp. Посмотрите, при каком значении pp нужно больше всего испытуемых. Как вы думаете, насколько вероятно, что выборка, которую мы анализируем, взята из случайной величины с этим значением параметра?"
   ]
  },
  {
   "cell_type": "code",
   "execution_count": 35,
   "id": "5262a6ea",
   "metadata": {},
   "outputs": [
    {
     "data": {
      "text/plain": [
       "[<matplotlib.lines.Line2D at 0x9f20730>]"
      ]
     },
     "execution_count": 35,
     "metadata": {},
     "output_type": "execute_result"
    },
    {
     "data": {
      "image/png": "[encoded data removed]",
      "text/plain": [
       "<Figure size 432x288 with 1 Axes>"
      ]
     },
     "metadata": {
      "needs_background": "light"
     },
     "output_type": "display_data"
    }
   ],
   "source": [
    "p = np.arange(0, 1, 0.05)\n",
    "sample_sizes = [np.ceil(samplesize_confint_proportion(p_, 0.01)) for p_ in p]\n",
    "plt.plot(p, sample_sizes)"
   ]
  },
  {
   "cell_type": "code",
   "execution_count": 37,
   "id": "e4af8962",
   "metadata": {},
   "outputs": [
    {
     "data": {
      "text/plain": [
       "9604.0"
      ]
     },
     "execution_count": 37,
     "metadata": {},
     "output_type": "execute_result"
    }
   ],
   "source": [
    "np.array(sample_sizes).max()"
   ]
  },
  {
   "cell_type": "markdown",
   "id": "db5a0510",
   "metadata": {},
   "source": [
    "## Доверительный интервал для разницы долей"
   ]
  },
  {
   "cell_type": "markdown",
   "id": "93e1dec1",
   "metadata": {},
   "source": [
    "В пятилетнем рандомизированном исследовании Гарвардской медицинской школы 11037 испытуемых через день принимали аспирин, а ещё 11034 — плацебо. Исследование было слепым, то есть, испытуемые не знали, что именно они принимают.\n",
    "\n",
    "За 5 лет инфаркт случился у 104 испытуемых, принимавших аспирин, и у 189 принимавших плацебо. \n",
    "\n",
    "Оцените, насколько вероятность инфаркта снижается при приёме аспирина. Округлите ответ до четырёх знаков после десятичной точки."
   ]
  },
  {
   "cell_type": "code",
   "execution_count": 43,
   "id": "f09dbfae",
   "metadata": {},
   "outputs": [
    {
     "data": {
      "text/plain": [
       "0.0077060239760047815"
      ]
     },
     "execution_count": 43,
     "metadata": {},
     "output_type": "execute_result"
    }
   ],
   "source": [
    "# Точечная оценка снижения вероятноси инфаркта\n",
    "189/11034 - 104 / 11037"
   ]
  },
  {
   "cell_type": "code",
   "execution_count": 42,
   "id": "029d1444",
   "metadata": {},
   "outputs": [
    {
     "data": {
      "text/plain": [
       "(-0.010724297276960124, -0.004687750675049439)"
      ]
     },
     "execution_count": 42,
     "metadata": {},
     "output_type": "execute_result"
    }
   ],
   "source": [
    "# Выборки являются независимыми\n",
    "\n",
    "def proportions_confint_diff_independant(suc1, len1, suc2, len2, alpha = 0.05):    \n",
    "    z = sps.norm.ppf(1 - alpha / 2.)   \n",
    "    p1 = suc1 / len1\n",
    "    p2 = suc2 / len2\n",
    "    \n",
    "    left_boundary = (p1 - p2) - z * np.sqrt(p1 * (1 - p1)/ len1 + p2 * (1 - p2)/ len2)\n",
    "    right_boundary = (p1 - p2) + z * np.sqrt(p1 * (1 - p1)/ len1 + p2 * (1 - p2)/ len2)\n",
    "    \n",
    "    return (left_boundary, right_boundary)\n",
    "\n",
    "proportions_confint_diff_independant(104, 11037, 189, 11034)\n",
    "                                        "
   ]
  },
  {
   "cell_type": "markdown",
   "id": "5bd9e388",
   "metadata": {},
   "source": [
    "Для бернуллиевских случайных величин X\\sim Ber(p)X∼Ber(p) часто вычисляют величину p / (1 - p), которая называется шансами (odds). Оцените, во сколько раз понижаются шансы инфаркта при регулярном приёме аспирина. Округлите ответ до четырёх знаков после десятичной точки"
   ]
  },
  {
   "cell_type": "code",
   "execution_count": 46,
   "id": "9e0f2bfc",
   "metadata": {},
   "outputs": [
    {
     "name": "stdout",
     "output_type": "stream",
     "text": [
      "Шансы инфаркта без аспирина: 0.017427385892116183\n",
      "Шансы инфаркта с аспирином: 0.009512485136741973\n",
      "Шансы инфакта понизились в 1.8320539419087138 раз\n"
     ]
    }
   ],
   "source": [
    "# Шансы инфаркта без аспирина:\n",
    "p_inf_placebo = 189 / 11034\n",
    "p_inf_aspirin = 104 / 11037\n",
    "inf_chance_placebo = p_inf_placebo / (1-p_inf_placebo)\n",
    "inf_chance_aspirin = p_inf_aspirin / (1-p_inf_aspirin)\n",
    "print(f'Шансы инфаркта без аспирина: {inf_chance_placebo}')\n",
    "print(f'Шансы инфаркта с аспирином: {inf_chance_aspirin}')\n",
    "print(f'Шансы инфакта понизились в {inf_chance_placebo / inf_chance_aspirin} раз')"
   ]
  },
  {
   "cell_type": "markdown",
   "id": "9e5c1cc4",
   "metadata": {},
   "source": [
    "## Доверительный интервал бутстреп\n",
    "Величина, которую вы оценили в предыдущем вопросе, называется отношением шансов. Постройте для отношения шансов 95% доверительный интервал с помощью бутстрепа. Чему равна его нижняя граница? Округлите ответ до 4 знаков после десятичной точки.\n",
    "\n",
    "Чтобы получить в точности такой же доверительный интервал, как у нас:\n",
    "\n",
    "составьте векторы исходов в контрольной и тестовой выборках так, чтобы в начале шли все единицы, а потом все нули;\n",
    "\n",
    "установите random seed=0;\n",
    "\n",
    "сделайте по 1000 псевдовыборок из каждой группы пациентов с помощью функции get_bootstrap_samples"
   ]
  },
  {
   "cell_type": "code",
   "execution_count": 60,
   "id": "e159d127",
   "metadata": {},
   "outputs": [
    {
     "name": "stdout",
     "output_type": "stream",
     "text": [
      "95% доверительный интервал для отношени шансов с помощью бутстрепа: [1.46286276 2.35093673]\n"
     ]
    }
   ],
   "source": [
    "def get_bootstrap_samples(data, n_samples):\n",
    "    indices = np.random.randint(0, len(data), (n_samples, len(data)))\n",
    "    samples = data[indices]\n",
    "    return samples\n",
    "\n",
    "def stat_intervals(stat, alpha):\n",
    "    boundaries = np.percentile(stat, [100 * alpha / 2., 100 * (1 - alpha / 2.)])\n",
    "    return boundaries\n",
    "\n",
    "def chances(sample):\n",
    "    sample = np.array(sample)\n",
    "    p = sample.sum() / len(sample)\n",
    "    return p / (1 - p)\n",
    "\n",
    "placebo = np.array([1]*189 + [0]*(11034-189))\n",
    "aspirin = np.array([1]*104 + [0]*(11037-104))\n",
    "np.random.seed(0)\n",
    "\n",
    "chances_placebo = np.array(list(map(chances, get_bootstrap_samples(placebo, 1000))))\n",
    "chances_aspirin = np.array(list(map(chances, get_bootstrap_samples(aspirin, 1000))))\n",
    "\n",
    "chances_ratio = chances_placebo / chances_aspirin\n",
    "\n",
    "print(f\"95% доверительный интервал для отношени шансов с помощью бутстрепа: {stat_intervals(chances_ratio, 0.05)}\")"
   ]
  },
  {
   "cell_type": "markdown",
   "id": "6d7f47bf",
   "metadata": {},
   "source": [
    "## Доверительный интервал для исперсии ошибок измерений с известным средним = 0. С помощью распределения Хи-квадрат (Stepik)"
   ]
  },
  {
   "cell_type": "code",
   "execution_count": 6,
   "id": "3289c31e",
   "metadata": {},
   "outputs": [
    {
     "name": "stdout",
     "output_type": "stream",
     "text": [
      "0.48459146887711396\n",
      "1.7264815272800058\n",
      "34.16960690283833\n"
     ]
    },
    {
     "data": {
      "text/plain": [
       "(15.451773539047728, 23.827692043030858)"
      ]
     },
     "execution_count": 6,
     "metadata": {},
     "output_type": "execute_result"
    }
   ],
   "source": [
    "x = [-0.05, 1.12, -0.78, -0.78, -2.25, 1.26, 0.23, -0.85, \n",
    "     -0.65, 0.09, -0.48, -1.06, -0.39, -0.82, 0.85, 0.21, -0.45, 1.2, 0.05, -1.28]\n",
    "x = np.array(x)\n",
    "var = (x**2).sum()/len(x) # т.к. нам известно истиснное среднее = 0\n",
    "from scipy.stats.distributions import chi2\n",
    "print((var*len(x)) / chi2.ppf(0.975, df=len(x)))\n",
    "print((var*len(x)) / chi2.ppf(0.025, df=len(x)))"
   ]
  },
  {
   "cell_type": "markdown",
   "id": "ec3c6457",
   "metadata": {},
   "source": [
    "## Асимптотический доверительный интервал\n",
    "\n",
    "Ассимптотически нормальный доверительный интервал\n",
    "Большая партия изделий может содержать некоторую долю дефектных. Поставщик утверждает, что эта доля составляет 5%, покупатель  предполагает, что доля дефектных изделий равна 10%.\n",
    "\n",
    "По предложенной выборке постройте 95%-й приближенный доверительный интервал  для доли брака в партии  и ответьте на вопрос: с большей степенью уверенности можно утверждать, что доля брака  в партии больше 5%? (G - доля брака больше 5%, L - в противном случае)"
   ]
  },
  {
   "cell_type": "code",
   "execution_count": 15,
   "id": "c74ac59a",
   "metadata": {},
   "outputs": [],
   "source": [
    "x = [0, 1, 1, 0, 0, 0, 0, 0, 0, 0, 1, 0, 1, 0, 0, 1, 0, 0, 0, 0, 0, 0, 1, 0, 0, 0, 0, 0, 0, 0, 0, 0, 0, 0, 0, 0, 0, 0, 0, 0, 0, 0, 0, 0, 0, 0, 0, 0, 0, 0, 0, 1, 0, 0, 0, 0, 1, 1, 1, 0, 0, 0, 0, 0, 1, 0, 0, 0, 0, 0, 0, 0, 0, 0, 0, 0, 0, 0, 0, 0, 0, 0, 0, 0, 0, 0, 0, 0, 0, 0, 0, 0, 0, 0, 0, 0, 0, 0, 0, 0, 0, 0, 0, 0, 0, 1, 0, 0, 1, 0, 0, 1, 0, 0, 0, 0, 0, 1, 0, 0, 0, 1, 0, 0, 0, 0, 0, 0, 0, 0, 0, 1, 1, 0, 1, 0, 0, 0, 0, 1, 0, 0, 0, 0, 0, 1, 0, 0, 0, 0, 0, 0, 0, 0, 0, 0, 0, 1, 0, 1, 0, 0, 0, 0, 0, 0, 0, 0, 0, 0, 0, 0, 1, 0, 0, 0, 1, 0, 0, 0, 0, 0, 0, 1, 0, 0, 0, 0, 0, 0, 1, 0, 0, 1, 0, 0, 0, 0, 0, 0, 1, 0, 1, 0, 0, 0, 0, 0, 0, 0, 0, 0, 0, 0, 0, 0, 0, 0, 0, 0, 0, 0, 1, 1, 0, 0, 1, 0, 1, 1, 0, 0, 0, 0, 0, 0, 0, 0, 0, 0, 0, 0, 0, 0, 0, 0, 0, 0, 0, 0, 0, 0, 1, 0, 0, 0, 1, 1, 0, 0, 1, 0, 0, 0, 0, 1, 0, 0, 0, 1, 0, 0, 0, 0, 0, 0, 0, 0, 0, 0, 0, 0, 0, 1, 0, 0, 0, 0, 0, 0, 0, 0, 0, 0, 0, 1, 0, 0, 0, 0, 0, 0, 0, 0, 1, 0, 0, 0, 0, 1, 0, 0, 0, 0, 0, 0, 0, 0, 0, 0, 0, 0, 0, 1, 0, 0, 0, 0, 0, 0, 0, 0, 0, 0, 0, 0, 0, 0, 0, 0, 0, 1, 0, 0, 0, 0, 0, 0, 0, 0, 1, 0, 0, 0, 0, 0, 0, 0, 0, 0, 0, 0, 0, 0, 0, 0, 0, 0, 0, 0, 0, 0, 0, 0, 0, 0, 0, 0, 0, 0, 0, 0, 0, 0, 0, 0, 1, 0, 1, 0, 1, 0, 0, 0, 0, 0, 0, 0, 0, 1, 0, 1, 0, 0, 0, 0, 0, 0, 0, 0, 0, 1, 0, 0, 0, 0, 0, 0, 0, 0, 0, 0, 0, 0, 0, 0, 0, 0, 0, 0, 0, 0, 0, 0, 0, 0, 0, 0, 1, 0, 0, 0, 0, 0, 1, 0, 0, 0, 1, 0, 0, 0, 0, 0, 0, 0, 0, 1, 1, 0, 0, 0, 0, 0, 0, 0, 0, 0, 0, 1, 0, 0, 1, 0, 0, 0, 0, 0, 0, 0, 0, 0, 0, 0, 1, 0, 0, 0, 0, 0, 0, 0, 0, 0, 0, 0, 0, 0, 0, 0]\n",
    "x = np.array(x)"
   ]
  },
  {
   "cell_type": "code",
   "execution_count": 16,
   "id": "d8695b76",
   "metadata": {},
   "outputs": [
    {
     "name": "stdout",
     "output_type": "stream",
     "text": [
      "Точечная оценка доли брака: 0.124\n"
     ]
    }
   ],
   "source": [
    "m = x.sum()\n",
    "n = len(x)\n",
    "print(f'Точечная оценка доли брака: {m/n}')\n"
   ]
  },
  {
   "cell_type": "markdown",
   "id": "5b9e9c90",
   "metadata": {},
   "source": [
    "Оценка называется асимтотически нормальной, если \n",
    "np.sqrt(n) * (ocenka - parameter)\n",
    "стремится к нормальному распределению при n стремящемся к бесконечности\n",
    "\n",
    "В испытаниях Бернулли\n",
    "np.sqrt(n) * (m / n - p) стремится к нормальному с мат.ожиданием 0  и дисперсией p*(1-p)\n",
    "\n",
    "Тогда:\n",
    "(np.sqrt(n) * (m / n - p)) / np.sqrt((m / n) * (1 - m / 1)) стремится к нормальному распределению с мат. ожиданием 0 и дисперсией 1\n",
    "\n",
    "Тогда для p можно построить асимптотический доверительный интервал с уровнем доверия 1 - alpha:\n",
    "\n",
    "(m / n +- z(1-alpha/2) * (np.sqrt((m / n) * (1 - m / n)) / np.sqrt(n))"
   ]
  },
  {
   "cell_type": "code",
   "execution_count": 17,
   "id": "ffb63041",
   "metadata": {},
   "outputs": [
    {
     "name": "stdout",
     "output_type": "stream",
     "text": [
      "квантиль стандартного норм распределеня порядка 0.975: 1.959963984540054\n",
      "Нижняя оценка асимптотического дов интервала: 0.09511143399408414\n",
      "Верхняя оценка асимптотического дов интервала: 0.15288856600591585\n"
     ]
    }
   ],
   "source": [
    "print(f\"квантиль стандартного норм распределеня порядка 0.975: {sps.norm.ppf(0.975)}\")\n",
    "print(f\"Нижняя оценка асимптотического дов интервала: {m / n - sps.norm.ppf(0.975) *  (np.sqrt((m / n) * (1 - m / n)) / np.sqrt(n))}\")\n",
    "print(f\"Верхняя оценка асимптотического дов интервала: {m / n + sps.norm.ppf(0.975) *  (np.sqrt((m / n) * (1 - m / n)) / np.sqrt(n))}\")"
   ]
  },
  {
   "cell_type": "markdown",
   "id": "e4c60aaa",
   "metadata": {},
   "source": [
    "Глубина моря измеряется прибором, систематическая ошибка которого равна нулю, а случайные ошибки распределены нормаьно со средним отклонением 20м. Сколько надо сделать независимых измерений, чтобы определить глубину с ошибкой не более 15м при доверительной вероятности 0.9?\n",
    "\n",
    "Постройте доверительный интервал для мат.ожидания ошибки измерения глубины и найдите требуемый объем выборки.\n",
    "Формат ответа: через запятую с пробелом\n",
    "\n",
    "найдите квантиль, участвующий в построении доверительного интервала и принимающий положительные значения\n",
    "верхняя граница точности доверительного интервала\n",
    "требуемый объем выборки (наименьшее допустимое целое)\n",
    "Значения квантиля и верхней границы точности ДИ с точностью 2 знака после запятой"
   ]
  },
  {
   "cell_type": "code",
   "execution_count": 23,
   "id": "ef0a05f7",
   "metadata": {},
   "outputs": [
    {
     "data": {
      "text/plain": [
       "4.809855029502956"
      ]
     },
     "execution_count": 23,
     "metadata": {},
     "output_type": "execute_result"
    }
   ],
   "source": [
    "mu = 0\n",
    "st = 20\n",
    "alpha = 0.1\n",
    "((sps.norm.ppf(0.95) * st) / 15)**2"
   ]
  },
  {
   "cell_type": "markdown",
   "id": "ff0b99b9",
   "metadata": {},
   "source": [
    "# Проверка гипотез"
   ]
  },
  {
   "cell_type": "markdown",
   "id": "b24abe70",
   "metadata": {},
   "source": [
    "### Биномиальный критерий для доли"
   ]
  },
  {
   "cell_type": "markdown",
   "id": "65a68734",
   "metadata": {},
   "source": [
    "**По данным опроса, 75% работников ресторанов утверждают, что испытывают на работе существенный стресс, оказывающий негативное влияние на их личную жизнь. Крупная ресторанная сеть опрашивает 100 своих работников, чтобы выяснить, отличается ли уровень стресса работников в их ресторанах от среднего. 67 из 100 работников отметили высокий уровень стресса.** \n",
    "\n",
    "Посчитайте достигаемый уровень значимости, округлите ответ до четырёх знаков после десятичной точки.\n",
    "\n",
    "H0: mu1 = mu0 = 0.75\n",
    "H1: mu1 != mu0\n",
    "\n",
    "Восользуемся биномиальным критерием для доли"
   ]
  },
  {
   "cell_type": "code",
   "execution_count": 83,
   "id": "1cc36af6",
   "metadata": {},
   "outputs": [
    {
     "data": {
      "text/plain": [
       "0.08222258891386608"
      ]
     },
     "execution_count": 83,
     "metadata": {},
     "output_type": "execute_result"
    }
   ],
   "source": [
    "sps.binom_test(67, 100, 0.75, alternative = 'two-sided')"
   ]
  },
  {
   "cell_type": "markdown",
   "id": "859f3804",
   "metadata": {},
   "source": [
    "### Критерий согласия Хи-квадрат"
   ]
  },
  {
   "cell_type": "markdown",
   "id": "464d31c4",
   "metadata": {},
   "source": [
    " Для участка заповедника размером 200х200 м имеется информация о координатах сосен (sn — координата в направлении север-юг, we — в направлении запад-восток, обе от 0 до 200). \n",
    " Проверим, можно ли пространственное распределение сосен считать равномерным, или они растут кластерами.\n",
    "\n",
    "Загрузите данные, поделите участок на 5х5 одинаковых квадратов размера 40x40 м, посчитайте количество сосен в каждом квадрате (чтобы получить такой же результат, как у нас, используйте функцию scipy.stats.binned_statistic_2d).\n",
    "\n",
    "Если сосны действительно растут равномерно, какое среднее ожидаемое количество сосен в каждом квадрате? В правильном ответе два знака после десятичной точки."
   ]
  },
  {
   "cell_type": "code",
   "execution_count": 22,
   "id": "807bbdcf",
   "metadata": {},
   "outputs": [],
   "source": [
    "pines = pd.read_csv('pines.txt', delimiter = '\\t')"
   ]
  },
  {
   "cell_type": "code",
   "execution_count": 56,
   "id": "ffda5431",
   "metadata": {},
   "outputs": [],
   "source": [
    "stat, x_, y_, binnum_ = sps.binned_statistic_2d(x = pines['sn'], y = pines['we'], values = None, statistic = 'count', bins = 5)"
   ]
  },
  {
   "cell_type": "code",
   "execution_count": 84,
   "id": "168b5969",
   "metadata": {},
   "outputs": [
    {
     "name": "stdout",
     "output_type": "stream",
     "text": [
      "23.36\n",
      "0.00000\n"
     ]
    }
   ],
   "source": [
    "stat = stat.flatten()\n",
    "print(stat.mean())\n",
    "observed = stat\n",
    "expected = [23.36 for i in range(len(observed))]\n",
    "st, p = sps.chisquare(observed, expected, ddof = 0)\n",
    "print(f\"{p:.5f}\")"
   ]
  },
  {
   "cell_type": "code",
   "execution_count": null,
   "id": "63f642c6",
   "metadata": {},
   "outputs": [],
   "source": [
    "sps.t.cdf()"
   ]
  },
  {
   "cell_type": "markdown",
   "id": "b4bae43d",
   "metadata": {},
   "source": [
    "### Критерии Стьюдента"
   ]
  },
  {
   "cell_type": "markdown",
   "id": "7f93aefe",
   "metadata": {},
   "source": [
    "Уровень кальция в крови здоровых молодых женщин равен в среднем 9.5 милиграммам на децилитр и имеет характерное стандартное отклонение 0.4 мг/дл. В сельской больнице Гватемалы для 160 здоровых беременных женщин при первом обращении для ведения беременности был измерен уровень кальция; среднее значение составило 9.57 мг/дл. Можно ли утверждать, что средний уровень кальция в этой популяции отличается от 9.5?\n",
    "\n",
    "Посчитайте достигаемый уровень значимости. Поскольку известны только среднее и дисперсия, а не сама выборка, нельзя использовать стандартные функции критериев — нужно реализовать формулу достигаемого уровня значимости самостоятельно.\n",
    "\n",
    "Округлите ответ до четырёх знаков после десятичной точки."
   ]
  },
  {
   "cell_type": "code",
   "execution_count": null,
   "id": "d24958b6",
   "metadata": {},
   "outputs": [],
   "source": [
    "mu = 9.5\n",
    "std = 0.4\n",
    "\n",
    "n = 160\n",
    "mu1 = 9.57\n",
    "\n",
    "H0: mu1 = mu = 9.5\n",
    "H1: mu1 != mu\n",
    "    \n",
    "Stat: (mu1 - mu) / mean_std"
   ]
  },
  {
   "cell_type": "code",
   "execution_count": 87,
   "id": "e7a3b6c4",
   "metadata": {},
   "outputs": [
    {
     "data": {
      "text/plain": [
       "2.213594362117875"
      ]
     },
     "execution_count": 87,
     "metadata": {},
     "output_type": "execute_result"
    }
   ],
   "source": [
    "z = (9.57 - 9.5) / (0.4 / np.sqrt(160))\n",
    "z"
   ]
  },
  {
   "cell_type": "code",
   "execution_count": 89,
   "id": "ea87d910",
   "metadata": {},
   "outputs": [
    {
     "data": {
      "text/plain": [
       "0.026856695507523787"
      ]
     },
     "execution_count": 89,
     "metadata": {},
     "output_type": "execute_result"
    }
   ],
   "source": [
    "2* (1 - sps.norm.cdf(z))"
   ]
  },
  {
   "cell_type": "code",
   "execution_count": 98,
   "id": "e0d750ba",
   "metadata": {},
   "outputs": [
    {
     "data": {
      "image/png": "[encoded data removed]",
      "text/plain": [
       "<Figure size 432x288 with 1 Axes>"
      ]
     },
     "metadata": {
      "needs_background": "light"
     },
     "output_type": "display_data"
    }
   ],
   "source": [
    "x = np.linspace(-5, 5, num = 50)\n",
    "y = sps.norm.pdf(x)\n",
    "plt.plot(x, y)\n",
    "plt.vlines(z, ymin = 0, ymax = 0.4, color = 'red');"
   ]
  },
  {
   "cell_type": "code",
   "execution_count": null,
   "id": "2cb5517f",
   "metadata": {},
   "outputs": [],
   "source": [
    "sps."
   ]
  },
  {
   "cell_type": "markdown",
   "id": "e4f57e7c",
   "metadata": {},
   "source": [
    "Имеются данные о стоимости и размерах 53940 бриллиантов:\n",
    "    Отделите 25% случайных наблюдений в тестовую выборку с помощью функции sklearn.cross_validation.train_test_split (зафиксируйте random state = 1). На обучающей выборке настройте две регрессионные модели:\n",
    "\n",
    "линейную регрессию с помощью LinearRegression без параметров\n",
    "\n",
    "случайный лес из 10 деревьев с помощью RandomForestRegressor с random_state=1.\n",
    "\n",
    "Какая из моделей лучше предсказывает цену бриллиантов? Сделайте предсказания на тестовой выборке, посчитайте модули отклонений предсказаний от истинных цен. Проверьте гипотезу об одинаковом среднем качестве предсказаний, вычислите достигаемый уровень значимости. Отвергается ли гипотеза об одинаковом качестве моделей против двусторонней альтернативы на уровне значимости \\alpha=0.05α=0.05?"
   ]
  },
  {
   "cell_type": "code",
   "execution_count": 102,
   "id": "25b99cc1",
   "metadata": {},
   "outputs": [],
   "source": [
    "diam = pd.read_csv('diamonds.txt', delimiter = '\\t')"
   ]
  },
  {
   "cell_type": "code",
   "execution_count": 104,
   "id": "6bdf354e",
   "metadata": {},
   "outputs": [
    {
     "data": {
      "text/html": [
       "<div>\n",
       "<style scoped>\n",
       "    .dataframe tbody tr th:only-of-type {\n",
       "        vertical-align: middle;\n",
       "    }\n",
       "\n",
       "    .dataframe tbody tr th {\n",
       "        vertical-align: top;\n",
       "    }\n",
       "\n",
       "    .dataframe thead th {\n",
       "        text-align: right;\n",
       "    }\n",
       "</style>\n",
       "<table border=\"1\" class=\"dataframe\">\n",
       "  <thead>\n",
       "    <tr style=\"text-align: right;\">\n",
       "      <th></th>\n",
       "      <th>carat</th>\n",
       "      <th>depth</th>\n",
       "      <th>table</th>\n",
       "      <th>price</th>\n",
       "      <th>x</th>\n",
       "      <th>y</th>\n",
       "      <th>z</th>\n",
       "    </tr>\n",
       "  </thead>\n",
       "  <tbody>\n",
       "    <tr>\n",
       "      <th>0</th>\n",
       "      <td>0.23</td>\n",
       "      <td>61.5</td>\n",
       "      <td>55.0</td>\n",
       "      <td>326</td>\n",
       "      <td>3.95</td>\n",
       "      <td>3.98</td>\n",
       "      <td>2.43</td>\n",
       "    </tr>\n",
       "    <tr>\n",
       "      <th>1</th>\n",
       "      <td>0.21</td>\n",
       "      <td>59.8</td>\n",
       "      <td>61.0</td>\n",
       "      <td>326</td>\n",
       "      <td>3.89</td>\n",
       "      <td>3.84</td>\n",
       "      <td>2.31</td>\n",
       "    </tr>\n",
       "    <tr>\n",
       "      <th>2</th>\n",
       "      <td>0.23</td>\n",
       "      <td>56.9</td>\n",
       "      <td>65.0</td>\n",
       "      <td>327</td>\n",
       "      <td>4.05</td>\n",
       "      <td>4.07</td>\n",
       "      <td>2.31</td>\n",
       "    </tr>\n",
       "    <tr>\n",
       "      <th>3</th>\n",
       "      <td>0.29</td>\n",
       "      <td>62.4</td>\n",
       "      <td>58.0</td>\n",
       "      <td>334</td>\n",
       "      <td>4.20</td>\n",
       "      <td>4.23</td>\n",
       "      <td>2.63</td>\n",
       "    </tr>\n",
       "    <tr>\n",
       "      <th>4</th>\n",
       "      <td>0.31</td>\n",
       "      <td>63.3</td>\n",
       "      <td>58.0</td>\n",
       "      <td>335</td>\n",
       "      <td>4.34</td>\n",
       "      <td>4.35</td>\n",
       "      <td>2.75</td>\n",
       "    </tr>\n",
       "  </tbody>\n",
       "</table>\n",
       "</div>"
      ],
      "text/plain": [
       "   carat  depth  table  price     x     y     z\n",
       "0   0.23   61.5   55.0    326  3.95  3.98  2.43\n",
       "1   0.21   59.8   61.0    326  3.89  3.84  2.31\n",
       "2   0.23   56.9   65.0    327  4.05  4.07  2.31\n",
       "3   0.29   62.4   58.0    334  4.20  4.23  2.63\n",
       "4   0.31   63.3   58.0    335  4.34  4.35  2.75"
      ]
     },
     "execution_count": 104,
     "metadata": {},
     "output_type": "execute_result"
    }
   ],
   "source": [
    "diam.head()"
   ]
  },
  {
   "cell_type": "code",
   "execution_count": 107,
   "id": "a09b2ce5",
   "metadata": {},
   "outputs": [],
   "source": [
    "from sklearn.model_selection import train_test_split\n",
    "from sklearn.linear_model import LinearRegression\n",
    "from sklearn.ensemble import RandomForestRegressor"
   ]
  },
  {
   "cell_type": "code",
   "execution_count": 108,
   "id": "859fa47d",
   "metadata": {},
   "outputs": [],
   "source": [
    "X = diam.drop('price', axis = 1)\n",
    "y = diam['price']"
   ]
  },
  {
   "cell_type": "code",
   "execution_count": 112,
   "id": "a94e1d86",
   "metadata": {},
   "outputs": [],
   "source": [
    "X_train, X_test, y_train, y_test = train_test_split(X, y, random_state = 1, test_size = 0.25)"
   ]
  },
  {
   "cell_type": "code",
   "execution_count": 123,
   "id": "3d077e24",
   "metadata": {},
   "outputs": [
    {
     "data": {
      "text/plain": [
       "890.3764004285591"
      ]
     },
     "execution_count": 123,
     "metadata": {},
     "output_type": "execute_result"
    }
   ],
   "source": [
    "linreg = LinearRegression()\n",
    "linreg.fit(X_train, y_train)\n",
    "y_pred = linreg.predict(X_test)\n",
    "y_test = np.array(y_test)\n",
    "y_diff_lin = np.abs(y_test - y_pred)\n",
    "lin_reg_diff_mean = y_diff_lin.mean()\n",
    "lin_reg_diff_mean"
   ]
  },
  {
   "cell_type": "code",
   "execution_count": 142,
   "id": "ad3da2c3",
   "metadata": {},
   "outputs": [],
   "source": [
    "forest = RandomForestRegressor(random_state = 1,  n_estimators=10)\n",
    "forest.fit(X_train, y_train)\n",
    "y_pred = forest.predict(X_test)\n",
    "y_test = np.array(y_test)\n",
    "y_diff = np.abs(y_test - y_pred)\n",
    "forest_diff_mean = y_diff.mean()"
   ]
  },
  {
   "cell_type": "code",
   "execution_count": 143,
   "id": "24e38639",
   "metadata": {},
   "outputs": [
    {
     "data": {
      "text/plain": [
       "802.9205172724115"
      ]
     },
     "execution_count": 143,
     "metadata": {},
     "output_type": "execute_result"
    }
   ],
   "source": [
    "forest_diff_mean"
   ]
  },
  {
   "cell_type": "code",
   "execution_count": 144,
   "id": "9b2441fb",
   "metadata": {},
   "outputs": [
    {
     "data": {
      "text/plain": [
       "((array([-3.88388616, -3.66274206, -3.54151337, ...,  3.54151337,\n",
       "          3.66274206,  3.88388616]),\n",
       "  array([-6109.97686053, -5636.77396851, -5523.53373191, ...,\n",
       "          8839.29300989, 10824.7757726 , 15105.14636008])),\n",
       " (716.7534700651935, 87.45588315614732, 0.9185188119907334))"
      ]
     },
     "execution_count": 144,
     "metadata": {},
     "output_type": "execute_result"
    },
    {
     "data": {
      "image/png": "[encoded data removed]",
      "text/plain": [
       "<Figure size 432x288 with 1 Axes>"
      ]
     },
     "metadata": {
      "needs_background": "light"
     },
     "output_type": "display_data"
    }
   ],
   "source": [
    "sps.probplot(y_diff_lin - y_diff, dist = \"norm\", plot = plt)"
   ]
  },
  {
   "cell_type": "code",
   "execution_count": 145,
   "id": "54b42f7c",
   "metadata": {
    "scrolled": true
   },
   "outputs": [
    {
     "name": "stdout",
     "output_type": "stream",
     "text": [
      "Shapiro-Wilk normality test, W-statistic: 0.844494, p-value: 0.000000\n"
     ]
    },
    {
     "name": "stderr",
     "output_type": "stream",
     "text": [
      "C:\\ProgramData\\Anaconda3\\lib\\site-packages\\scipy\\stats\\morestats.py:1681: UserWarning: p-value may not be accurate for N > 5000.\n",
      "  warnings.warn(\"p-value may not be accurate for N > 5000.\")\n"
     ]
    }
   ],
   "source": [
    "print(\"Shapiro-Wilk normality test, W-statistic: %f, p-value: %f\" % sps.shapiro(y_diff_lin - y_diff))"
   ]
  },
  {
   "cell_type": "markdown",
   "id": "106a1684",
   "metadata": {},
   "source": [
    "Вообще говоря, в данном случае распределение разностей отличается от нормального (подтверждается qq графиком и тестом Шапиро Уилка( H0: распределение нормально, p_value крайне мал). Однако по задаче мы должны посчитать одинаковое качество средних предсказаний (связанные выборки)"
   ]
  },
  {
   "cell_type": "code",
   "execution_count": 146,
   "id": "122f4101",
   "metadata": {},
   "outputs": [],
   "source": [
    "_, pv = sps.ttest_rel(y_diff_lin, y_diff)"
   ]
  },
  {
   "cell_type": "code",
   "execution_count": 147,
   "id": "6ed9789e",
   "metadata": {},
   "outputs": [
    {
     "data": {
      "text/plain": [
       "0.0"
      ]
     },
     "execution_count": 147,
     "metadata": {},
     "output_type": "execute_result"
    }
   ],
   "source": [
    "pv.round(4)"
   ]
  },
  {
   "cell_type": "markdown",
   "id": "e58d8b55",
   "metadata": {},
   "source": [
    "В предыдущей задаче посчитайте 95% доверительный интервал для разности средних абсолютных ошибок предсказаний регрессии и случайного леса. Чему равна его ближайшая к нулю граница? Округлите до десятков"
   ]
  },
  {
   "cell_type": "code",
   "execution_count": 148,
   "id": "66506530",
   "metadata": {},
   "outputs": [],
   "source": [
    "diff = y_diff_lin - y_diff"
   ]
  },
  {
   "cell_type": "code",
   "execution_count": 149,
   "id": "7970fa8f",
   "metadata": {},
   "outputs": [],
   "source": [
    "diff_mean = diff.mean()\n",
    "diff_std = diff.std(ddof=1)\n",
    "diff_mean_std = diff_std / np.sqrt(len(diff))\n",
    "conf_int = _tconfint_generic(diff_mean, diff_mean_std, len(diff) - 1, 0.05, 'two-sided')"
   ]
  },
  {
   "cell_type": "code",
   "execution_count": 150,
   "id": "941b1dd0",
   "metadata": {},
   "outputs": [
    {
     "data": {
      "text/plain": [
       "(74.28724532595325, 100.62452098634179)"
      ]
     },
     "execution_count": 150,
     "metadata": {},
     "output_type": "execute_result"
    }
   ],
   "source": [
    "conf_int"
   ]
  },
  {
   "cell_type": "markdown",
   "id": "d708bfb3",
   "metadata": {},
   "source": [
    "# Параметрические критерии для проверки гипотез"
   ]
  },
  {
   "cell_type": "markdown",
   "id": "2258bbd0",
   "metadata": {},
   "source": [
    "# Что в целом можно сделать с долями:\n",
    "from statsmodels.stats.proportion import proportion_confint\n",
    "\n",
    "from statsmodels.stats.proportion import samplesize_confint_proportion\n",
    "\n",
    "from statsmodels.stats.weightstats import *\n",
    "\n",
    "from scipy import stats\n",
    "1. Точечная оценка доли по выборке\n",
    "\n",
    "\n",
    "2. Интервальная оценка доли по выборке: построить доверительный интервал на основе нормального распределения или методом Уилсона: \n",
    "\n",
    "**proportion_confint**(num_succeses, num_trials, method = 'normal')\n",
    "\n",
    "**proportion_confint**(num_succeses, num_trials, method = 'wilson')\n",
    "\n",
    "\n",
    "3. Посчитать необходимый размер выборки для интервала для доли заданной ширины: \n",
    "n_samples = int(np.ceil(**samplesize_confint_proportion**(proportion, desired half_length)))\n",
    "\n",
    "4. Проверить гипотезу о том, что полученная в выборке доле совпадает или не совпадает с какой-то заданной: с использованием биномиального критерия для доли\n",
    "F_H0 = **stats.binom**(num_trials, 0.5)  # Нулевое распределение Т статистики для доли (Биномиальное распределение, с некоторой вероятностью успеха).\n",
    "**stats.binom_test**(num_succeses, num_trials, hypothesis probability of success, alternative = 'greater') \n",
    "\n",
    "5. Для разницы двух долей можно построить доверительные интервалы (для связанных или несвязанных выборок)\n",
    "$$\\text{Доверительный интервал для независимых выборок  }p_1 - p_2\\colon \\;\\; \\hat{p}_1 - \\hat{p}_2 \\pm z_{1-\\frac{\\alpha}{2}}\\sqrt{\\frac{\\hat{p}_1(1 - \\hat{p}_1)}{n_1} + \\frac{\\hat{p}_2(1 - \\hat{p}_2)}{n_2}}$$\n",
    "$$\\text{Доверительный интервал для связанных выборок  }p_1 - p_2\\colon \\;\\;  \\frac{f - g}{n} \\pm z_{1-\\frac{\\alpha}{2}}\\sqrt{\\frac{f + g}{n^2} - \\frac{(f - g)^2}{n^3}}$$\n",
    "f = количество случаев, когда х1 = 1 и х2 = 0. g = количество случаев, когда х1 = 0 и х2 = 1. e - количество случаев, когда х1 = 1 и х2 = 1\n",
    "$$ \\hat{p}_1 = \\frac{e + f}{n}$$\n",
    "\n",
    "$$ \\hat{p}_2 = \\frac{e + g}{n}$$\n",
    "\n",
    "$$ \\hat{p}_1 - \\hat{p}_2 = \\frac{f - g}{n}$$\n",
    "\n",
    "6. Для двух долей можно проверить гипотезу о их совпадении / нессовпадении. z-критерий для разности долей (для связанных и несвязанных выборок)\n",
    "$$\\text{Z-статистика для независимых выборок:  } Z({X_1, X_2}) =  \\frac{\\hat{p}_1 - \\hat{p}_2}{\\sqrt{P(1 - P)(\\frac{1}{n_1} + \\frac{1}{n_2})}}$$\n",
    "$$P = \\frac{\\hat{p}_1{n_1} + \\hat{p}_2{n_2}}{{n_1} + {n_2}} $$\n",
    "\n",
    "$$\\text{Z-статистика для связанных выборок: } Z({X_1, X_2}) = \\frac{f - g}{\\sqrt{f + g - \\frac{(f-g)^2}{n}}}$$\n"
   ]
  },
  {
   "cell_type": "code",
   "execution_count": 53,
   "id": "0816df9b",
   "metadata": {},
   "outputs": [],
   "source": [
    "from statsmodels.stats.proportion import proportion_confint\n",
    "from statsmodels.stats.proportion import samplesize_confint_proportion\n",
    "from statsmodels.stats.weightstats import *\n",
    "from scipy import stats\n",
    "import scipy\n",
    "\n",
    "def proportions_diff_confint_ind(sample1, sample2, alpha = 0.05):    \n",
    "    z = scipy.stats.norm.ppf(1 - alpha / 2.)   \n",
    "    p1 = float(sum(sample1)) / len(sample1)\n",
    "    p2 = float(sum(sample2)) / len(sample2)\n",
    "    left_boundary = (p1 - p2) - z * np.sqrt(p1 * (1 - p1)/ len(sample1) + p2 * (1 - p2)/ len(sample2))\n",
    "    right_boundary = (p1 - p2) + z * np.sqrt(p1 * (1 - p1)/ len(sample1) + p2 * (1 - p2)/ len(sample2))\n",
    "    return (left_boundary, right_boundary)\n",
    "\n",
    "def proportions_diff_z_stat_ind(sample1, sample2):\n",
    "    n1 = len(sample1)\n",
    "    n2 = len(sample2)\n",
    "    p1 = float(sum(sample1)) / n1\n",
    "    p2 = float(sum(sample2)) / n2 \n",
    "    P = float(p1*n1 + p2*n2) / (n1 + n2)\n",
    "    return (p1 - p2) / np.sqrt(P * (1 - P) * (1. / n1 + 1. / n2))\n",
    "\n",
    "def proportions_diff_confint_rel(sample1, sample2, alpha = 0.05):\n",
    "    z = scipy.stats.norm.ppf(1 - alpha / 2.)\n",
    "    sample = list(zip(sample1, sample2))\n",
    "    n = len(sample)\n",
    "    f = sum([1 if (x[0] == 1 and x[1] == 0) else 0 for x in sample])\n",
    "    g = sum([1 if (x[0] == 0 and x[1] == 1) else 0 for x in sample])\n",
    "    left_boundary = float(f - g) / n  - z * np.sqrt(float((f + g)) / n**2 - float((f - g)**2) / n**3)\n",
    "    right_boundary = float(f - g) / n  + z * np.sqrt(float((f + g)) / n**2 - float((f - g)**2) / n**3)\n",
    "    return (left_boundary, right_boundary)\n",
    "\n",
    "def proportions_diff_z_stat_rel(sample1, sample2):\n",
    "    sample = list(zip(sample1, sample2))\n",
    "    n = len(sample)\n",
    "    f = sum([1 if (x[0] == 1 and x[1] == 0) else 0 for x in sample])\n",
    "    g = sum([1 if (x[0] == 0 and x[1] == 1) else 0 for x in sample])\n",
    "    return float(f - g) / np.sqrt(f + g - float((f - g)**2) / n )\n",
    "\n",
    "def proportions_diff_z_test(z_stat, alternative = 'two-sided'):\n",
    "    if alternative not in ('two-sided', 'less', 'greater'):\n",
    "        raise ValueError(\"alternative not recognized\\n\"\n",
    "                         \"should be 'two-sided', 'less' or 'greater'\")\n",
    "    if alternative == 'two-sided':\n",
    "        return 2 * (1 - scipy.stats.norm.cdf(np.abs(z_stat)))\n",
    "    if alternative == 'less':\n",
    "        return scipy.stats.norm.cdf(z_stat)\n",
    "    if alternative == 'greater':\n",
    "        return 1 - scipy.stats.norm.cdf(z_stat)"
   ]
  },
  {
   "cell_type": "markdown",
   "id": "bb49afc0",
   "metadata": {},
   "source": [
    "Вопрос 3\n",
    "В одном из выпусков программы \"Разрушители легенд\" проверялось, действительно ли заразительна зевота. В эксперименте участвовало 50 испытуемых, проходивших собеседование на программу. Каждый из них разговаривал с рекрутером; в конце 34 из 50 бесед рекрутер зевал. Затем испытуемых просили подождать решения рекрутера в соседней пустой комнате. \n",
    "\n",
    "Во время ожидания 10 из 34 испытуемых экспериментальной группы и 4 из 16 испытуемых контрольной начали зевать. Таким образом, разница в доле зевающих людей в этих двух группах составила примерно 4.4%. Ведущие заключили, что миф о заразительности зевоты подтверждён. \n",
    "\n",
    "Можно ли утверждать, что доли зевающих в контрольной и экспериментальной группах отличаются статистически значимо? Посчитайте достигаемый уровень значимости при альтернативе заразительности зевоты, округлите до четырёх знаков после десятичной точки."
   ]
  },
  {
   "cell_type": "markdown",
   "id": "1077d367",
   "metadata": {},
   "source": [
    "H0: Зевота незаразительна, p1 = p2\n",
    "H1: Зевота заразительна, p1 > p2"
   ]
  },
  {
   "cell_type": "code",
   "execution_count": 55,
   "id": "43df11ac",
   "metadata": {
    "scrolled": true
   },
   "outputs": [
    {
     "name": "stdout",
     "output_type": "stream",
     "text": [
      "Точечная оценка разности доли зевнувших в экспериментальной и контрольной группе: 4.4%\n",
      "Доверительный интервал для верости зевоты в экспериментальной группе: (0.16834630670422424, 0.4616890979471444)\n",
      "Доверительный интервал для вероятности зевоты в контрольной группе: (0.10182067491213043, 0.4949831653550878)\n",
      "Доверительный интервал для разности долей зевнувших в рвух группах:(-0.2175577216559601, 0.3057930157736072)\n",
      "Доверительный инервалы долей пересекаются, а доверительный интервал для разности долей включает ноль. Проведем статистический тест, используя z критерий\n",
      "Значение z статистики: 0.32410186177608225\n",
      "Достигаемый уровень значимости для альтернативы p1 > p2: 0.37293045872523534\n"
     ]
    }
   ],
   "source": [
    "n1 = 34\n",
    "s1 = 10\n",
    "n2 = 16\n",
    "s2 = 4\n",
    "p1 = s1 / n1\n",
    "p2 = s2 / n2\n",
    "print(f\"Точечная оценка разности доли зевнувших в экспериментальной и контрольной группе: {(p1 - p2)*100:.2}%\")\n",
    "print(f\"Доверительный интервал для верости зевоты в экспериментальной группе: \\\n",
    "{proportion_confint(10, 34, method = 'wilson')}\")\n",
    "print(f\"Доверительный интервал для вероятности зевоты в контрольной группе: \\\n",
    "{proportion_confint(4, 16, method = 'wilson')}\")\n",
    "z = stats.norm.ppf(1 - 0.05 / 2)\n",
    "left = p1 - p2 - z * (p1 * (1 - p1) / n1 + p2 * (1 - p2) / n2) ** 0.5\n",
    "right =  p1 - p2 + z * (p1 * (1 - p1) / n1 + p2 * (1 - p2) / n2) ** 0.5\n",
    "print(f\"Доверительный интервал для разности долей зевнувших в рвух группах:{left, right}\")\n",
    "print('Доверительный инервалы долей пересекаются, а доверительный интервал \\\n",
    "для разности долей включает ноль. Проведем статистический тест, используя z критерий')\n",
    "p = (s1 + s2) / (n1 + n2)\n",
    "z_stat = (p1 - p2) / np.sqrt(p * (1 - p) * (1 / n1 + 1 / n2))\n",
    "print(f\"Значение z статистики: {z_stat}\")\n",
    "p_value = 1 - stats.norm.cdf(z_stat)\n",
    "print(f\"Достигаемый уровень значимости для альтернативы p1 > p2: {p_value}\")"
   ]
  },
  {
   "cell_type": "markdown",
   "id": "48f78c35",
   "metadata": {},
   "source": [
    "Имеются данные измерений двухсот швейцарских тысячефранковых банкнот, бывших в обращении в первой половине XX века. Сто из банкнот были настоящими, и сто — поддельными. Отделите 50 случайных наблюдений в тестовую выборку с помощью функции sklearn.cross_validation.train_test_split (зафиксируйте random state = 1). На оставшихся 150 настройте два классификатора поддельности банкнот:\n",
    "\n",
    "логистическая регрессия по признакам X_1,X_2,X_3X \n",
    "\n",
    "логистическая регрессия по признакам X_4,X_5,X_6X \n",
    "\n",
    "Каждым из классификаторов сделайте предсказания меток классов на тестовой выборке. Одинаковы ли доли ошибочных предсказаний двух классификаторов? Проверьте гипотезу, вычислите достигаемый уровень значимости. Введите номер первой значащей цифры"
   ]
  },
  {
   "cell_type": "code",
   "execution_count": 58,
   "id": "bfb618c4",
   "metadata": {},
   "outputs": [
    {
     "name": "stdout",
     "output_type": "stream",
     "text": [
      "Доля ошибочных предсказаний первого и второго классификатора: (0.19999999999999996, 0.020000000000000018)\n"
     ]
    }
   ],
   "source": [
    "import pandas as pd\n",
    "bank = pd.read_csv('banknotes.txt', delimiter = '\\t')\n",
    "bank.head()\n",
    "X_first = bank.drop(['real', 'X4', 'X5', 'X6'], axis = 1)\n",
    "X_second = bank.drop(['real', 'X1', 'X2', 'X3'], axis = 1)\n",
    "y = bank['real']\n",
    "from sklearn.model_selection import train_test_split\n",
    "X_train_first, X_test_first, X_train_second, X_test_second, y_train, y_test = train_test_split(X_first, \n",
    "                                                                                               X_second, \n",
    "                                                                                               y, \n",
    "                                                                                               test_size = 50, \n",
    "                                                                                               random_state = 1)\n",
    "from sklearn.linear_model import LogisticRegression\n",
    "logreg = LogisticRegression(solver='liblinear')\n",
    "logreg.fit(X_train_first, y_train)\n",
    "y_pred_first = logreg.predict(X_test_first)\n",
    "logreg.fit(X_train_second, y_train)\n",
    "y_pred_second = logreg.predict(X_test_second)\n",
    "from sklearn import metrics\n",
    "wrong_first = 1 - metrics.accuracy_score(y_test, y_pred_first)\n",
    "wrong_second = 1 - metrics.accuracy_score(y_test, y_pred_second)\n",
    "print(f\"Доля ошибочных предсказаний первого и второго классификатора: {wrong_first, wrong_second}\")"
   ]
  },
  {
   "cell_type": "markdown",
   "id": "c80fbf4c",
   "metadata": {},
   "source": [
    "h0: p1 = p2\n",
    "\n",
    "h1: p1 != p2\n",
    "\n",
    "Используем z критерий для связанных выборок"
   ]
  },
  {
   "cell_type": "code",
   "execution_count": 63,
   "id": "dbb72231",
   "metadata": {},
   "outputs": [
    {
     "name": "stdout",
     "output_type": "stream",
     "text": [
      "Z статистика для рязности долей: 2.9386041680175268\n",
      "Достигаемый уровень значимости: 0.0032969384555543435\n",
      "Посчитаем доверительный интервал для разности двух долей\n",
      "Доверительный интервал: (0.059945206279614305, 0.3000547937203857)\n",
      "0.0599\n"
     ]
    }
   ],
   "source": [
    "import numpy as np\n",
    "f = sum([1 for i in range(len(y_pred_second)) if y_pred_second[i] == y_test.values[i] and y_pred_first[i] != y_test.values[i]])\n",
    "g = sum([1 for i in range(len(y_pred_second)) if y_pred_second[i] != y_test.values[i] and y_pred_first[i] == y_test.values[i]])\n",
    "z_stat = (f - g) / np.sqrt(f + g - ((f - g) ** 2) / len(y_test))\n",
    "print(f\"Z статистика для рязности долей: {z_stat}\")\n",
    "p_value = 2 * (1 - stats.norm.cdf(np.abs(z_stat)))\n",
    "print(f'Достигаемый уровень значимости: {p_value}')\n",
    "print(\"Посчитаем доверительный интервал для разности двух долей\")\n",
    "z_alpha_2 = stats.norm.ppf(1 - 0.05 / 2)\n",
    "n = len(y_test)\n",
    "left = (f - g) / n - z_alpha_2 * (np.sqrt((f + g) / n ** 2 - (f - g) ** 2 / n ** 3))\n",
    "right = (f - g) / n + z_alpha_2 * (np.sqrt((f + g) / n ** 2 - (f - g) ** 2 / n ** 3))\n",
    "print(f\"Доверительный интервал: {left, right}\")\n",
    "print(f\"{left:.3}\")"
   ]
  },
  {
   "cell_type": "markdown",
   "id": "8357941d",
   "metadata": {},
   "source": [
    "Ежегодно более 200000 людей по всему миру сдают стандартизированный экзамен GMAT при поступлении на программы MBA. Средний результат составляет 525 баллов, стандартное отклонение — 100 баллов. \n",
    "\n",
    "Сто студентов закончили специальные подготовительные курсы и сдали экзамен. Средний полученный ими балл — 541.4. Проверьте гипотезу о неэффективности программы против односторонней альтернативы о том, что программа работает. Отвергается ли на уровне значимости 0.05 нулевая гипотеза? Введите достигаемый уровень значимости, округлённый до 4 знаков после десятичной точки. \n",
    "\n",
    "mu = 525\n",
    "std = 100\n",
    "\n",
    "mu1 = 541.4\n",
    "\n",
    "h0: mu1 = mu\n",
    "\n",
    "h1: mu1 > mu\n",
    "\n",
    "При известном стандартном отклонении генеральной совокупности используем z критерий\n",
    "\n",
    "z-Stat: (mu1 - mu) / std"
   ]
  },
  {
   "cell_type": "code",
   "execution_count": 47,
   "id": "b5044cc2",
   "metadata": {},
   "outputs": [
    {
     "name": "stdout",
     "output_type": "stream",
     "text": [
      "Z критерий: 1.6399999999999977\n",
      "Достигаемый уровень значимости: 0.0505\n"
     ]
    }
   ],
   "source": [
    "stat = (541.4 - 525) / (100 / np.sqrt(100))\n",
    "p_value = 1 - stats.norm.cdf(stat)\n",
    "print(f\"Z критерий: {stat}\")\n",
    "print(f\"Достигаемый уровень значимости: {p_value:.4}\")"
   ]
  }
 ],
 "metadata": {
  "kernelspec": {
   "display_name": "Python 3",
   "language": "python",
   "name": "python3"
  },
  "language_info": {
   "codemirror_mode": {
    "name": "ipython",
    "version": 3
   },
   "file_extension": ".py",
   "mimetype": "text/x-python",
   "name": "python",
   "nbconvert_exporter": "python",
   "pygments_lexer": "ipython3",
   "version": "3.6.8"
  }
 },
 "nbformat": 4,
 "nbformat_minor": 5
}
