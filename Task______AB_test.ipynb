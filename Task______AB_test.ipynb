{
 "cells": [
  {
   "cell_type": "code",
   "execution_count": 1,
   "id": "c7da3b3f",
   "metadata": {},
   "outputs": [],
   "source": [
    "import pandas as pd\n",
    "import numpy as np"
   ]
  },
  {
   "cell_type": "code",
   "execution_count": 2,
   "id": "d807d97d",
   "metadata": {},
   "outputs": [],
   "source": [
    "data = pd.read_csv('churn_analysis.csv')"
   ]
  },
  {
   "cell_type": "code",
   "execution_count": 79,
   "id": "fd47f60e",
   "metadata": {},
   "outputs": [
    {
     "data": {
      "text/html": [
       "<div>\n",
       "<style scoped>\n",
       "    .dataframe tbody tr th:only-of-type {\n",
       "        vertical-align: middle;\n",
       "    }\n",
       "\n",
       "    .dataframe tbody tr th {\n",
       "        vertical-align: top;\n",
       "    }\n",
       "\n",
       "    .dataframe thead th {\n",
       "        text-align: right;\n",
       "    }\n",
       "</style>\n",
       "<table border=\"1\" class=\"dataframe\">\n",
       "  <thead>\n",
       "    <tr style=\"text-align: right;\">\n",
       "      <th></th>\n",
       "      <th>Unnamed: 0</th>\n",
       "      <th>state</th>\n",
       "      <th>account_length</th>\n",
       "      <th>area_code</th>\n",
       "      <th>intl_plan</th>\n",
       "      <th>vmail_plan</th>\n",
       "      <th>vmail_message</th>\n",
       "      <th>day_mins</th>\n",
       "      <th>day_calls</th>\n",
       "      <th>day_charge</th>\n",
       "      <th>...</th>\n",
       "      <th>night_mins</th>\n",
       "      <th>night_calls</th>\n",
       "      <th>night_charge</th>\n",
       "      <th>intl_mins</th>\n",
       "      <th>intl_calls</th>\n",
       "      <th>intl_charge</th>\n",
       "      <th>custserv_calls</th>\n",
       "      <th>treatment</th>\n",
       "      <th>mes_estim</th>\n",
       "      <th>churn</th>\n",
       "    </tr>\n",
       "  </thead>\n",
       "  <tbody>\n",
       "    <tr>\n",
       "      <th>0</th>\n",
       "      <td>0</td>\n",
       "      <td>KS</td>\n",
       "      <td>128</td>\n",
       "      <td>415</td>\n",
       "      <td>no</td>\n",
       "      <td>yes</td>\n",
       "      <td>25</td>\n",
       "      <td>265.1</td>\n",
       "      <td>110</td>\n",
       "      <td>45.07</td>\n",
       "      <td>...</td>\n",
       "      <td>244.7</td>\n",
       "      <td>91</td>\n",
       "      <td>11.01</td>\n",
       "      <td>10.0</td>\n",
       "      <td>3</td>\n",
       "      <td>2.70</td>\n",
       "      <td>1</td>\n",
       "      <td>1</td>\n",
       "      <td>0.65</td>\n",
       "      <td>False.</td>\n",
       "    </tr>\n",
       "    <tr>\n",
       "      <th>1</th>\n",
       "      <td>1</td>\n",
       "      <td>OH</td>\n",
       "      <td>107</td>\n",
       "      <td>415</td>\n",
       "      <td>no</td>\n",
       "      <td>yes</td>\n",
       "      <td>26</td>\n",
       "      <td>161.6</td>\n",
       "      <td>123</td>\n",
       "      <td>27.47</td>\n",
       "      <td>...</td>\n",
       "      <td>254.4</td>\n",
       "      <td>103</td>\n",
       "      <td>11.45</td>\n",
       "      <td>13.7</td>\n",
       "      <td>3</td>\n",
       "      <td>3.70</td>\n",
       "      <td>1</td>\n",
       "      <td>0</td>\n",
       "      <td>0.55</td>\n",
       "      <td>False.</td>\n",
       "    </tr>\n",
       "    <tr>\n",
       "      <th>2</th>\n",
       "      <td>2</td>\n",
       "      <td>NJ</td>\n",
       "      <td>137</td>\n",
       "      <td>415</td>\n",
       "      <td>no</td>\n",
       "      <td>no</td>\n",
       "      <td>0</td>\n",
       "      <td>243.4</td>\n",
       "      <td>114</td>\n",
       "      <td>41.38</td>\n",
       "      <td>...</td>\n",
       "      <td>162.6</td>\n",
       "      <td>104</td>\n",
       "      <td>7.32</td>\n",
       "      <td>12.2</td>\n",
       "      <td>5</td>\n",
       "      <td>3.29</td>\n",
       "      <td>0</td>\n",
       "      <td>0</td>\n",
       "      <td>0.72</td>\n",
       "      <td>False.</td>\n",
       "    </tr>\n",
       "    <tr>\n",
       "      <th>3</th>\n",
       "      <td>3</td>\n",
       "      <td>OH</td>\n",
       "      <td>84</td>\n",
       "      <td>408</td>\n",
       "      <td>yes</td>\n",
       "      <td>no</td>\n",
       "      <td>0</td>\n",
       "      <td>299.4</td>\n",
       "      <td>71</td>\n",
       "      <td>50.90</td>\n",
       "      <td>...</td>\n",
       "      <td>196.9</td>\n",
       "      <td>89</td>\n",
       "      <td>8.86</td>\n",
       "      <td>6.6</td>\n",
       "      <td>7</td>\n",
       "      <td>1.78</td>\n",
       "      <td>2</td>\n",
       "      <td>1</td>\n",
       "      <td>0.28</td>\n",
       "      <td>False.</td>\n",
       "    </tr>\n",
       "    <tr>\n",
       "      <th>4</th>\n",
       "      <td>4</td>\n",
       "      <td>OK</td>\n",
       "      <td>75</td>\n",
       "      <td>415</td>\n",
       "      <td>yes</td>\n",
       "      <td>no</td>\n",
       "      <td>0</td>\n",
       "      <td>166.7</td>\n",
       "      <td>113</td>\n",
       "      <td>28.34</td>\n",
       "      <td>...</td>\n",
       "      <td>186.9</td>\n",
       "      <td>121</td>\n",
       "      <td>8.41</td>\n",
       "      <td>10.1</td>\n",
       "      <td>3</td>\n",
       "      <td>2.73</td>\n",
       "      <td>3</td>\n",
       "      <td>2</td>\n",
       "      <td>0.45</td>\n",
       "      <td>False.</td>\n",
       "    </tr>\n",
       "    <tr>\n",
       "      <th>...</th>\n",
       "      <td>...</td>\n",
       "      <td>...</td>\n",
       "      <td>...</td>\n",
       "      <td>...</td>\n",
       "      <td>...</td>\n",
       "      <td>...</td>\n",
       "      <td>...</td>\n",
       "      <td>...</td>\n",
       "      <td>...</td>\n",
       "      <td>...</td>\n",
       "      <td>...</td>\n",
       "      <td>...</td>\n",
       "      <td>...</td>\n",
       "      <td>...</td>\n",
       "      <td>...</td>\n",
       "      <td>...</td>\n",
       "      <td>...</td>\n",
       "      <td>...</td>\n",
       "      <td>...</td>\n",
       "      <td>...</td>\n",
       "      <td>...</td>\n",
       "    </tr>\n",
       "    <tr>\n",
       "      <th>3328</th>\n",
       "      <td>3328</td>\n",
       "      <td>AZ</td>\n",
       "      <td>192</td>\n",
       "      <td>415</td>\n",
       "      <td>no</td>\n",
       "      <td>yes</td>\n",
       "      <td>36</td>\n",
       "      <td>156.2</td>\n",
       "      <td>77</td>\n",
       "      <td>26.55</td>\n",
       "      <td>...</td>\n",
       "      <td>279.1</td>\n",
       "      <td>83</td>\n",
       "      <td>12.56</td>\n",
       "      <td>9.9</td>\n",
       "      <td>6</td>\n",
       "      <td>2.67</td>\n",
       "      <td>2</td>\n",
       "      <td>2</td>\n",
       "      <td>0.59</td>\n",
       "      <td>False.</td>\n",
       "    </tr>\n",
       "    <tr>\n",
       "      <th>3329</th>\n",
       "      <td>3329</td>\n",
       "      <td>WV</td>\n",
       "      <td>68</td>\n",
       "      <td>415</td>\n",
       "      <td>no</td>\n",
       "      <td>no</td>\n",
       "      <td>0</td>\n",
       "      <td>231.1</td>\n",
       "      <td>57</td>\n",
       "      <td>39.29</td>\n",
       "      <td>...</td>\n",
       "      <td>191.3</td>\n",
       "      <td>123</td>\n",
       "      <td>8.61</td>\n",
       "      <td>9.6</td>\n",
       "      <td>4</td>\n",
       "      <td>2.59</td>\n",
       "      <td>3</td>\n",
       "      <td>2</td>\n",
       "      <td>0.32</td>\n",
       "      <td>False.</td>\n",
       "    </tr>\n",
       "    <tr>\n",
       "      <th>3330</th>\n",
       "      <td>3330</td>\n",
       "      <td>RI</td>\n",
       "      <td>28</td>\n",
       "      <td>510</td>\n",
       "      <td>no</td>\n",
       "      <td>no</td>\n",
       "      <td>0</td>\n",
       "      <td>180.8</td>\n",
       "      <td>109</td>\n",
       "      <td>30.74</td>\n",
       "      <td>...</td>\n",
       "      <td>191.9</td>\n",
       "      <td>91</td>\n",
       "      <td>8.64</td>\n",
       "      <td>14.1</td>\n",
       "      <td>6</td>\n",
       "      <td>3.81</td>\n",
       "      <td>2</td>\n",
       "      <td>1</td>\n",
       "      <td>0.47</td>\n",
       "      <td>False.</td>\n",
       "    </tr>\n",
       "    <tr>\n",
       "      <th>3331</th>\n",
       "      <td>3331</td>\n",
       "      <td>CT</td>\n",
       "      <td>184</td>\n",
       "      <td>510</td>\n",
       "      <td>yes</td>\n",
       "      <td>no</td>\n",
       "      <td>0</td>\n",
       "      <td>213.8</td>\n",
       "      <td>105</td>\n",
       "      <td>36.35</td>\n",
       "      <td>...</td>\n",
       "      <td>139.2</td>\n",
       "      <td>137</td>\n",
       "      <td>6.26</td>\n",
       "      <td>5.0</td>\n",
       "      <td>10</td>\n",
       "      <td>1.35</td>\n",
       "      <td>2</td>\n",
       "      <td>2</td>\n",
       "      <td>0.32</td>\n",
       "      <td>False.</td>\n",
       "    </tr>\n",
       "    <tr>\n",
       "      <th>3332</th>\n",
       "      <td>3332</td>\n",
       "      <td>TN</td>\n",
       "      <td>74</td>\n",
       "      <td>415</td>\n",
       "      <td>no</td>\n",
       "      <td>yes</td>\n",
       "      <td>25</td>\n",
       "      <td>234.4</td>\n",
       "      <td>113</td>\n",
       "      <td>39.85</td>\n",
       "      <td>...</td>\n",
       "      <td>241.4</td>\n",
       "      <td>77</td>\n",
       "      <td>10.86</td>\n",
       "      <td>13.7</td>\n",
       "      <td>4</td>\n",
       "      <td>3.70</td>\n",
       "      <td>0</td>\n",
       "      <td>0</td>\n",
       "      <td>0.45</td>\n",
       "      <td>False.</td>\n",
       "    </tr>\n",
       "  </tbody>\n",
       "</table>\n",
       "<p>3333 rows × 23 columns</p>\n",
       "</div>"
      ],
      "text/plain": [
       "      Unnamed: 0 state  account_length  area_code intl_plan vmail_plan  \\\n",
       "0              0    KS             128        415        no        yes   \n",
       "1              1    OH             107        415        no        yes   \n",
       "2              2    NJ             137        415        no         no   \n",
       "3              3    OH              84        408       yes         no   \n",
       "4              4    OK              75        415       yes         no   \n",
       "...          ...   ...             ...        ...       ...        ...   \n",
       "3328        3328    AZ             192        415        no        yes   \n",
       "3329        3329    WV              68        415        no         no   \n",
       "3330        3330    RI              28        510        no         no   \n",
       "3331        3331    CT             184        510       yes         no   \n",
       "3332        3332    TN              74        415        no        yes   \n",
       "\n",
       "      vmail_message  day_mins  day_calls  day_charge  ...  night_mins  \\\n",
       "0                25     265.1        110       45.07  ...       244.7   \n",
       "1                26     161.6        123       27.47  ...       254.4   \n",
       "2                 0     243.4        114       41.38  ...       162.6   \n",
       "3                 0     299.4         71       50.90  ...       196.9   \n",
       "4                 0     166.7        113       28.34  ...       186.9   \n",
       "...             ...       ...        ...         ...  ...         ...   \n",
       "3328             36     156.2         77       26.55  ...       279.1   \n",
       "3329              0     231.1         57       39.29  ...       191.3   \n",
       "3330              0     180.8        109       30.74  ...       191.9   \n",
       "3331              0     213.8        105       36.35  ...       139.2   \n",
       "3332             25     234.4        113       39.85  ...       241.4   \n",
       "\n",
       "      night_calls  night_charge  intl_mins  intl_calls  intl_charge  \\\n",
       "0              91         11.01       10.0           3         2.70   \n",
       "1             103         11.45       13.7           3         3.70   \n",
       "2             104          7.32       12.2           5         3.29   \n",
       "3              89          8.86        6.6           7         1.78   \n",
       "4             121          8.41       10.1           3         2.73   \n",
       "...           ...           ...        ...         ...          ...   \n",
       "3328           83         12.56        9.9           6         2.67   \n",
       "3329          123          8.61        9.6           4         2.59   \n",
       "3330           91          8.64       14.1           6         3.81   \n",
       "3331          137          6.26        5.0          10         1.35   \n",
       "3332           77         10.86       13.7           4         3.70   \n",
       "\n",
       "      custserv_calls  treatment  mes_estim   churn  \n",
       "0                  1          1       0.65  False.  \n",
       "1                  1          0       0.55  False.  \n",
       "2                  0          0       0.72  False.  \n",
       "3                  2          1       0.28  False.  \n",
       "4                  3          2       0.45  False.  \n",
       "...              ...        ...        ...     ...  \n",
       "3328               2          2       0.59  False.  \n",
       "3329               3          2       0.32  False.  \n",
       "3330               2          1       0.47  False.  \n",
       "3331               2          2       0.32  False.  \n",
       "3332               0          0       0.45  False.  \n",
       "\n",
       "[3333 rows x 23 columns]"
      ]
     },
     "execution_count": 79,
     "metadata": {},
     "output_type": "execute_result"
    }
   ],
   "source": [
    "data"
   ]
  },
  {
   "cell_type": "code",
   "execution_count": 3,
   "id": "93eb79e8",
   "metadata": {},
   "outputs": [],
   "source": [
    "data.drop(labels = ['Unnamed: 0'], axis = 1, inplace = True)"
   ]
  },
  {
   "cell_type": "code",
   "execution_count": 4,
   "id": "2e7e5099",
   "metadata": {},
   "outputs": [
    {
     "data": {
      "text/html": [
       "<div>\n",
       "<style scoped>\n",
       "    .dataframe tbody tr th:only-of-type {\n",
       "        vertical-align: middle;\n",
       "    }\n",
       "\n",
       "    .dataframe tbody tr th {\n",
       "        vertical-align: top;\n",
       "    }\n",
       "\n",
       "    .dataframe thead th {\n",
       "        text-align: right;\n",
       "    }\n",
       "</style>\n",
       "<table border=\"1\" class=\"dataframe\">\n",
       "  <thead>\n",
       "    <tr style=\"text-align: right;\">\n",
       "      <th></th>\n",
       "      <th>state</th>\n",
       "      <th>account_length</th>\n",
       "      <th>area_code</th>\n",
       "      <th>intl_plan</th>\n",
       "      <th>vmail_plan</th>\n",
       "      <th>vmail_message</th>\n",
       "      <th>day_mins</th>\n",
       "      <th>day_calls</th>\n",
       "      <th>day_charge</th>\n",
       "      <th>eve_mins</th>\n",
       "      <th>...</th>\n",
       "      <th>night_mins</th>\n",
       "      <th>night_calls</th>\n",
       "      <th>night_charge</th>\n",
       "      <th>intl_mins</th>\n",
       "      <th>intl_calls</th>\n",
       "      <th>intl_charge</th>\n",
       "      <th>custserv_calls</th>\n",
       "      <th>treatment</th>\n",
       "      <th>mes_estim</th>\n",
       "      <th>churn</th>\n",
       "    </tr>\n",
       "  </thead>\n",
       "  <tbody>\n",
       "    <tr>\n",
       "      <th>0</th>\n",
       "      <td>KS</td>\n",
       "      <td>128</td>\n",
       "      <td>415</td>\n",
       "      <td>no</td>\n",
       "      <td>yes</td>\n",
       "      <td>25</td>\n",
       "      <td>265.1</td>\n",
       "      <td>110</td>\n",
       "      <td>45.07</td>\n",
       "      <td>197.4</td>\n",
       "      <td>...</td>\n",
       "      <td>244.7</td>\n",
       "      <td>91</td>\n",
       "      <td>11.01</td>\n",
       "      <td>10.0</td>\n",
       "      <td>3</td>\n",
       "      <td>2.70</td>\n",
       "      <td>1</td>\n",
       "      <td>1</td>\n",
       "      <td>0.65</td>\n",
       "      <td>False.</td>\n",
       "    </tr>\n",
       "    <tr>\n",
       "      <th>1</th>\n",
       "      <td>OH</td>\n",
       "      <td>107</td>\n",
       "      <td>415</td>\n",
       "      <td>no</td>\n",
       "      <td>yes</td>\n",
       "      <td>26</td>\n",
       "      <td>161.6</td>\n",
       "      <td>123</td>\n",
       "      <td>27.47</td>\n",
       "      <td>195.5</td>\n",
       "      <td>...</td>\n",
       "      <td>254.4</td>\n",
       "      <td>103</td>\n",
       "      <td>11.45</td>\n",
       "      <td>13.7</td>\n",
       "      <td>3</td>\n",
       "      <td>3.70</td>\n",
       "      <td>1</td>\n",
       "      <td>0</td>\n",
       "      <td>0.55</td>\n",
       "      <td>False.</td>\n",
       "    </tr>\n",
       "    <tr>\n",
       "      <th>2</th>\n",
       "      <td>NJ</td>\n",
       "      <td>137</td>\n",
       "      <td>415</td>\n",
       "      <td>no</td>\n",
       "      <td>no</td>\n",
       "      <td>0</td>\n",
       "      <td>243.4</td>\n",
       "      <td>114</td>\n",
       "      <td>41.38</td>\n",
       "      <td>121.2</td>\n",
       "      <td>...</td>\n",
       "      <td>162.6</td>\n",
       "      <td>104</td>\n",
       "      <td>7.32</td>\n",
       "      <td>12.2</td>\n",
       "      <td>5</td>\n",
       "      <td>3.29</td>\n",
       "      <td>0</td>\n",
       "      <td>0</td>\n",
       "      <td>0.72</td>\n",
       "      <td>False.</td>\n",
       "    </tr>\n",
       "    <tr>\n",
       "      <th>3</th>\n",
       "      <td>OH</td>\n",
       "      <td>84</td>\n",
       "      <td>408</td>\n",
       "      <td>yes</td>\n",
       "      <td>no</td>\n",
       "      <td>0</td>\n",
       "      <td>299.4</td>\n",
       "      <td>71</td>\n",
       "      <td>50.90</td>\n",
       "      <td>61.9</td>\n",
       "      <td>...</td>\n",
       "      <td>196.9</td>\n",
       "      <td>89</td>\n",
       "      <td>8.86</td>\n",
       "      <td>6.6</td>\n",
       "      <td>7</td>\n",
       "      <td>1.78</td>\n",
       "      <td>2</td>\n",
       "      <td>1</td>\n",
       "      <td>0.28</td>\n",
       "      <td>False.</td>\n",
       "    </tr>\n",
       "    <tr>\n",
       "      <th>4</th>\n",
       "      <td>OK</td>\n",
       "      <td>75</td>\n",
       "      <td>415</td>\n",
       "      <td>yes</td>\n",
       "      <td>no</td>\n",
       "      <td>0</td>\n",
       "      <td>166.7</td>\n",
       "      <td>113</td>\n",
       "      <td>28.34</td>\n",
       "      <td>148.3</td>\n",
       "      <td>...</td>\n",
       "      <td>186.9</td>\n",
       "      <td>121</td>\n",
       "      <td>8.41</td>\n",
       "      <td>10.1</td>\n",
       "      <td>3</td>\n",
       "      <td>2.73</td>\n",
       "      <td>3</td>\n",
       "      <td>2</td>\n",
       "      <td>0.45</td>\n",
       "      <td>False.</td>\n",
       "    </tr>\n",
       "    <tr>\n",
       "      <th>...</th>\n",
       "      <td>...</td>\n",
       "      <td>...</td>\n",
       "      <td>...</td>\n",
       "      <td>...</td>\n",
       "      <td>...</td>\n",
       "      <td>...</td>\n",
       "      <td>...</td>\n",
       "      <td>...</td>\n",
       "      <td>...</td>\n",
       "      <td>...</td>\n",
       "      <td>...</td>\n",
       "      <td>...</td>\n",
       "      <td>...</td>\n",
       "      <td>...</td>\n",
       "      <td>...</td>\n",
       "      <td>...</td>\n",
       "      <td>...</td>\n",
       "      <td>...</td>\n",
       "      <td>...</td>\n",
       "      <td>...</td>\n",
       "      <td>...</td>\n",
       "    </tr>\n",
       "    <tr>\n",
       "      <th>3328</th>\n",
       "      <td>AZ</td>\n",
       "      <td>192</td>\n",
       "      <td>415</td>\n",
       "      <td>no</td>\n",
       "      <td>yes</td>\n",
       "      <td>36</td>\n",
       "      <td>156.2</td>\n",
       "      <td>77</td>\n",
       "      <td>26.55</td>\n",
       "      <td>215.5</td>\n",
       "      <td>...</td>\n",
       "      <td>279.1</td>\n",
       "      <td>83</td>\n",
       "      <td>12.56</td>\n",
       "      <td>9.9</td>\n",
       "      <td>6</td>\n",
       "      <td>2.67</td>\n",
       "      <td>2</td>\n",
       "      <td>2</td>\n",
       "      <td>0.59</td>\n",
       "      <td>False.</td>\n",
       "    </tr>\n",
       "    <tr>\n",
       "      <th>3329</th>\n",
       "      <td>WV</td>\n",
       "      <td>68</td>\n",
       "      <td>415</td>\n",
       "      <td>no</td>\n",
       "      <td>no</td>\n",
       "      <td>0</td>\n",
       "      <td>231.1</td>\n",
       "      <td>57</td>\n",
       "      <td>39.29</td>\n",
       "      <td>153.4</td>\n",
       "      <td>...</td>\n",
       "      <td>191.3</td>\n",
       "      <td>123</td>\n",
       "      <td>8.61</td>\n",
       "      <td>9.6</td>\n",
       "      <td>4</td>\n",
       "      <td>2.59</td>\n",
       "      <td>3</td>\n",
       "      <td>2</td>\n",
       "      <td>0.32</td>\n",
       "      <td>False.</td>\n",
       "    </tr>\n",
       "    <tr>\n",
       "      <th>3330</th>\n",
       "      <td>RI</td>\n",
       "      <td>28</td>\n",
       "      <td>510</td>\n",
       "      <td>no</td>\n",
       "      <td>no</td>\n",
       "      <td>0</td>\n",
       "      <td>180.8</td>\n",
       "      <td>109</td>\n",
       "      <td>30.74</td>\n",
       "      <td>288.8</td>\n",
       "      <td>...</td>\n",
       "      <td>191.9</td>\n",
       "      <td>91</td>\n",
       "      <td>8.64</td>\n",
       "      <td>14.1</td>\n",
       "      <td>6</td>\n",
       "      <td>3.81</td>\n",
       "      <td>2</td>\n",
       "      <td>1</td>\n",
       "      <td>0.47</td>\n",
       "      <td>False.</td>\n",
       "    </tr>\n",
       "    <tr>\n",
       "      <th>3331</th>\n",
       "      <td>CT</td>\n",
       "      <td>184</td>\n",
       "      <td>510</td>\n",
       "      <td>yes</td>\n",
       "      <td>no</td>\n",
       "      <td>0</td>\n",
       "      <td>213.8</td>\n",
       "      <td>105</td>\n",
       "      <td>36.35</td>\n",
       "      <td>159.6</td>\n",
       "      <td>...</td>\n",
       "      <td>139.2</td>\n",
       "      <td>137</td>\n",
       "      <td>6.26</td>\n",
       "      <td>5.0</td>\n",
       "      <td>10</td>\n",
       "      <td>1.35</td>\n",
       "      <td>2</td>\n",
       "      <td>2</td>\n",
       "      <td>0.32</td>\n",
       "      <td>False.</td>\n",
       "    </tr>\n",
       "    <tr>\n",
       "      <th>3332</th>\n",
       "      <td>TN</td>\n",
       "      <td>74</td>\n",
       "      <td>415</td>\n",
       "      <td>no</td>\n",
       "      <td>yes</td>\n",
       "      <td>25</td>\n",
       "      <td>234.4</td>\n",
       "      <td>113</td>\n",
       "      <td>39.85</td>\n",
       "      <td>265.9</td>\n",
       "      <td>...</td>\n",
       "      <td>241.4</td>\n",
       "      <td>77</td>\n",
       "      <td>10.86</td>\n",
       "      <td>13.7</td>\n",
       "      <td>4</td>\n",
       "      <td>3.70</td>\n",
       "      <td>0</td>\n",
       "      <td>0</td>\n",
       "      <td>0.45</td>\n",
       "      <td>False.</td>\n",
       "    </tr>\n",
       "  </tbody>\n",
       "</table>\n",
       "<p>3333 rows × 22 columns</p>\n",
       "</div>"
      ],
      "text/plain": [
       "     state  account_length  area_code intl_plan vmail_plan  vmail_message  \\\n",
       "0       KS             128        415        no        yes             25   \n",
       "1       OH             107        415        no        yes             26   \n",
       "2       NJ             137        415        no         no              0   \n",
       "3       OH              84        408       yes         no              0   \n",
       "4       OK              75        415       yes         no              0   \n",
       "...    ...             ...        ...       ...        ...            ...   \n",
       "3328    AZ             192        415        no        yes             36   \n",
       "3329    WV              68        415        no         no              0   \n",
       "3330    RI              28        510        no         no              0   \n",
       "3331    CT             184        510       yes         no              0   \n",
       "3332    TN              74        415        no        yes             25   \n",
       "\n",
       "      day_mins  day_calls  day_charge  eve_mins  ...  night_mins  night_calls  \\\n",
       "0        265.1        110       45.07     197.4  ...       244.7           91   \n",
       "1        161.6        123       27.47     195.5  ...       254.4          103   \n",
       "2        243.4        114       41.38     121.2  ...       162.6          104   \n",
       "3        299.4         71       50.90      61.9  ...       196.9           89   \n",
       "4        166.7        113       28.34     148.3  ...       186.9          121   \n",
       "...        ...        ...         ...       ...  ...         ...          ...   \n",
       "3328     156.2         77       26.55     215.5  ...       279.1           83   \n",
       "3329     231.1         57       39.29     153.4  ...       191.3          123   \n",
       "3330     180.8        109       30.74     288.8  ...       191.9           91   \n",
       "3331     213.8        105       36.35     159.6  ...       139.2          137   \n",
       "3332     234.4        113       39.85     265.9  ...       241.4           77   \n",
       "\n",
       "      night_charge  intl_mins  intl_calls  intl_charge  custserv_calls  \\\n",
       "0            11.01       10.0           3         2.70               1   \n",
       "1            11.45       13.7           3         3.70               1   \n",
       "2             7.32       12.2           5         3.29               0   \n",
       "3             8.86        6.6           7         1.78               2   \n",
       "4             8.41       10.1           3         2.73               3   \n",
       "...            ...        ...         ...          ...             ...   \n",
       "3328         12.56        9.9           6         2.67               2   \n",
       "3329          8.61        9.6           4         2.59               3   \n",
       "3330          8.64       14.1           6         3.81               2   \n",
       "3331          6.26        5.0          10         1.35               2   \n",
       "3332         10.86       13.7           4         3.70               0   \n",
       "\n",
       "      treatment  mes_estim   churn  \n",
       "0             1       0.65  False.  \n",
       "1             0       0.55  False.  \n",
       "2             0       0.72  False.  \n",
       "3             1       0.28  False.  \n",
       "4             2       0.45  False.  \n",
       "...         ...        ...     ...  \n",
       "3328          2       0.59  False.  \n",
       "3329          2       0.32  False.  \n",
       "3330          1       0.47  False.  \n",
       "3331          2       0.32  False.  \n",
       "3332          0       0.45  False.  \n",
       "\n",
       "[3333 rows x 22 columns]"
      ]
     },
     "execution_count": 4,
     "metadata": {},
     "output_type": "execute_result"
    }
   ],
   "source": [
    "data"
   ]
  },
  {
   "cell_type": "code",
   "execution_count": 50,
   "id": "d727457a",
   "metadata": {},
   "outputs": [],
   "source": [
    "data['is_churn'] = data['churn'] == 'True.'\n",
    "data_1 = data[data['treatment'] == 1]\n",
    "data_2 = data[data['treatment'] == 2]\n",
    "data_0 = data[data['treatment'] == 0]"
   ]
  },
  {
   "cell_type": "code",
   "execution_count": 70,
   "id": "a1c8f40f",
   "metadata": {},
   "outputs": [],
   "source": [
    "data_1_churn_rate = data_1['is_churn'].sum() / data_1.shape[0]\n",
    "data_2_churn_rate = data_2['is_churn'].sum() / data_2.shape[0]\n",
    "data_0_churn_rate = data_0['is_churn'].sum() / data_0.shape[0]"
   ]
  },
  {
   "cell_type": "code",
   "execution_count": 71,
   "id": "32e59b7d",
   "metadata": {},
   "outputs": [
    {
     "data": {
      "text/plain": [
       "0.1640838650865998"
      ]
     },
     "execution_count": 71,
     "metadata": {},
     "output_type": "execute_result"
    }
   ],
   "source": [
    "data_1_churn_rate"
   ]
  },
  {
   "cell_type": "code",
   "execution_count": 72,
   "id": "47f21455",
   "metadata": {},
   "outputs": [
    {
     "data": {
      "text/plain": [
       "0.12511332728921123"
      ]
     },
     "execution_count": 72,
     "metadata": {},
     "output_type": "execute_result"
    }
   ],
   "source": [
    "data_2_churn_rate"
   ]
  },
  {
   "cell_type": "code",
   "execution_count": 73,
   "id": "84ea2586",
   "metadata": {},
   "outputs": [
    {
     "data": {
      "text/plain": [
       "0.14563106796116504"
      ]
     },
     "execution_count": 73,
     "metadata": {},
     "output_type": "execute_result"
    }
   ],
   "source": [
    "data_0_churn_rate"
   ]
  },
  {
   "cell_type": "code",
   "execution_count": 67,
   "id": "ecb2cdf6",
   "metadata": {},
   "outputs": [
    {
     "data": {
      "text/plain": [
       "0.09993556015819599"
      ]
     },
     "execution_count": 67,
     "metadata": {},
     "output_type": "execute_result"
    }
   ],
   "source": [
    "stats.binom_test(data_0['is_churn'].sum(), data_0.shape[0], data_1_churn_rate, alternative = 'two-sided')"
   ]
  },
  {
   "cell_type": "code",
   "execution_count": 68,
   "id": "f0ed3abf",
   "metadata": {},
   "outputs": [
    {
     "data": {
      "text/plain": [
       "0.00034193543958821416"
      ]
     },
     "execution_count": 68,
     "metadata": {},
     "output_type": "execute_result"
    }
   ],
   "source": [
    "stats.binom_test(data_2['is_churn'].sum(), data_2.shape[0], data_1_churn_rate, alternative = 'two-sided')"
   ]
  },
  {
   "cell_type": "code",
   "execution_count": 69,
   "id": "807e9e49",
   "metadata": {},
   "outputs": [
    {
     "data": {
      "text/plain": [
       "0.05468162309253552"
      ]
     },
     "execution_count": 69,
     "metadata": {},
     "output_type": "execute_result"
    }
   ],
   "source": [
    "stats.binom_test(data_2['is_churn'].sum(), data_2.shape[0], data_0_churn_rate, alternative = 'two-sided')"
   ]
  },
  {
   "cell_type": "code",
   "execution_count": null,
   "id": "9a5e9203",
   "metadata": {},
   "outputs": [],
   "source": []
  },
  {
   "cell_type": "code",
   "execution_count": null,
   "id": "55eb58d7",
   "metadata": {},
   "outputs": [],
   "source": []
  },
  {
   "cell_type": "code",
   "execution_count": null,
   "id": "f6ba3f55",
   "metadata": {},
   "outputs": [],
   "source": [
    "def proportions_confint_diff_independant(suc1, len1, suc2, len2, alpha = 0.05):    \n",
    "    z = sps.norm.ppf(1 - alpha / 2.)   \n",
    "    p1 = suc1 / len1\n",
    "    p2 = suc2 / len2\n",
    "    \n",
    "    left_boundary = (p1 - p2) - z * np.sqrt(p1 * (1 - p1)/ len1 + p2 * (1 - p2)/ len2)\n",
    "    right_boundary = (p1 - p2) + z * np.sqrt(p1 * (1 - p1)/ len1 + p2 * (1 - p2)/ len2)\n",
    "    \n",
    "    return (left_boundary, right_boundary)\n",
    "\n",
    "proportions_confint_diff_independant(104, 11037, 189, 11034)"
   ]
  },
  {
   "cell_type": "code",
   "execution_count": null,
   "id": "750229a1",
   "metadata": {},
   "outputs": [],
   "source": []
  },
  {
   "cell_type": "code",
   "execution_count": null,
   "id": "e2ab719d",
   "metadata": {},
   "outputs": [],
   "source": []
  },
  {
   "cell_type": "code",
   "execution_count": null,
   "id": "4d2d6752",
   "metadata": {},
   "outputs": [],
   "source": []
  },
  {
   "cell_type": "code",
   "execution_count": null,
   "id": "c6f483ba",
   "metadata": {},
   "outputs": [],
   "source": []
  },
  {
   "cell_type": "code",
   "execution_count": 6,
   "id": "9b7ca0cf",
   "metadata": {},
   "outputs": [],
   "source": [
    "states = data_1['state'].unique()"
   ]
  },
  {
   "cell_type": "code",
   "execution_count": 9,
   "id": "a55458f6",
   "metadata": {},
   "outputs": [],
   "source": [
    "import scipy"
   ]
  },
  {
   "cell_type": "code",
   "execution_count": 96,
   "id": "f80fa96d",
   "metadata": {},
   "outputs": [
    {
     "name": "stdout",
     "output_type": "stream",
     "text": [
      "34\n"
     ]
    }
   ],
   "source": [
    "state_pairs = []\n",
    "num_colored = 0\n",
    "for state1 in states:\n",
    "    for state2 in states:\n",
    "        if state1 != state2 and set((state1, state2)) not in state_pairs:\n",
    "            subdata = data_1[data_1['state'].isin((state1, state2))]\n",
    "            state_pairs.append(set((state1, state2)))\n",
    "            obs = pd.crosstab(subdata['state'], subdata['churn'])\n",
    "            if scipy.stats.chi2_contingency(obs, correction=False)[1] <= 0.05:\n",
    "                num_colored += 1\n",
    "print(num_colored)"
   ]
  },
  {
   "cell_type": "code",
   "execution_count": 98,
   "id": "29e53eeb",
   "metadata": {},
   "outputs": [
    {
     "name": "stdout",
     "output_type": "stream",
     "text": [
      "0\n"
     ]
    }
   ],
   "source": [
    "state_pairs = []\n",
    "num_colored = 0\n",
    "for state1 in states:\n",
    "    for state2 in states:\n",
    "        if state1 != state2 and set((state1, state2)) not in state_pairs:\n",
    "            subdata = data_1[data_1['state'].isin((state1, state2))]\n",
    "            state_pairs.append(set((state1, state2)))\n",
    "            obs = pd.crosstab(subdata['state'], subdata['churn'])\n",
    "            if scipy.stats.chi2_contingency(obs, correction=True)[1] <= 0.05:\n",
    "                num_colored += 1\n",
    "print(num_colored)"
   ]
  },
  {
   "cell_type": "code",
   "execution_count": 11,
   "id": "9285f10b",
   "metadata": {},
   "outputs": [],
   "source": [
    "from scipy import stats"
   ]
  },
  {
   "cell_type": "code",
   "execution_count": 12,
   "id": "f696acf8",
   "metadata": {},
   "outputs": [
    {
     "name": "stdout",
     "output_type": "stream",
     "text": [
      "10\n"
     ]
    }
   ],
   "source": [
    "state_pairs = []\n",
    "num_colored = 0\n",
    "for state1 in states:\n",
    "    for state2 in states:\n",
    "        if state1 != state2 and set((state1, state2)) not in state_pairs:\n",
    "            subdata = data_1[data_1['state'].isin((state1, state2))]\n",
    "            state_pairs.append(set((state1, state2)))\n",
    "            obs = pd.crosstab(subdata['state'], subdata['churn'])\n",
    "            if stats.fisher_exact(obs)[1] <= 0.05:\n",
    "                num_colored += 1\n",
    "print(num_colored)"
   ]
  },
  {
   "cell_type": "code",
   "execution_count": 14,
   "id": "4c8d8694",
   "metadata": {},
   "outputs": [
    {
     "data": {
      "text/html": [
       "<div>\n",
       "<style scoped>\n",
       "    .dataframe tbody tr th:only-of-type {\n",
       "        vertical-align: middle;\n",
       "    }\n",
       "\n",
       "    .dataframe tbody tr th {\n",
       "        vertical-align: top;\n",
       "    }\n",
       "\n",
       "    .dataframe thead th {\n",
       "        text-align: right;\n",
       "    }\n",
       "</style>\n",
       "<table border=\"1\" class=\"dataframe\">\n",
       "  <thead>\n",
       "    <tr style=\"text-align: right;\">\n",
       "      <th></th>\n",
       "      <th>day_calls</th>\n",
       "      <th>mes_estim</th>\n",
       "    </tr>\n",
       "  </thead>\n",
       "  <tbody>\n",
       "    <tr>\n",
       "      <th>day_calls</th>\n",
       "      <td>1.000000</td>\n",
       "      <td>-0.051794</td>\n",
       "    </tr>\n",
       "    <tr>\n",
       "      <th>mes_estim</th>\n",
       "      <td>-0.051794</td>\n",
       "      <td>1.000000</td>\n",
       "    </tr>\n",
       "  </tbody>\n",
       "</table>\n",
       "</div>"
      ],
      "text/plain": [
       "           day_calls  mes_estim\n",
       "day_calls   1.000000  -0.051794\n",
       "mes_estim  -0.051794   1.000000"
      ]
     },
     "execution_count": 14,
     "metadata": {},
     "output_type": "execute_result"
    }
   ],
   "source": [
    "data[['day_calls', 'mes_estim']].corr()"
   ]
  },
  {
   "cell_type": "code",
   "execution_count": 18,
   "id": "a8c48e6e",
   "metadata": {},
   "outputs": [
    {
     "data": {
      "text/plain": [
       "(-0.051794350587572625, 0.0027798836869738384)"
      ]
     },
     "execution_count": 18,
     "metadata": {},
     "output_type": "execute_result"
    }
   ],
   "source": [
    "stats.pearsonr(data.day_calls, data.mes_estim)"
   ]
  },
  {
   "cell_type": "code",
   "execution_count": 19,
   "id": "e4dea0e2",
   "metadata": {},
   "outputs": [
    {
     "data": {
      "text/plain": [
       "SpearmanrResult(correlation=0.043349880533927444, pvalue=0.012317367189170541)"
      ]
     },
     "execution_count": 19,
     "metadata": {},
     "output_type": "execute_result"
    }
   ],
   "source": [
    "stats.spearmanr(data.day_calls, data.mes_estim)"
   ]
  },
  {
   "cell_type": "code",
   "execution_count": 23,
   "id": "c1f2decb",
   "metadata": {},
   "outputs": [
    {
     "data": {
      "text/plain": [
       "<AxesSubplot:xlabel='day_calls', ylabel='mes_estim'>"
      ]
     },
     "execution_count": 23,
     "metadata": {},
     "output_type": "execute_result"
    },
    {
     "data": {
      "image/png": "[encoded data removed]",
      "text/plain": [
       "<Figure size 432x288 with 1 Axes>"
      ]
     },
     "metadata": {
      "needs_background": "light"
     },
     "output_type": "display_data"
    }
   ],
   "source": [
    "data[['day_calls', 'mes_estim']].plot.scatter(x = 'day_calls', y = 'mes_estim')"
   ]
  },
  {
   "cell_type": "code",
   "execution_count": 26,
   "id": "f9d94f3f",
   "metadata": {},
   "outputs": [
    {
     "data": {
      "text/plain": [
       "((array([-3.5297919 , -3.28786833, -3.15418238, ...,  3.15418238,\n",
       "          3.28786833,  3.5297919 ]),\n",
       "  array([  0,   0,  30, ..., 160, 163, 165])),\n",
       " (20.063266290158996, 100.43564356435644, 0.998901696930284))"
      ]
     },
     "execution_count": 26,
     "metadata": {},
     "output_type": "execute_result"
    },
    {
     "data": {
      "image/png": "[encoded data removed]",
      "text/plain": [
       "<Figure size 432x288 with 1 Axes>"
      ]
     },
     "metadata": {
      "needs_background": "light"
     },
     "output_type": "display_data"
    }
   ],
   "source": [
    "probplot(data.day_calls, plot = plt)"
   ]
  },
  {
   "cell_type": "code",
   "execution_count": 27,
   "id": "305f9568",
   "metadata": {},
   "outputs": [
    {
     "data": {
      "text/plain": [
       "((array([-3.5297919 , -3.28786833, -3.15418238, ...,  3.15418238,\n",
       "          3.28786833,  3.5297919 ]),\n",
       "  array([0.05, 0.05, 0.05, ..., 0.89, 0.91, 0.96])),\n",
       " (0.1386170802069337, 0.4842364236423642, 0.9996050483985331))"
      ]
     },
     "execution_count": 27,
     "metadata": {},
     "output_type": "execute_result"
    },
    {
     "data": {
      "image/png": "[encoded data removed]",
      "text/plain": [
       "<Figure size 432x288 with 1 Axes>"
      ]
     },
     "metadata": {
      "needs_background": "light"
     },
     "output_type": "display_data"
    }
   ],
   "source": [
    "probplot(data.mes_estim, plot = plt)"
   ]
  },
  {
   "cell_type": "code",
   "execution_count": 28,
   "id": "7dbf1756",
   "metadata": {},
   "outputs": [
    {
     "data": {
      "text/plain": [
       "<AxesSubplot:xlabel='state', ylabel='churn'>"
      ]
     },
     "execution_count": 28,
     "metadata": {},
     "output_type": "execute_result"
    },
    {
     "data": {
      "image/png": "[encoded data removed]",
      "text/plain": [
       "<Figure size 432x288 with 1 Axes>"
      ]
     },
     "metadata": {
      "needs_background": "light"
     },
     "output_type": "display_data"
    }
   ],
   "source": [
    "data[['state', 'churn']].plot.scatter(x = 'state', y = 'churn')"
   ]
  },
  {
   "cell_type": "code",
   "execution_count": 31,
   "id": "aecc8e01",
   "metadata": {},
   "outputs": [],
   "source": [
    "def cramers_v(confusion_matrix):\n",
    "    if confusion_matrix.shape[0] == 1:\n",
    "        return 0\n",
    "    else:\n",
    "        n = confusion_matrix.sum().sum()\n",
    "        if n == 0:\n",
    "            return 0\n",
    "        chi2 = stats.chi2_contingency(confusion_matrix)[0]\n",
    "        phi2 = chi2 / n\n",
    "        r,k = confusion_matrix.shape\n",
    "        phi2corr = max(0, phi2 - ((k-1)*(r-1))/(n-1))    \n",
    "        rcorr = r - ((r-1)**2)/(n-1)\n",
    "        kcorr = k - ((k-1)**2)/(n-1)\n",
    "        return np.sqrt(phi2corr / min( (kcorr-1), (rcorr-1)))"
   ]
  },
  {
   "cell_type": "code",
   "execution_count": 32,
   "id": "33a9c550",
   "metadata": {},
   "outputs": [
    {
     "data": {
      "text/plain": [
       "0.09956204952446517"
      ]
     },
     "execution_count": 32,
     "metadata": {},
     "output_type": "execute_result"
    }
   ],
   "source": [
    "cramers_v(pd.crosstab(data.state, data.churn))"
   ]
  },
  {
   "cell_type": "code",
   "execution_count": 33,
   "id": "279e9ac2",
   "metadata": {},
   "outputs": [
    {
     "data": {
      "text/plain": [
       "51"
      ]
     },
     "execution_count": 33,
     "metadata": {},
     "output_type": "execute_result"
    }
   ],
   "source": [
    "data.state.nunique()"
   ]
  },
  {
   "cell_type": "code",
   "execution_count": 34,
   "id": "2646a34e",
   "metadata": {},
   "outputs": [],
   "source": [
    "from scipy.stats import chi2"
   ]
  },
  {
   "cell_type": "code",
   "execution_count": 35,
   "id": "44f43136",
   "metadata": {},
   "outputs": [],
   "source": [
    "x = chi2(52)"
   ]
  },
  {
   "cell_type": "code",
   "execution_count": 36,
   "id": "4e077fc1",
   "metadata": {},
   "outputs": [
    {
     "data": {
      "text/plain": [
       "2.7127854884738745e-61"
      ]
     },
     "execution_count": 36,
     "metadata": {},
     "output_type": "execute_result"
    }
   ],
   "source": [
    "x.cdf(0.099)"
   ]
  },
  {
   "cell_type": "code",
   "execution_count": 37,
   "id": "b51894e4",
   "metadata": {},
   "outputs": [],
   "source": [
    "cr = pd.crosstab(data.state, data.churn)"
   ]
  },
  {
   "cell_type": "code",
   "execution_count": 38,
   "id": "6918796a",
   "metadata": {},
   "outputs": [
    {
     "data": {
      "text/html": [
       "<div>\n",
       "<style scoped>\n",
       "    .dataframe tbody tr th:only-of-type {\n",
       "        vertical-align: middle;\n",
       "    }\n",
       "\n",
       "    .dataframe tbody tr th {\n",
       "        vertical-align: top;\n",
       "    }\n",
       "\n",
       "    .dataframe thead th {\n",
       "        text-align: right;\n",
       "    }\n",
       "</style>\n",
       "<table border=\"1\" class=\"dataframe\">\n",
       "  <thead>\n",
       "    <tr style=\"text-align: right;\">\n",
       "      <th>churn</th>\n",
       "      <th>False.</th>\n",
       "      <th>True.</th>\n",
       "    </tr>\n",
       "    <tr>\n",
       "      <th>state</th>\n",
       "      <th></th>\n",
       "      <th></th>\n",
       "    </tr>\n",
       "  </thead>\n",
       "  <tbody>\n",
       "    <tr>\n",
       "      <th>AK</th>\n",
       "      <td>49</td>\n",
       "      <td>3</td>\n",
       "    </tr>\n",
       "    <tr>\n",
       "      <th>AL</th>\n",
       "      <td>72</td>\n",
       "      <td>8</td>\n",
       "    </tr>\n",
       "    <tr>\n",
       "      <th>AR</th>\n",
       "      <td>44</td>\n",
       "      <td>11</td>\n",
       "    </tr>\n",
       "    <tr>\n",
       "      <th>AZ</th>\n",
       "      <td>60</td>\n",
       "      <td>4</td>\n",
       "    </tr>\n",
       "    <tr>\n",
       "      <th>CA</th>\n",
       "      <td>25</td>\n",
       "      <td>9</td>\n",
       "    </tr>\n",
       "    <tr>\n",
       "      <th>CO</th>\n",
       "      <td>57</td>\n",
       "      <td>9</td>\n",
       "    </tr>\n",
       "    <tr>\n",
       "      <th>CT</th>\n",
       "      <td>62</td>\n",
       "      <td>12</td>\n",
       "    </tr>\n",
       "    <tr>\n",
       "      <th>DC</th>\n",
       "      <td>49</td>\n",
       "      <td>5</td>\n",
       "    </tr>\n",
       "    <tr>\n",
       "      <th>DE</th>\n",
       "      <td>52</td>\n",
       "      <td>9</td>\n",
       "    </tr>\n",
       "    <tr>\n",
       "      <th>FL</th>\n",
       "      <td>55</td>\n",
       "      <td>8</td>\n",
       "    </tr>\n",
       "    <tr>\n",
       "      <th>GA</th>\n",
       "      <td>46</td>\n",
       "      <td>8</td>\n",
       "    </tr>\n",
       "    <tr>\n",
       "      <th>HI</th>\n",
       "      <td>50</td>\n",
       "      <td>3</td>\n",
       "    </tr>\n",
       "    <tr>\n",
       "      <th>IA</th>\n",
       "      <td>41</td>\n",
       "      <td>3</td>\n",
       "    </tr>\n",
       "    <tr>\n",
       "      <th>ID</th>\n",
       "      <td>64</td>\n",
       "      <td>9</td>\n",
       "    </tr>\n",
       "    <tr>\n",
       "      <th>IL</th>\n",
       "      <td>53</td>\n",
       "      <td>5</td>\n",
       "    </tr>\n",
       "    <tr>\n",
       "      <th>IN</th>\n",
       "      <td>62</td>\n",
       "      <td>9</td>\n",
       "    </tr>\n",
       "    <tr>\n",
       "      <th>KS</th>\n",
       "      <td>57</td>\n",
       "      <td>13</td>\n",
       "    </tr>\n",
       "    <tr>\n",
       "      <th>KY</th>\n",
       "      <td>51</td>\n",
       "      <td>8</td>\n",
       "    </tr>\n",
       "    <tr>\n",
       "      <th>LA</th>\n",
       "      <td>47</td>\n",
       "      <td>4</td>\n",
       "    </tr>\n",
       "    <tr>\n",
       "      <th>MA</th>\n",
       "      <td>54</td>\n",
       "      <td>11</td>\n",
       "    </tr>\n",
       "    <tr>\n",
       "      <th>MD</th>\n",
       "      <td>53</td>\n",
       "      <td>17</td>\n",
       "    </tr>\n",
       "    <tr>\n",
       "      <th>ME</th>\n",
       "      <td>49</td>\n",
       "      <td>13</td>\n",
       "    </tr>\n",
       "    <tr>\n",
       "      <th>MI</th>\n",
       "      <td>57</td>\n",
       "      <td>16</td>\n",
       "    </tr>\n",
       "    <tr>\n",
       "      <th>MN</th>\n",
       "      <td>69</td>\n",
       "      <td>15</td>\n",
       "    </tr>\n",
       "    <tr>\n",
       "      <th>MO</th>\n",
       "      <td>56</td>\n",
       "      <td>7</td>\n",
       "    </tr>\n",
       "    <tr>\n",
       "      <th>MS</th>\n",
       "      <td>51</td>\n",
       "      <td>14</td>\n",
       "    </tr>\n",
       "    <tr>\n",
       "      <th>MT</th>\n",
       "      <td>54</td>\n",
       "      <td>14</td>\n",
       "    </tr>\n",
       "    <tr>\n",
       "      <th>NC</th>\n",
       "      <td>57</td>\n",
       "      <td>11</td>\n",
       "    </tr>\n",
       "    <tr>\n",
       "      <th>ND</th>\n",
       "      <td>56</td>\n",
       "      <td>6</td>\n",
       "    </tr>\n",
       "    <tr>\n",
       "      <th>NE</th>\n",
       "      <td>56</td>\n",
       "      <td>5</td>\n",
       "    </tr>\n",
       "    <tr>\n",
       "      <th>NH</th>\n",
       "      <td>47</td>\n",
       "      <td>9</td>\n",
       "    </tr>\n",
       "    <tr>\n",
       "      <th>NJ</th>\n",
       "      <td>50</td>\n",
       "      <td>18</td>\n",
       "    </tr>\n",
       "    <tr>\n",
       "      <th>NM</th>\n",
       "      <td>56</td>\n",
       "      <td>6</td>\n",
       "    </tr>\n",
       "    <tr>\n",
       "      <th>NV</th>\n",
       "      <td>52</td>\n",
       "      <td>14</td>\n",
       "    </tr>\n",
       "    <tr>\n",
       "      <th>NY</th>\n",
       "      <td>68</td>\n",
       "      <td>15</td>\n",
       "    </tr>\n",
       "    <tr>\n",
       "      <th>OH</th>\n",
       "      <td>68</td>\n",
       "      <td>10</td>\n",
       "    </tr>\n",
       "    <tr>\n",
       "      <th>OK</th>\n",
       "      <td>52</td>\n",
       "      <td>9</td>\n",
       "    </tr>\n",
       "    <tr>\n",
       "      <th>OR</th>\n",
       "      <td>67</td>\n",
       "      <td>11</td>\n",
       "    </tr>\n",
       "    <tr>\n",
       "      <th>PA</th>\n",
       "      <td>37</td>\n",
       "      <td>8</td>\n",
       "    </tr>\n",
       "    <tr>\n",
       "      <th>RI</th>\n",
       "      <td>59</td>\n",
       "      <td>6</td>\n",
       "    </tr>\n",
       "    <tr>\n",
       "      <th>SC</th>\n",
       "      <td>46</td>\n",
       "      <td>14</td>\n",
       "    </tr>\n",
       "    <tr>\n",
       "      <th>SD</th>\n",
       "      <td>52</td>\n",
       "      <td>8</td>\n",
       "    </tr>\n",
       "    <tr>\n",
       "      <th>TN</th>\n",
       "      <td>48</td>\n",
       "      <td>5</td>\n",
       "    </tr>\n",
       "    <tr>\n",
       "      <th>TX</th>\n",
       "      <td>54</td>\n",
       "      <td>18</td>\n",
       "    </tr>\n",
       "    <tr>\n",
       "      <th>UT</th>\n",
       "      <td>62</td>\n",
       "      <td>10</td>\n",
       "    </tr>\n",
       "    <tr>\n",
       "      <th>VA</th>\n",
       "      <td>72</td>\n",
       "      <td>5</td>\n",
       "    </tr>\n",
       "    <tr>\n",
       "      <th>VT</th>\n",
       "      <td>65</td>\n",
       "      <td>8</td>\n",
       "    </tr>\n",
       "    <tr>\n",
       "      <th>WA</th>\n",
       "      <td>52</td>\n",
       "      <td>14</td>\n",
       "    </tr>\n",
       "    <tr>\n",
       "      <th>WI</th>\n",
       "      <td>71</td>\n",
       "      <td>7</td>\n",
       "    </tr>\n",
       "    <tr>\n",
       "      <th>WV</th>\n",
       "      <td>96</td>\n",
       "      <td>10</td>\n",
       "    </tr>\n",
       "    <tr>\n",
       "      <th>WY</th>\n",
       "      <td>68</td>\n",
       "      <td>9</td>\n",
       "    </tr>\n",
       "  </tbody>\n",
       "</table>\n",
       "</div>"
      ],
      "text/plain": [
       "churn  False.  True.\n",
       "state               \n",
       "AK         49      3\n",
       "AL         72      8\n",
       "AR         44     11\n",
       "AZ         60      4\n",
       "CA         25      9\n",
       "CO         57      9\n",
       "CT         62     12\n",
       "DC         49      5\n",
       "DE         52      9\n",
       "FL         55      8\n",
       "GA         46      8\n",
       "HI         50      3\n",
       "IA         41      3\n",
       "ID         64      9\n",
       "IL         53      5\n",
       "IN         62      9\n",
       "KS         57     13\n",
       "KY         51      8\n",
       "LA         47      4\n",
       "MA         54     11\n",
       "MD         53     17\n",
       "ME         49     13\n",
       "MI         57     16\n",
       "MN         69     15\n",
       "MO         56      7\n",
       "MS         51     14\n",
       "MT         54     14\n",
       "NC         57     11\n",
       "ND         56      6\n",
       "NE         56      5\n",
       "NH         47      9\n",
       "NJ         50     18\n",
       "NM         56      6\n",
       "NV         52     14\n",
       "NY         68     15\n",
       "OH         68     10\n",
       "OK         52      9\n",
       "OR         67     11\n",
       "PA         37      8\n",
       "RI         59      6\n",
       "SC         46     14\n",
       "SD         52      8\n",
       "TN         48      5\n",
       "TX         54     18\n",
       "UT         62     10\n",
       "VA         72      5\n",
       "VT         65      8\n",
       "WA         52     14\n",
       "WI         71      7\n",
       "WV         96     10\n",
       "WY         68      9"
      ]
     },
     "execution_count": 38,
     "metadata": {},
     "output_type": "execute_result"
    }
   ],
   "source": [
    "cr"
   ]
  },
  {
   "cell_type": "code",
   "execution_count": 40,
   "id": "1323530a",
   "metadata": {},
   "outputs": [
    {
     "data": {
      "text/plain": [
       "5"
      ]
     },
     "execution_count": 40,
     "metadata": {},
     "output_type": "execute_result"
    }
   ],
   "source": [
    "(cr['True.'].values < 5).sum()"
   ]
  },
  {
   "cell_type": "code",
   "execution_count": null,
   "id": "ad357c87",
   "metadata": {},
   "outputs": [],
   "source": []
  },
  {
   "cell_type": "code",
   "execution_count": null,
   "id": "036f219e",
   "metadata": {},
   "outputs": [],
   "source": []
  },
  {
   "cell_type": "code",
   "execution_count": null,
   "id": "fb567e39",
   "metadata": {},
   "outputs": [],
   "source": []
  },
  {
   "cell_type": "code",
   "execution_count": null,
   "id": "1bb8fdba",
   "metadata": {},
   "outputs": [],
   "source": []
  },
  {
   "cell_type": "code",
   "execution_count": null,
   "id": "492d7788",
   "metadata": {},
   "outputs": [],
   "source": []
  },
  {
   "cell_type": "code",
   "execution_count": null,
   "id": "52eacf47",
   "metadata": {},
   "outputs": [],
   "source": []
  },
  {
   "cell_type": "code",
   "execution_count": 1,
   "id": "07420275",
   "metadata": {},
   "outputs": [],
   "source": [
    "import pandas as pd\n",
    "import numpy as np"
   ]
  },
  {
   "cell_type": "code",
   "execution_count": 2,
   "id": "4ed8b034",
   "metadata": {},
   "outputs": [],
   "source": [
    "data = pd.read_csv('ab_browser_test.csv')"
   ]
  },
  {
   "cell_type": "code",
   "execution_count": 3,
   "id": "c5ab37a1",
   "metadata": {},
   "outputs": [],
   "source": [
    "data_exp = data[data['slot'] == 'exp']\n",
    "data_con = data[data['slot'] == 'control']"
   ]
  },
  {
   "cell_type": "code",
   "execution_count": 4,
   "id": "0ff5dca2",
   "metadata": {},
   "outputs": [],
   "source": [
    "exp_num_cl = data_exp['n_clicks'].sum()\n",
    "con_num_cl = data_con['n_clicks'].sum()"
   ]
  },
  {
   "cell_type": "code",
   "execution_count": 7,
   "id": "827e81f9",
   "metadata": {},
   "outputs": [
    {
     "data": {
      "text/plain": [
       "1.0161356898244158"
      ]
     },
     "execution_count": 7,
     "metadata": {},
     "output_type": "execute_result"
    }
   ],
   "source": [
    "exp_num_cl / con_num_cl"
   ]
  },
  {
   "cell_type": "code",
   "execution_count": 5,
   "id": "ab2fb577",
   "metadata": {},
   "outputs": [],
   "source": [
    "def get_bootstrap_samples(data, n_samples):\n",
    "    indices = np.random.randint(0, len(data), (n_samples, len(data)))\n",
    "    samples = data[indices]\n",
    "    return samples\n",
    "def stat_intervals(stat, alpha):\n",
    "    boundaries = np.percentile(stat, [100 * alpha / 2., 100 * (1 - alpha / 2.)])\n",
    "    return boundaries"
   ]
  },
  {
   "cell_type": "code",
   "execution_count": 6,
   "id": "549b23d4",
   "metadata": {},
   "outputs": [],
   "source": [
    "exp_cl = data_exp['n_clicks'].values\n",
    "con_cl = data_con['n_clicks'].values"
   ]
  },
  {
   "cell_type": "code",
   "execution_count": 9,
   "id": "bdd0d8be",
   "metadata": {},
   "outputs": [
    {
     "name": "stdout",
     "output_type": "stream",
     "text": [
      "95% confidence interval for the EXP median number of clicks: [5. 5.]\n",
      "95% confidence interval for the CON median number of clicks: [4. 4.]\n"
     ]
    }
   ],
   "source": [
    "np.random.seed(0)\n",
    "\n",
    "exp_median_scores = list(map(np.median, get_bootstrap_samples(exp_cl, 300)))\n",
    "con_median_scores = list(map(np.median, get_bootstrap_samples(con_cl, 300)))\n",
    "\n",
    "print(\"95% confidence interval for the EXP median number of clicks:\",  stat_intervals(exp_median_scores, 0.05))\n",
    "print(\"95% confidence interval for the CON median number of clicks:\",  stat_intervals(con_median_scores, 0.05))"
   ]
  },
  {
   "cell_type": "code",
   "execution_count": 8,
   "id": "34f34409",
   "metadata": {},
   "outputs": [
    {
     "name": "stdout",
     "output_type": "stream",
     "text": [
      "difference between medians: 1.0\n"
     ]
    }
   ],
   "source": [
    "print(\"difference between medians:\", np.median(exp_cl) - np.median(con_cl))"
   ]
  },
  {
   "cell_type": "code",
   "execution_count": 10,
   "id": "d5eaf2d9",
   "metadata": {},
   "outputs": [],
   "source": [
    "delta_median_scores = list(map(lambda x: x[1] - x[0], zip(exp_median_scores, con_median_scores)))"
   ]
  },
  {
   "cell_type": "code",
   "execution_count": 11,
   "id": "7ab3f822",
   "metadata": {
    "scrolled": true
   },
   "outputs": [
    {
     "name": "stdout",
     "output_type": "stream",
     "text": [
      "95% confidence interval for the difference between medians [-1. -1.]\n"
     ]
    }
   ],
   "source": [
    "print(\"95% confidence interval for the difference between medians\",  stat_intervals(delta_median_scores, 0.05))"
   ]
  },
  {
   "cell_type": "code",
   "execution_count": 23,
   "id": "dec2b569",
   "metadata": {},
   "outputs": [
    {
     "name": "stdout",
     "output_type": "stream",
     "text": [
      "95% confidence interval for the EXP median number of clicks: [11.50789349 11.66348063]\n",
      "95% confidence interval for the CON median number of clicks: [11.21054062 11.37136686]\n"
     ]
    }
   ],
   "source": [
    "np.random.seed(0)\n",
    "\n",
    "exp_mean_scores = list(map(np.mean, get_bootstrap_samples(exp_cl, 300)))\n",
    "con_mean_scores = list(map(np.mean, get_bootstrap_samples(con_cl, 300)))\n",
    "\n",
    "print(\"95% confidence interval for the EXP median number of clicks:\",  stat_intervals(exp_mean_scores, 0.05))\n",
    "print(\"95% confidence interval for the CON median number of clicks:\",  stat_intervals(con_mean_scores, 0.05))"
   ]
  },
  {
   "cell_type": "code",
   "execution_count": 25,
   "id": "91712705",
   "metadata": {},
   "outputs": [
    {
     "name": "stdout",
     "output_type": "stream",
     "text": [
      "difference between means: 0.3030947340656329\n"
     ]
    }
   ],
   "source": [
    "print(\"difference between means:\", np.mean(exp_cl) - np.mean(con_cl))"
   ]
  },
  {
   "cell_type": "code",
   "execution_count": 26,
   "id": "05d3ac1d",
   "metadata": {},
   "outputs": [],
   "source": [
    "delta_mean_scores = list(map(lambda x: x[1] - x[0], zip(exp_mean_scores, con_mean_scores)))"
   ]
  },
  {
   "cell_type": "code",
   "execution_count": 27,
   "id": "7f1be13f",
   "metadata": {},
   "outputs": [
    {
     "name": "stdout",
     "output_type": "stream",
     "text": [
      "95% confidence interval for the difference between means [-0.40446773 -0.20230151]\n"
     ]
    }
   ],
   "source": [
    "print(\"95% confidence interval for the difference between means\",  stat_intervals(delta_mean_scores, 0.05))"
   ]
  },
  {
   "cell_type": "code",
   "execution_count": null,
   "id": "bcce48a5",
   "metadata": {},
   "outputs": [],
   "source": []
  },
  {
   "cell_type": "code",
   "execution_count": 28,
   "id": "79fbd327",
   "metadata": {},
   "outputs": [],
   "source": [
    "n_boot_samples = 300"
   ]
  },
  {
   "cell_type": "code",
   "execution_count": 29,
   "id": "8771a4c8",
   "metadata": {},
   "outputs": [],
   "source": [
    "samples = get_bootstrap_samples(con_cl, n_boot_samples)"
   ]
  },
  {
   "cell_type": "code",
   "execution_count": 30,
   "id": "fb3d9f23",
   "metadata": {},
   "outputs": [],
   "source": [
    "means = list(map(np.mean, samples))"
   ]
  },
  {
   "cell_type": "code",
   "execution_count": 32,
   "id": "2a174739",
   "metadata": {},
   "outputs": [],
   "source": [
    "control_boot_chi_squared = []"
   ]
  },
  {
   "cell_type": "code",
   "execution_count": 33,
   "id": "a1c71253",
   "metadata": {},
   "outputs": [],
   "source": [
    "for i in range(n_boot_samples):\n",
    "    sum_sq = 0\n",
    "    for x in samples[i]:\n",
    "        sum_sq += (x - means[i])**2\n",
    "    control_boot_chi_squared.append(sum_sq)"
   ]
  },
  {
   "cell_type": "code",
   "execution_count": 25,
   "id": "0a404f3b",
   "metadata": {},
   "outputs": [],
   "source": [
    "from scipy.stats import probplot"
   ]
  },
  {
   "cell_type": "code",
   "execution_count": 24,
   "id": "23fd3b01",
   "metadata": {},
   "outputs": [],
   "source": [
    "import matplotlib.pyplot as plt"
   ]
  },
  {
   "cell_type": "code",
   "execution_count": 39,
   "id": "bacf8290",
   "metadata": {},
   "outputs": [
    {
     "data": {
      "text/plain": [
       "((array([-2.83270147, -2.5363011 , -2.36847471, -2.24887944, -2.15478411,\n",
       "         -2.07661294, -2.00938931, -1.95018201, -1.89711324, -1.84890481,\n",
       "         -1.80464581, -1.76366326, -1.72544529, -1.68959313, -1.65578984,\n",
       "         -1.62377915, -1.5933508 , -1.56433003, -1.53656998, -1.50994596,\n",
       "         -1.48435118, -1.45969344, -1.43589258, -1.41287842, -1.39058917,\n",
       "         -1.36897015, -1.34797267, -1.32755325, -1.30767283, -1.28829622,\n",
       "         -1.26939159, -1.25093005, -1.23288529, -1.21523328, -1.19795202,\n",
       "         -1.1810213 , -1.16442252, -1.1481385 , -1.13215338, -1.11645243,\n",
       "         -1.10102199, -1.08584934, -1.07092263, -1.0562308 , -1.04176348,\n",
       "         -1.02751099, -1.01346422, -0.99961462, -0.98595415, -0.97247524,\n",
       "         -0.95917073, -0.94603388, -0.93305829, -0.92023793, -0.90756706,\n",
       "         -0.89504026, -0.88265235, -0.87039844, -0.85827385, -0.84627414,\n",
       "         -0.83439507, -0.82263259, -0.81098284, -0.79944213, -0.78800692,\n",
       "         -0.77667384, -0.76543965, -0.75430125, -0.74325565, -0.73229999,\n",
       "         -0.72143154, -0.71064764, -0.69994576, -0.68932345, -0.67877835,\n",
       "         -0.66830821, -0.65791081, -0.64758406, -0.63732592, -0.6271344 ,\n",
       "         -0.61700761, -0.60694371, -0.59694091, -0.58699748, -0.57711175,\n",
       "         -0.56728211, -0.55750697, -0.54778482, -0.53811417, -0.52849359,\n",
       "         -0.51892168, -0.50939708, -0.49991847, -0.49048456, -0.4810941 ,\n",
       "         -0.47174588, -0.4624387 , -0.45317141, -0.44394288, -0.434752  ,\n",
       "         -0.42559771, -0.41647894, -0.40739467, -0.3983439 , -0.38932564,\n",
       "         -0.38033893, -0.37138284, -0.36245644, -0.35355883, -0.34468912,\n",
       "         -0.33584644, -0.32702995, -0.31823881, -0.30947219, -0.3007293 ,\n",
       "         -0.29200933, -0.28331151, -0.27463506, -0.26597925, -0.25734332,\n",
       "         -0.24872654, -0.24012818, -0.23154755, -0.22298393, -0.21443663,\n",
       "         -0.20590496, -0.19738826, -0.18888586, -0.18039708, -0.17192129,\n",
       "         -0.16345783, -0.15500606, -0.14656535, -0.13813507, -0.12971459,\n",
       "         -0.12130331, -0.11290059, -0.10450584, -0.09611845, -0.08773782,\n",
       "         -0.07936334, -0.07099442, -0.06263048, -0.05427091, -0.04591514,\n",
       "         -0.03756257, -0.02921261, -0.0208647 , -0.01251824, -0.00417265,\n",
       "          0.00417265,  0.01251824,  0.0208647 ,  0.02921261,  0.03756257,\n",
       "          0.04591514,  0.05427091,  0.06263048,  0.07099442,  0.07936334,\n",
       "          0.08773782,  0.09611845,  0.10450584,  0.11290059,  0.12130331,\n",
       "          0.12971459,  0.13813507,  0.14656535,  0.15500606,  0.16345783,\n",
       "          0.17192129,  0.18039708,  0.18888586,  0.19738826,  0.20590496,\n",
       "          0.21443663,  0.22298393,  0.23154755,  0.24012818,  0.24872654,\n",
       "          0.25734332,  0.26597925,  0.27463506,  0.28331151,  0.29200933,\n",
       "          0.3007293 ,  0.30947219,  0.31823881,  0.32702995,  0.33584644,\n",
       "          0.34468912,  0.35355883,  0.36245644,  0.37138284,  0.38033893,\n",
       "          0.38932564,  0.3983439 ,  0.40739467,  0.41647894,  0.42559771,\n",
       "          0.434752  ,  0.44394288,  0.45317141,  0.4624387 ,  0.47174588,\n",
       "          0.4810941 ,  0.49048456,  0.49991847,  0.50939708,  0.51892168,\n",
       "          0.52849359,  0.53811417,  0.54778482,  0.55750697,  0.56728211,\n",
       "          0.57711175,  0.58699748,  0.59694091,  0.60694371,  0.61700761,\n",
       "          0.6271344 ,  0.63732592,  0.64758406,  0.65791081,  0.66830821,\n",
       "          0.67877835,  0.68932345,  0.69994576,  0.71064764,  0.72143154,\n",
       "          0.73229999,  0.74325565,  0.75430125,  0.76543965,  0.77667384,\n",
       "          0.78800692,  0.79944213,  0.81098284,  0.82263259,  0.83439507,\n",
       "          0.84627414,  0.85827385,  0.87039844,  0.88265235,  0.89504026,\n",
       "          0.90756706,  0.92023793,  0.93305829,  0.94603388,  0.95917073,\n",
       "          0.97247524,  0.98595415,  0.99961462,  1.01346422,  1.02751099,\n",
       "          1.04176348,  1.0562308 ,  1.07092263,  1.08584934,  1.10102199,\n",
       "          1.11645243,  1.13215338,  1.1481385 ,  1.16442252,  1.1810213 ,\n",
       "          1.19795202,  1.21523328,  1.23288529,  1.25093005,  1.26939159,\n",
       "          1.28829622,  1.30767283,  1.32755325,  1.34797267,  1.36897015,\n",
       "          1.39058917,  1.41287842,  1.43589258,  1.45969344,  1.48435118,\n",
       "          1.50994596,  1.53656998,  1.56433003,  1.5933508 ,  1.62377915,\n",
       "          1.65578984,  1.68959313,  1.72544529,  1.76366326,  1.80464581,\n",
       "          1.84890481,  1.89711324,  1.95018201,  2.00938931,  2.07661294,\n",
       "          2.15478411,  2.24887944,  2.36847471,  2.5363011 ,  2.83270147]),\n",
       "  array([11.17110285, 11.1865305 , 11.18804515, 11.20020453, 11.20242906,\n",
       "         11.20260478, 11.20419323, 11.20428811, 11.20703979, 11.20779184,\n",
       "         11.21345333, 11.21357985, 11.21385045, 11.21478876, 11.21537564,\n",
       "         11.21598712, 11.21711872, 11.21764235, 11.218296  , 11.21989851,\n",
       "         11.22072436, 11.22295241, 11.22325815, 11.22390478, 11.22538429,\n",
       "         11.22613634, 11.22621014, 11.2264456 , 11.22681459, 11.22707114,\n",
       "         11.22845576, 11.22880367, 11.2293765 , 11.22977361, 11.23001258,\n",
       "         11.23045187, 11.23150263, 11.23199463, 11.2320614 , 11.23251474,\n",
       "         11.23251474, 11.23421565, 11.23621176, 11.23724144, 11.23732227,\n",
       "         11.23746284, 11.23884395, 11.2394484 , 11.2396206 , 11.23978226,\n",
       "         11.2406292 , 11.24150073, 11.24155696, 11.24160616, 11.24165888,\n",
       "         11.24345116, 11.2435601 , 11.24484984, 11.24490958, 11.24547889,\n",
       "         11.24564055, 11.2462942 , 11.24696894, 11.24701463, 11.24726063,\n",
       "         11.24765422, 11.24768585, 11.24817434, 11.2495449 , 11.24968547,\n",
       "         11.24981199, 11.25008259, 11.25013179, 11.25068353, 11.25103847,\n",
       "         11.25180106, 11.25194866, 11.25217358, 11.25378663, 11.25381826,\n",
       "         11.25384988, 11.25406425, 11.25444028, 11.25453868, 11.25577922,\n",
       "         11.25597602, 11.25666833, 11.25692487, 11.25728684, 11.2573009 ,\n",
       "         11.2578913 , 11.25792292, 11.25809512, 11.25814784, 11.25829895,\n",
       "         11.25862227, 11.2594446 , 11.25954652, 11.25956409, 11.25975386,\n",
       "         11.26029154, 11.26044969, 11.26131068, 11.26158128, 11.26193271,\n",
       "         11.26199597, 11.26207328, 11.26207679, 11.26219276, 11.26223845,\n",
       "         11.26250553, 11.26260745, 11.26359144, 11.2639253 , 11.26412913,\n",
       "         11.26538021, 11.26575624, 11.26612523, 11.26729549, 11.26759771,\n",
       "         11.26761529, 11.26772423, 11.26789291, 11.2680862 , 11.26878905,\n",
       "         11.26928456, 11.26949191, 11.27028965, 11.27114361, 11.27135447,\n",
       "         11.27135447, 11.27139664, 11.27174104, 11.27188864, 11.27281641,\n",
       "         11.27308349, 11.27353683, 11.27506554, 11.27527288, 11.27556457,\n",
       "         11.27580354, 11.27609874, 11.27655559, 11.27662588, 11.27774693,\n",
       "         11.27775396, 11.27841464, 11.27913155, 11.27927564, 11.27977466,\n",
       "         11.28066026, 11.28145449, 11.28170751, 11.28194297, 11.28310268,\n",
       "         11.28406208, 11.28415696, 11.28458219, 11.28466653, 11.28469464,\n",
       "         11.28565404, 11.2857911 , 11.2863815 , 11.28640961, 11.28648341,\n",
       "         11.28688052, 11.28717923, 11.28757635, 11.28816675, 11.28822297,\n",
       "         11.28858143, 11.288599  , 11.28924914, 11.28980088, 11.29004688,\n",
       "         11.29017691, 11.29050725, 11.29056348, 11.29059159, 11.29088679,\n",
       "         11.29117496, 11.29118199, 11.29132256, 11.2918989 , 11.2919973 ,\n",
       "         11.29227141, 11.29229601, 11.29242604, 11.29242956, 11.29262284,\n",
       "         11.29262987, 11.29299184, 11.29342058, 11.29402855, 11.29516717,\n",
       "         11.29531829, 11.2953464 , 11.29606331, 11.29607034, 11.29715977,\n",
       "         11.29727222, 11.29766231, 11.29857953, 11.29862522, 11.29871659,\n",
       "         11.29880444, 11.2991383 , 11.29919804, 11.29928941, 11.29942999,\n",
       "         11.29965138, 11.3001961 , 11.30042804, 11.30047724, 11.30096924,\n",
       "         11.30118361, 11.30212895, 11.30230114, 11.30271231, 11.30288451,\n",
       "         11.30311997, 11.30349248, 11.30369982, 11.30387554, 11.30497199,\n",
       "         11.30555536, 11.30555887, 11.30579082, 11.30610359, 11.3063285 ,\n",
       "         11.30680996, 11.30710164, 11.30768501, 11.30778341, 11.30817349,\n",
       "         11.30862332, 11.30894312, 11.30894312, 11.3094562 , 11.3098744 ,\n",
       "         11.31008877, 11.31185996, 11.31210948, 11.31225005, 11.31225356,\n",
       "         11.31256282, 11.31271393, 11.31300562, 11.31429535, 11.31464327,\n",
       "         11.31521609, 11.3160314 , 11.31633012, 11.31787991, 11.31822079,\n",
       "         11.31822431, 11.31832622, 11.31865656, 11.31990062, 11.31991116,\n",
       "         11.31991819, 11.32005524, 11.32145041, 11.32212164, 11.32212515,\n",
       "         11.32249063, 11.32449728, 11.32485925, 11.32779367, 11.32799047,\n",
       "         11.3286863 , 11.32879875, 11.32969489, 11.33164883, 11.33204945,\n",
       "         11.33327593, 11.33341299, 11.33387336, 11.33452701, 11.33631578,\n",
       "         11.33726112, 11.33764417, 11.33856843, 11.34330215, 11.34464109,\n",
       "         11.34475003, 11.34493277, 11.34509443, 11.34512254, 11.34557588,\n",
       "         11.34645445, 11.35334594, 11.35513822, 11.35548613, 11.35942914,\n",
       "         11.36263767, 11.36661934, 11.36964513, 11.37597433, 11.39335943])),\n",
       " (0.03870896013238984, 11.278713554076436, 0.9988248057322159))"
      ]
     },
     "execution_count": 39,
     "metadata": {},
     "output_type": "execute_result"
    },
    {
     "data": {
      "image/png": "[encoded data removed]",
      "text/plain": [
       "<Figure size 432x288 with 1 Axes>"
      ]
     },
     "metadata": {
      "needs_background": "light"
     },
     "output_type": "display_data"
    }
   ],
   "source": [
    "probplot(means, plot = plt)"
   ]
  },
  {
   "cell_type": "code",
   "execution_count": 41,
   "id": "4339efa3",
   "metadata": {},
   "outputs": [
    {
     "data": {
      "text/plain": [
       "((array([234.3945893 , 240.60296549, 244.16727199, 246.7289767 ,\n",
       "         248.75723032, 250.45079343, 251.91340466, 253.20637602,\n",
       "         254.36910001, 255.42845761, 256.40364847, 257.30888592,\n",
       "         258.15500017, 258.95044235, 259.70194001, 260.41494028,\n",
       "         261.09391861, 261.74259911, 262.36411558, 262.96113133,\n",
       "         263.53592983, 264.09048451, 264.62651308, 265.14552038,\n",
       "         265.6488326 , 266.1376248 , 266.61294334, 267.07572424,\n",
       "         267.5268084 , 267.96695418, 268.39684809, 268.81711362,\n",
       "         269.22831894, 269.63098328, 270.02558251, 270.41255389,\n",
       "         270.79230025, 271.16519354, 271.53157796, 271.89177272,\n",
       "         272.24607443, 272.59475924, 272.93808472, 273.27629151,\n",
       "         273.60960481, 273.9382357 , 274.26238232, 274.58223096,\n",
       "         274.89795698, 275.20972568, 275.51769306, 275.82200656,\n",
       "         276.12280569, 276.42022255, 276.71438245, 277.0054043 ,\n",
       "         277.29340111, 277.57848038, 277.86074445, 278.14029083,\n",
       "         278.41721256, 278.69159843, 278.96353331, 279.23309834,\n",
       "         279.50037117, 279.76542618, 280.02833468, 280.28916504,\n",
       "         280.54798292, 280.80485139, 281.05983108, 281.31298029,\n",
       "         281.56435517, 281.81400979, 282.06199627, 282.30836487,\n",
       "         282.55316409, 282.79644078, 283.03824018, 283.27860606,\n",
       "         283.51758072, 283.75520513, 283.99151896, 284.22656063,\n",
       "         284.46036742, 284.69297546, 284.92441983, 285.15473458,\n",
       "         285.38395281, 285.61210669, 285.83922748, 286.06534563,\n",
       "         286.29049076, 286.51469174, 286.73797668, 286.960373  ,\n",
       "         287.18190744, 287.4026061 , 287.62249446, 287.84159741,\n",
       "         288.05993928, 288.27754385, 288.49443438, 288.71063366,\n",
       "         288.92616397, 289.14104716, 289.35530465, 289.56895741,\n",
       "         289.78202604, 289.99453077, 290.20649142, 290.41792751,\n",
       "         290.6288582 , 290.83930232, 291.04927843, 291.25880477,\n",
       "         291.4678993 , 291.67657973, 291.88486352, 292.09276786,\n",
       "         292.30030974, 292.50750591, 292.71437292, 292.92092713,\n",
       "         293.12718469, 293.33316159, 293.53887365, 293.74433652,\n",
       "         293.94956571, 294.15457659, 294.35938438, 294.56400419,\n",
       "         294.76845102, 294.97273975, 295.17688516, 295.38090195,\n",
       "         295.58480472, 295.78860801, 295.99232628, 296.19597393,\n",
       "         296.3995653 , 296.60311469, 296.80663637, 297.01014455,\n",
       "         297.21365344, 297.41717721, 297.62073004, 297.82432608,\n",
       "         298.0279795 , 298.23170448, 298.4355152 , 298.63942587,\n",
       "         298.84345074, 299.04760407, 299.25190019, 299.45635348,\n",
       "         299.66097834, 299.86578929, 300.07080088, 300.27602776,\n",
       "         300.48148465, 300.68718638, 300.89314787, 301.09938416,\n",
       "         301.30591041, 301.51274188, 301.71989399, 301.92738229,\n",
       "         302.13522249, 302.34343044, 302.55202218, 302.76101391,\n",
       "         302.97042203, 303.18026313, 303.390554  , 303.60131166,\n",
       "         303.81255334, 304.02429651, 304.23655891, 304.44935852,\n",
       "         304.66271359, 304.87664266, 305.09116456, 305.30629845,\n",
       "         305.52206379, 305.73848039, 305.95556839, 306.17334834,\n",
       "         306.39184112, 306.61106805, 306.83105085, 307.05181166,\n",
       "         307.27337309, 307.49575822, 307.7189906 , 307.94309432,\n",
       "         308.16809397, 308.39401473, 308.62088233, 308.84872311,\n",
       "         309.07756406, 309.3074328 , 309.53835763, 309.7703676 ,\n",
       "         310.00349248, 310.23776281, 310.47320996, 310.70986614,\n",
       "         310.94776445, 311.18693892, 311.42742453, 311.66925729,\n",
       "         311.91247427, 312.15711363, 312.40321471, 312.65081805,\n",
       "         312.89996548, 313.15070015, 313.40306661, 313.65711088,\n",
       "         313.91288054, 314.17042475, 314.42979441, 314.69104219,\n",
       "         314.95422263, 315.21939228, 315.48660975, 315.75593586,\n",
       "         316.02743375, 316.30116901, 316.57720979, 316.855627  ,\n",
       "         317.13649442, 317.41988891, 317.70589053, 317.9945828 ,\n",
       "         318.28605289, 318.58039181, 318.8776947 , 319.17806107,\n",
       "         319.48159509, 319.78840589, 320.0986079 , 320.41232121,\n",
       "         320.72967198, 321.05079283, 321.37582334, 321.70491054,\n",
       "         322.0382095 , 322.37588388, 322.71810667, 323.06506088,\n",
       "         323.41694035, 323.77395069, 324.13631022, 324.50425109,\n",
       "         324.8780205 , 325.25788207, 325.64411732, 326.0370274 ,\n",
       "         326.43693496, 326.84418632, 327.25915387, 327.6822388 ,\n",
       "         328.11387418, 328.55452855, 329.00470988, 329.46497027,\n",
       "         329.93591127, 330.41819004, 330.91252654, 331.41971193,\n",
       "         331.9406184 , 332.47621081, 333.02756046, 333.59586157,\n",
       "         334.18245114, 334.78883292, 335.41670674, 336.06800465,\n",
       "         336.74493576, 337.45004265, 338.18627292, 338.95707121,\n",
       "         339.76649915, 340.61939404, 341.52158258, 342.48017414,\n",
       "         343.50397241, 344.60406803, 345.79471756, 347.09469368,\n",
       "         348.52944862, 350.13476382, 351.96331824, 354.09754165,\n",
       "         356.67778586, 359.97506286, 364.63572934, 372.96328666]),\n",
       "  array([1.11778485e+08, 1.12675664e+08, 1.12759174e+08, 1.12795044e+08,\n",
       "         1.12887457e+08, 1.12940988e+08, 1.13099837e+08, 1.13315685e+08,\n",
       "         1.13323106e+08, 1.13633297e+08, 1.13648567e+08, 1.13750887e+08,\n",
       "         1.13806693e+08, 1.13856657e+08, 1.14020378e+08, 1.14030067e+08,\n",
       "         1.14107757e+08, 1.14166218e+08, 1.14190004e+08, 1.14235854e+08,\n",
       "         1.14327229e+08, 1.14459389e+08, 1.14481137e+08, 1.14501503e+08,\n",
       "         1.14567181e+08, 1.14572041e+08, 1.14636874e+08, 1.14663841e+08,\n",
       "         1.14701173e+08, 1.14709546e+08, 1.14773399e+08, 1.14786322e+08,\n",
       "         1.14797022e+08, 1.14856509e+08, 1.14894477e+08, 1.14899326e+08,\n",
       "         1.14949992e+08, 1.14997146e+08, 1.15045869e+08, 1.15064099e+08,\n",
       "         1.15087117e+08, 1.15116219e+08, 1.15118270e+08, 1.15215192e+08,\n",
       "         1.15251262e+08, 1.15253358e+08, 1.15255251e+08, 1.15260241e+08,\n",
       "         1.15277109e+08, 1.15285871e+08, 1.15330871e+08, 1.15373623e+08,\n",
       "         1.15390139e+08, 1.15401602e+08, 1.15421448e+08, 1.15434298e+08,\n",
       "         1.15442415e+08, 1.15456021e+08, 1.15488286e+08, 1.15509397e+08,\n",
       "         1.15511929e+08, 1.15514386e+08, 1.15535145e+08, 1.15584594e+08,\n",
       "         1.15591489e+08, 1.15607771e+08, 1.15611484e+08, 1.15727224e+08,\n",
       "         1.15734936e+08, 1.15739079e+08, 1.15779397e+08, 1.15789348e+08,\n",
       "         1.15816923e+08, 1.15835060e+08, 1.15839217e+08, 1.15842284e+08,\n",
       "         1.15852423e+08, 1.15861174e+08, 1.15884158e+08, 1.15964286e+08,\n",
       "         1.15974906e+08, 1.15975291e+08, 1.15989834e+08, 1.15999038e+08,\n",
       "         1.16008792e+08, 1.16046653e+08, 1.16058226e+08, 1.16097667e+08,\n",
       "         1.16109120e+08, 1.16137767e+08, 1.16175890e+08, 1.16187858e+08,\n",
       "         1.16218069e+08, 1.16226492e+08, 1.16284765e+08, 1.16317631e+08,\n",
       "         1.16318084e+08, 1.16318506e+08, 1.16328462e+08, 1.16331297e+08,\n",
       "         1.16342643e+08, 1.16352651e+08, 1.16364047e+08, 1.16375037e+08,\n",
       "         1.16376298e+08, 1.16380846e+08, 1.16398621e+08, 1.16400984e+08,\n",
       "         1.16406583e+08, 1.16410056e+08, 1.16436097e+08, 1.16458113e+08,\n",
       "         1.16465985e+08, 1.16468510e+08, 1.16490080e+08, 1.16532573e+08,\n",
       "         1.16555717e+08, 1.16605893e+08, 1.16613034e+08, 1.16626712e+08,\n",
       "         1.16680200e+08, 1.16682870e+08, 1.16693299e+08, 1.16724271e+08,\n",
       "         1.16745535e+08, 1.16756524e+08, 1.16757338e+08, 1.16760614e+08,\n",
       "         1.16774428e+08, 1.16782864e+08, 1.16784958e+08, 1.16792279e+08,\n",
       "         1.16804006e+08, 1.16806114e+08, 1.16806236e+08, 1.16839258e+08,\n",
       "         1.16859684e+08, 1.16877309e+08, 1.16903017e+08, 1.16904087e+08,\n",
       "         1.16921875e+08, 1.16931488e+08, 1.16931976e+08, 1.16977065e+08,\n",
       "         1.16984092e+08, 1.16985265e+08, 1.16987184e+08, 1.17015022e+08,\n",
       "         1.17015196e+08, 1.17015935e+08, 1.17031385e+08, 1.17110106e+08,\n",
       "         1.17115229e+08, 1.17131956e+08, 1.17135964e+08, 1.17167880e+08,\n",
       "         1.17182889e+08, 1.17198344e+08, 1.17202670e+08, 1.17221797e+08,\n",
       "         1.17267229e+08, 1.17290047e+08, 1.17295422e+08, 1.17305618e+08,\n",
       "         1.17375598e+08, 1.17386103e+08, 1.17407217e+08, 1.17422507e+08,\n",
       "         1.17426302e+08, 1.17427814e+08, 1.17440559e+08, 1.17449995e+08,\n",
       "         1.17467435e+08, 1.17470497e+08, 1.17484310e+08, 1.17504259e+08,\n",
       "         1.17507166e+08, 1.17521285e+08, 1.17543200e+08, 1.17545683e+08,\n",
       "         1.17597824e+08, 1.17602415e+08, 1.17611578e+08, 1.17616291e+08,\n",
       "         1.17631535e+08, 1.17639487e+08, 1.17657581e+08, 1.17663439e+08,\n",
       "         1.17716065e+08, 1.17722471e+08, 1.17730028e+08, 1.17730981e+08,\n",
       "         1.17748328e+08, 1.17808145e+08, 1.17825402e+08, 1.17833384e+08,\n",
       "         1.17834043e+08, 1.17876287e+08, 1.17884396e+08, 1.17894176e+08,\n",
       "         1.17899073e+08, 1.17946710e+08, 1.17948847e+08, 1.17964723e+08,\n",
       "         1.17967483e+08, 1.18052954e+08, 1.18068351e+08, 1.18074107e+08,\n",
       "         1.18077570e+08, 1.18098267e+08, 1.18102105e+08, 1.18105746e+08,\n",
       "         1.18124686e+08, 1.18134554e+08, 1.18149723e+08, 1.18199868e+08,\n",
       "         1.18250592e+08, 1.18257189e+08, 1.18259015e+08, 1.18289252e+08,\n",
       "         1.18290323e+08, 1.18357714e+08, 1.18374435e+08, 1.18386718e+08,\n",
       "         1.18419971e+08, 1.18430094e+08, 1.18447914e+08, 1.18467609e+08,\n",
       "         1.18497908e+08, 1.18523793e+08, 1.18530708e+08, 1.18540793e+08,\n",
       "         1.18579446e+08, 1.18592988e+08, 1.18596265e+08, 1.18603352e+08,\n",
       "         1.18618482e+08, 1.18621719e+08, 1.18694222e+08, 1.18698764e+08,\n",
       "         1.18758288e+08, 1.18774634e+08, 1.18795866e+08, 1.18822198e+08,\n",
       "         1.18834714e+08, 1.18916793e+08, 1.18939043e+08, 1.18943132e+08,\n",
       "         1.18948204e+08, 1.18979403e+08, 1.18979469e+08, 1.18985298e+08,\n",
       "         1.18999333e+08, 1.19004200e+08, 1.19084129e+08, 1.19107922e+08,\n",
       "         1.19144951e+08, 1.19165752e+08, 1.19206510e+08, 1.19235266e+08,\n",
       "         1.19276926e+08, 1.19328497e+08, 1.19342341e+08, 1.19428358e+08,\n",
       "         1.19444812e+08, 1.19498147e+08, 1.19523832e+08, 1.19553046e+08,\n",
       "         1.19553291e+08, 1.19571310e+08, 1.19685537e+08, 1.19708413e+08,\n",
       "         1.19712710e+08, 1.19794767e+08, 1.19805751e+08, 1.19832362e+08,\n",
       "         1.19844344e+08, 1.19847833e+08, 1.19877482e+08, 1.20053493e+08,\n",
       "         1.20134572e+08, 1.20154101e+08, 1.20201865e+08, 1.20206715e+08,\n",
       "         1.20214197e+08, 1.20306802e+08, 1.20640422e+08, 1.20703510e+08,\n",
       "         1.20733397e+08, 1.21093138e+08, 1.21097536e+08, 1.21191069e+08,\n",
       "         1.21224169e+08, 1.21256341e+08, 1.21270373e+08, 1.21492598e+08,\n",
       "         1.21506524e+08, 1.21546099e+08, 1.23634072e+08, 1.24138226e+08])),\n",
       " (80060.76612193653, 93210400.86100787, 0.9980129065899246))"
      ]
     },
     "execution_count": 41,
     "metadata": {},
     "output_type": "execute_result"
    },
    {
     "data": {
      "image/png": "[encoded data removed]",
      "text/plain": [
       "<Figure size 432x288 with 1 Axes>"
      ]
     },
     "metadata": {
      "needs_background": "light"
     },
     "output_type": "display_data"
    }
   ],
   "source": [
    "probplot(control_boot_chi_squared, dist=\"chi2\", \n",
    "                     sparams=(n_boot_samples-1), plot=plt)"
   ]
  },
  {
   "cell_type": "code",
   "execution_count": 45,
   "id": "0a091435",
   "metadata": {},
   "outputs": [],
   "source": [
    "data_exp2 = data_exp.groupby(by = 'userID')['n_clicks'].sum()"
   ]
  },
  {
   "cell_type": "code",
   "execution_count": 46,
   "id": "ec4dcb12",
   "metadata": {},
   "outputs": [],
   "source": [
    "data_con2 = data_con.groupby(by = 'userID')['n_clicks'].sum()"
   ]
  },
  {
   "cell_type": "code",
   "execution_count": 48,
   "id": "1f2a6be0",
   "metadata": {},
   "outputs": [
    {
     "data": {
      "text/plain": [
       "userID\n",
       "1         23\n",
       "3          3\n",
       "5         29\n",
       "7         54\n",
       "9          6\n",
       "          ..\n",
       "603129     0\n",
       "603130     0\n",
       "603131     4\n",
       "603134     4\n",
       "603137     3\n",
       "Name: n_clicks, Length: 281450, dtype: int64"
      ]
     },
     "execution_count": 48,
     "metadata": {},
     "output_type": "execute_result"
    }
   ],
   "source": [
    "data_exp2"
   ]
  },
  {
   "cell_type": "markdown",
   "id": "e1f1664d",
   "metadata": {},
   "source": [
    "# Мана_Уитни\n",
    "$H_0\\colon F_{X_1}(x) = F_{X_2}(x)$\n",
    "\n",
    "$H_1\\colon F_{X_1}(x) = F_{X_2}(x + \\Delta), \\Delta\\neq 0$"
   ]
  },
  {
   "cell_type": "code",
   "execution_count": 47,
   "id": "8b5a94b6",
   "metadata": {},
   "outputs": [],
   "source": [
    "from scipy import stats"
   ]
  },
  {
   "cell_type": "code",
   "execution_count": 49,
   "id": "1c0c7a9a",
   "metadata": {},
   "outputs": [
    {
     "data": {
      "text/plain": [
       "MannwhitneyuResult(statistic=38901259929.0, pvalue=4.3471471887604393e-75)"
      ]
     },
     "execution_count": 49,
     "metadata": {},
     "output_type": "execute_result"
    }
   ],
   "source": [
    "stats.mannwhitneyu(data_exp2.values, data_con2.values)"
   ]
  },
  {
   "cell_type": "code",
   "execution_count": 51,
   "id": "d9071472",
   "metadata": {},
   "outputs": [
    {
     "data": {
      "text/plain": [
       "Browser #4     156833\n",
       "Browser #22    142905\n",
       "Browser #2     110737\n",
       "Browser #14     89123\n",
       "Browser #20     33929\n",
       "Browser #17     32607\n",
       "Name: browser, dtype: int64"
      ]
     },
     "execution_count": 51,
     "metadata": {},
     "output_type": "execute_result"
    }
   ],
   "source": [
    "data['browser'].value_counts()"
   ]
  },
  {
   "cell_type": "code",
   "execution_count": 53,
   "id": "6df5466a",
   "metadata": {},
   "outputs": [],
   "source": [
    "n_browsers = data['browser'].nunique()"
   ]
  },
  {
   "cell_type": "code",
   "execution_count": 54,
   "id": "d3f2309f",
   "metadata": {},
   "outputs": [],
   "source": [
    "browsers = data['browser'].unique()"
   ]
  },
  {
   "cell_type": "code",
   "execution_count": 55,
   "id": "508844ee",
   "metadata": {},
   "outputs": [],
   "source": [
    "browser_data = []\n",
    "for bro in browsers:\n",
    "    slice_data = data[data['browser'] == bro]\n",
    "    browser_data.append(slice_data)"
   ]
  },
  {
   "cell_type": "code",
   "execution_count": 57,
   "id": "cce3640a",
   "metadata": {},
   "outputs": [
    {
     "data": {
      "text/html": [
       "<div>\n",
       "<style scoped>\n",
       "    .dataframe tbody tr th:only-of-type {\n",
       "        vertical-align: middle;\n",
       "    }\n",
       "\n",
       "    .dataframe tbody tr th {\n",
       "        vertical-align: top;\n",
       "    }\n",
       "\n",
       "    .dataframe thead th {\n",
       "        text-align: right;\n",
       "    }\n",
       "</style>\n",
       "<table border=\"1\" class=\"dataframe\">\n",
       "  <thead>\n",
       "    <tr style=\"text-align: right;\">\n",
       "      <th></th>\n",
       "      <th>userID</th>\n",
       "      <th>browser</th>\n",
       "      <th>slot</th>\n",
       "      <th>n_clicks</th>\n",
       "      <th>n_queries</th>\n",
       "      <th>n_nonclk_queries</th>\n",
       "    </tr>\n",
       "  </thead>\n",
       "  <tbody>\n",
       "    <tr>\n",
       "      <th>0</th>\n",
       "      <td>1</td>\n",
       "      <td>Browser #2</td>\n",
       "      <td>exp</td>\n",
       "      <td>23</td>\n",
       "      <td>32</td>\n",
       "      <td>19</td>\n",
       "    </tr>\n",
       "    <tr>\n",
       "      <th>19</th>\n",
       "      <td>29</td>\n",
       "      <td>Browser #2</td>\n",
       "      <td>control</td>\n",
       "      <td>9</td>\n",
       "      <td>9</td>\n",
       "      <td>3</td>\n",
       "    </tr>\n",
       "    <tr>\n",
       "      <th>21</th>\n",
       "      <td>31</td>\n",
       "      <td>Browser #2</td>\n",
       "      <td>exp</td>\n",
       "      <td>7</td>\n",
       "      <td>12</td>\n",
       "      <td>6</td>\n",
       "    </tr>\n",
       "    <tr>\n",
       "      <th>22</th>\n",
       "      <td>32</td>\n",
       "      <td>Browser #2</td>\n",
       "      <td>control</td>\n",
       "      <td>3</td>\n",
       "      <td>5</td>\n",
       "      <td>3</td>\n",
       "    </tr>\n",
       "    <tr>\n",
       "      <th>28</th>\n",
       "      <td>38</td>\n",
       "      <td>Browser #2</td>\n",
       "      <td>exp</td>\n",
       "      <td>39</td>\n",
       "      <td>23</td>\n",
       "      <td>8</td>\n",
       "    </tr>\n",
       "    <tr>\n",
       "      <th>...</th>\n",
       "      <td>...</td>\n",
       "      <td>...</td>\n",
       "      <td>...</td>\n",
       "      <td>...</td>\n",
       "      <td>...</td>\n",
       "      <td>...</td>\n",
       "    </tr>\n",
       "    <tr>\n",
       "      <th>566113</th>\n",
       "      <td>603117</td>\n",
       "      <td>Browser #2</td>\n",
       "      <td>control</td>\n",
       "      <td>10</td>\n",
       "      <td>3</td>\n",
       "      <td>0</td>\n",
       "    </tr>\n",
       "    <tr>\n",
       "      <th>566123</th>\n",
       "      <td>603127</td>\n",
       "      <td>Browser #2</td>\n",
       "      <td>exp</td>\n",
       "      <td>0</td>\n",
       "      <td>1</td>\n",
       "      <td>1</td>\n",
       "    </tr>\n",
       "    <tr>\n",
       "      <th>566127</th>\n",
       "      <td>603131</td>\n",
       "      <td>Browser #2</td>\n",
       "      <td>exp</td>\n",
       "      <td>4</td>\n",
       "      <td>4</td>\n",
       "      <td>1</td>\n",
       "    </tr>\n",
       "    <tr>\n",
       "      <th>566130</th>\n",
       "      <td>603134</td>\n",
       "      <td>Browser #2</td>\n",
       "      <td>exp</td>\n",
       "      <td>4</td>\n",
       "      <td>2</td>\n",
       "      <td>0</td>\n",
       "    </tr>\n",
       "    <tr>\n",
       "      <th>566133</th>\n",
       "      <td>603137</td>\n",
       "      <td>Browser #2</td>\n",
       "      <td>exp</td>\n",
       "      <td>3</td>\n",
       "      <td>1</td>\n",
       "      <td>0</td>\n",
       "    </tr>\n",
       "  </tbody>\n",
       "</table>\n",
       "<p>110737 rows × 6 columns</p>\n",
       "</div>"
      ],
      "text/plain": [
       "        userID     browser     slot  n_clicks  n_queries  n_nonclk_queries\n",
       "0            1  Browser #2      exp        23         32                19\n",
       "19          29  Browser #2  control         9          9                 3\n",
       "21          31  Browser #2      exp         7         12                 6\n",
       "22          32  Browser #2  control         3          5                 3\n",
       "28          38  Browser #2      exp        39         23                 8\n",
       "...        ...         ...      ...       ...        ...               ...\n",
       "566113  603117  Browser #2  control        10          3                 0\n",
       "566123  603127  Browser #2      exp         0          1                 1\n",
       "566127  603131  Browser #2      exp         4          4                 1\n",
       "566130  603134  Browser #2      exp         4          2                 0\n",
       "566133  603137  Browser #2      exp         3          1                 0\n",
       "\n",
       "[110737 rows x 6 columns]"
      ]
     },
     "execution_count": 57,
     "metadata": {},
     "output_type": "execute_result"
    }
   ],
   "source": [
    "browser_data[0]"
   ]
  },
  {
   "cell_type": "code",
   "execution_count": 58,
   "id": "4854e0b4",
   "metadata": {},
   "outputs": [
    {
     "data": {
      "text/plain": [
       "0.008333333333333333"
      ]
     },
     "execution_count": 58,
     "metadata": {},
     "output_type": "execute_result"
    }
   ],
   "source": [
    "num_paiwises = n_browsers\n",
    "new_alpha = 0.05 / num_paiwises \n",
    "new_alpha"
   ]
  },
  {
   "cell_type": "code",
   "execution_count": 59,
   "id": "de15a081",
   "metadata": {},
   "outputs": [
    {
     "name": "stdout",
     "output_type": "stream",
     "text": [
      "0.0272438604197241\n",
      "0.40760617658454984\n",
      "0.0\n",
      "0.03740060143010802\n",
      "0.45366656388735377\n",
      "0.2574055152210032\n"
     ]
    }
   ],
   "source": [
    "for bro_data in browser_data:\n",
    "    con_data = bro_data[bro_data['slot'] == 'control']\n",
    "    exp_data = bro_data[bro_data['slot'] == 'exp']\n",
    "    print(stats.mannwhitneyu(con_data['n_clicks'].values, exp_data['n_clicks'].values)[1])"
   ]
  },
  {
   "cell_type": "code",
   "execution_count": 70,
   "id": "b650c5d9",
   "metadata": {},
   "outputs": [
    {
     "name": "stdout",
     "output_type": "stream",
     "text": [
      "45.96274717919465 44.982746948554706\n",
      "46.97092963514274 45.14294190358467\n",
      "57.59041136008114 43.755617361273295\n",
      "36.29936674628208 36.93741284866483\n",
      "40.540484743383296 38.97737648371716\n",
      "40.593976593513354 39.85394721969546\n"
     ]
    }
   ],
   "source": [
    "for bro_data in browser_data:\n",
    "    con_data = bro_data[bro_data['slot'] == 'control']\n",
    "    exp_data = bro_data[bro_data['slot'] == 'exp']\n",
    "    print(con_data['n_nonclk_queries'].sum() / con_data['n_queries'].sum() * 100, \\\n",
    "    exp_data['n_nonclk_queries'].sum() / exp_data['n_queries'].sum() * 100)"
   ]
  }
 ],
 "metadata": {
  "kernelspec": {
   "display_name": "Python 3",
   "language": "python",
   "name": "python3"
  },
  "language_info": {
   "codemirror_mode": {
    "name": "ipython",
    "version": 3
   },
   "file_extension": ".py",
   "mimetype": "text/x-python",
   "name": "python",
   "nbconvert_exporter": "python",
   "pygments_lexer": "ipython3",
   "version": "3.6.8"
  }
 },
 "nbformat": 4,
 "nbformat_minor": 5
}
